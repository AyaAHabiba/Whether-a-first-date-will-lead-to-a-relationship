{
 "cells": [
  {
   "cell_type": "markdown",
   "metadata": {
    "id": "tbNOM3REZLkr"
   },
   "source": [
    "# There is a problem 😧😧😧😧😧😧\n",
    "# What is it ?????? & What we should dooo??? \n",
    "\n",
    "\n",
    "\n"
   ]
  },
  {
   "cell_type": "markdown",
   "metadata": {
    "id": "sXZ41O4vXkQz"
   },
   "source": [
    "* Inputs:\n",
    "the input data representing the outcome of dating session according to there profiles.\n",
    "it contains of 191 features that represent each dating session\n",
    "The dataset has a lot of missing values which  we need to be processed\n",
    "*Outputs:\n",
    "the output is the probability (0-1, float) that the dating session will lead to a successful match. \n",
    "* Data mining:\n",
    "requires classification (as we predict match according to the features){ Generalization and Summarization,Association and Correlation,Clustering,Outlier/Anomaly Analysis,Classification & Prediction,Time and Ordering ,Structure and Network Analysis}\n",
    "* We will face some challenges as the null(missing)values, the duplications of the rows, some features that does not affect the target, the missclassification between data and of course it will need some feature selection \n",
    "* The impact: of  is that it can help businesses understand their customer\n",
    "baseline and try to meet customer requirements and satisfication\n",
    "* I think we may Fill the missing data with true value according to the result of hyperparamter tuning and the columns with large amout of data we should do one of the 2 options:\n",
    "1. drop the column if it does not affect our model\n",
    "2. to return to the customer and he will fill it"
   ]
  },
  {
   "cell_type": "markdown",
   "metadata": {
    "id": "S9B4noEGXj_z"
   },
   "source": [
    "# Experimental Protocol:\n",
    "we used Random search, grid search and baysien search to get the best hyperparameter to be able to use (our models :Random forest, XGBClassifier) to measure the auc/roc"
   ]
  },
  {
   "cell_type": "markdown",
   "metadata": {
    "id": "g5io7F1Hgu4e"
   },
   "source": [
    "#What preprocessing:\n",
    "1. view the data and understand it\n",
    "2. using df.info() to get more insight about the data\n",
    "3. check the missing data using df.isna().sum()\n",
    "4. convert all object columns to categorical column\n",
    "5. extracting numeric features and categorical features\n",
    "6. check the imbalancing and solve it\n",
    "7. define a pipeline for numeric feature preprocessing and apply StandardScaler \n",
    "8. define a pipeline for categorical feature preprocessing and apply OneHotEncoder\n",
    "9. using hyperparameter tuning, try to find:\n",
    "10. we did all of that to fill the missing data"
   ]
  },
  {
   "cell_type": "code",
   "execution_count": null,
   "metadata": {
    "id": "KgGzsW4YlrvD"
   },
   "outputs": [],
   "source": [
    "import numpy as np \n",
    "import pandas as pd"
   ]
  },
  {
   "cell_type": "markdown",
   "metadata": {
    "id": "KyjumtiiE5MT"
   },
   "source": [
    "# First, we will upload the train and test data (as usual 🤪🤪🤪🤪🤪🤪)"
   ]
  },
  {
   "cell_type": "code",
   "execution_count": null,
   "metadata": {
    "colab": {
     "base_uri": "https://localhost:8080/",
     "height": 300
    },
    "id": "wQGDWqjAmZf6",
    "outputId": "70da78d8-b3a3-4302-d56f-fd52517206c0"
   },
   "outputs": [
    {
     "data": {
      "text/html": [
       "<div>\n",
       "<style scoped>\n",
       "    .dataframe tbody tr th:only-of-type {\n",
       "        vertical-align: middle;\n",
       "    }\n",
       "\n",
       "    .dataframe tbody tr th {\n",
       "        vertical-align: top;\n",
       "    }\n",
       "\n",
       "    .dataframe thead th {\n",
       "        text-align: right;\n",
       "    }\n",
       "</style>\n",
       "<table border=\"1\" class=\"dataframe\">\n",
       "  <thead>\n",
       "    <tr style=\"text-align: right;\">\n",
       "      <th></th>\n",
       "      <th>gender</th>\n",
       "      <th>idg</th>\n",
       "      <th>condtn</th>\n",
       "      <th>wave</th>\n",
       "      <th>round</th>\n",
       "      <th>position</th>\n",
       "      <th>positin1</th>\n",
       "      <th>order</th>\n",
       "      <th>partner</th>\n",
       "      <th>pid</th>\n",
       "      <th>...</th>\n",
       "      <th>sinc3_3</th>\n",
       "      <th>intel3_3</th>\n",
       "      <th>fun3_3</th>\n",
       "      <th>amb3_3</th>\n",
       "      <th>attr5_3</th>\n",
       "      <th>sinc5_3</th>\n",
       "      <th>intel5_3</th>\n",
       "      <th>fun5_3</th>\n",
       "      <th>amb5_3</th>\n",
       "      <th>id</th>\n",
       "    </tr>\n",
       "  </thead>\n",
       "  <tbody>\n",
       "    <tr>\n",
       "      <th>0</th>\n",
       "      <td>0</td>\n",
       "      <td>3</td>\n",
       "      <td>2</td>\n",
       "      <td>14</td>\n",
       "      <td>18</td>\n",
       "      <td>2</td>\n",
       "      <td>2.0</td>\n",
       "      <td>14</td>\n",
       "      <td>12</td>\n",
       "      <td>372.0</td>\n",
       "      <td>...</td>\n",
       "      <td>NaN</td>\n",
       "      <td>NaN</td>\n",
       "      <td>NaN</td>\n",
       "      <td>NaN</td>\n",
       "      <td>NaN</td>\n",
       "      <td>NaN</td>\n",
       "      <td>NaN</td>\n",
       "      <td>NaN</td>\n",
       "      <td>NaN</td>\n",
       "      <td>2583</td>\n",
       "    </tr>\n",
       "    <tr>\n",
       "      <th>1</th>\n",
       "      <td>1</td>\n",
       "      <td>14</td>\n",
       "      <td>1</td>\n",
       "      <td>3</td>\n",
       "      <td>10</td>\n",
       "      <td>2</td>\n",
       "      <td>NaN</td>\n",
       "      <td>8</td>\n",
       "      <td>8</td>\n",
       "      <td>63.0</td>\n",
       "      <td>...</td>\n",
       "      <td>8.0</td>\n",
       "      <td>8.0</td>\n",
       "      <td>7.0</td>\n",
       "      <td>8.0</td>\n",
       "      <td>NaN</td>\n",
       "      <td>NaN</td>\n",
       "      <td>NaN</td>\n",
       "      <td>NaN</td>\n",
       "      <td>NaN</td>\n",
       "      <td>6830</td>\n",
       "    </tr>\n",
       "    <tr>\n",
       "      <th>2</th>\n",
       "      <td>1</td>\n",
       "      <td>14</td>\n",
       "      <td>1</td>\n",
       "      <td>13</td>\n",
       "      <td>10</td>\n",
       "      <td>8</td>\n",
       "      <td>8.0</td>\n",
       "      <td>10</td>\n",
       "      <td>10</td>\n",
       "      <td>331.0</td>\n",
       "      <td>...</td>\n",
       "      <td>NaN</td>\n",
       "      <td>NaN</td>\n",
       "      <td>NaN</td>\n",
       "      <td>NaN</td>\n",
       "      <td>NaN</td>\n",
       "      <td>NaN</td>\n",
       "      <td>NaN</td>\n",
       "      <td>NaN</td>\n",
       "      <td>NaN</td>\n",
       "      <td>4840</td>\n",
       "    </tr>\n",
       "    <tr>\n",
       "      <th>3</th>\n",
       "      <td>1</td>\n",
       "      <td>38</td>\n",
       "      <td>2</td>\n",
       "      <td>9</td>\n",
       "      <td>20</td>\n",
       "      <td>18</td>\n",
       "      <td>13.0</td>\n",
       "      <td>6</td>\n",
       "      <td>7</td>\n",
       "      <td>200.0</td>\n",
       "      <td>...</td>\n",
       "      <td>9.0</td>\n",
       "      <td>8.0</td>\n",
       "      <td>8.0</td>\n",
       "      <td>6.0</td>\n",
       "      <td>NaN</td>\n",
       "      <td>NaN</td>\n",
       "      <td>NaN</td>\n",
       "      <td>NaN</td>\n",
       "      <td>NaN</td>\n",
       "      <td>5508</td>\n",
       "    </tr>\n",
       "    <tr>\n",
       "      <th>4</th>\n",
       "      <td>1</td>\n",
       "      <td>24</td>\n",
       "      <td>2</td>\n",
       "      <td>14</td>\n",
       "      <td>20</td>\n",
       "      <td>6</td>\n",
       "      <td>6.0</td>\n",
       "      <td>20</td>\n",
       "      <td>17</td>\n",
       "      <td>357.0</td>\n",
       "      <td>...</td>\n",
       "      <td>NaN</td>\n",
       "      <td>NaN</td>\n",
       "      <td>NaN</td>\n",
       "      <td>NaN</td>\n",
       "      <td>NaN</td>\n",
       "      <td>NaN</td>\n",
       "      <td>NaN</td>\n",
       "      <td>NaN</td>\n",
       "      <td>NaN</td>\n",
       "      <td>4828</td>\n",
       "    </tr>\n",
       "  </tbody>\n",
       "</table>\n",
       "<p>5 rows × 192 columns</p>\n",
       "</div>"
      ],
      "text/plain": [
       "   gender  idg  condtn  wave  round  position  positin1  order  partner  \\\n",
       "0       0    3       2    14     18         2       2.0     14       12   \n",
       "1       1   14       1     3     10         2       NaN      8        8   \n",
       "2       1   14       1    13     10         8       8.0     10       10   \n",
       "3       1   38       2     9     20        18      13.0      6        7   \n",
       "4       1   24       2    14     20         6       6.0     20       17   \n",
       "\n",
       "     pid  ...  sinc3_3  intel3_3  fun3_3  amb3_3  attr5_3  sinc5_3  intel5_3  \\\n",
       "0  372.0  ...      NaN       NaN     NaN     NaN      NaN      NaN       NaN   \n",
       "1   63.0  ...      8.0       8.0     7.0     8.0      NaN      NaN       NaN   \n",
       "2  331.0  ...      NaN       NaN     NaN     NaN      NaN      NaN       NaN   \n",
       "3  200.0  ...      9.0       8.0     8.0     6.0      NaN      NaN       NaN   \n",
       "4  357.0  ...      NaN       NaN     NaN     NaN      NaN      NaN       NaN   \n",
       "\n",
       "   fun5_3  amb5_3    id  \n",
       "0     NaN     NaN  2583  \n",
       "1     NaN     NaN  6830  \n",
       "2     NaN     NaN  4840  \n",
       "3     NaN     NaN  5508  \n",
       "4     NaN     NaN  4828  \n",
       "\n",
       "[5 rows x 192 columns]"
      ]
     },
     "execution_count": 2,
     "metadata": {},
     "output_type": "execute_result"
    }
   ],
   "source": [
    "train_data=pd.read_csv('train.csv')\n",
    "train_data.head()"
   ]
  },
  {
   "cell_type": "code",
   "execution_count": null,
   "metadata": {
    "colab": {
     "base_uri": "https://localhost:8080/",
     "height": 300
    },
    "id": "6662FjnhmaSl",
    "outputId": "aa381ff9-f5b8-417e-e808-d949e52d5882"
   },
   "outputs": [
    {
     "data": {
      "text/html": [
       "<div>\n",
       "<style scoped>\n",
       "    .dataframe tbody tr th:only-of-type {\n",
       "        vertical-align: middle;\n",
       "    }\n",
       "\n",
       "    .dataframe tbody tr th {\n",
       "        vertical-align: top;\n",
       "    }\n",
       "\n",
       "    .dataframe thead th {\n",
       "        text-align: right;\n",
       "    }\n",
       "</style>\n",
       "<table border=\"1\" class=\"dataframe\">\n",
       "  <thead>\n",
       "    <tr style=\"text-align: right;\">\n",
       "      <th></th>\n",
       "      <th>gender</th>\n",
       "      <th>idg</th>\n",
       "      <th>condtn</th>\n",
       "      <th>wave</th>\n",
       "      <th>round</th>\n",
       "      <th>position</th>\n",
       "      <th>positin1</th>\n",
       "      <th>order</th>\n",
       "      <th>partner</th>\n",
       "      <th>pid</th>\n",
       "      <th>...</th>\n",
       "      <th>sinc3_3</th>\n",
       "      <th>intel3_3</th>\n",
       "      <th>fun3_3</th>\n",
       "      <th>amb3_3</th>\n",
       "      <th>attr5_3</th>\n",
       "      <th>sinc5_3</th>\n",
       "      <th>intel5_3</th>\n",
       "      <th>fun5_3</th>\n",
       "      <th>amb5_3</th>\n",
       "      <th>id</th>\n",
       "    </tr>\n",
       "  </thead>\n",
       "  <tbody>\n",
       "    <tr>\n",
       "      <th>0</th>\n",
       "      <td>0</td>\n",
       "      <td>5</td>\n",
       "      <td>2</td>\n",
       "      <td>2</td>\n",
       "      <td>16</td>\n",
       "      <td>3</td>\n",
       "      <td>NaN</td>\n",
       "      <td>13</td>\n",
       "      <td>13</td>\n",
       "      <td>52.0</td>\n",
       "      <td>...</td>\n",
       "      <td>7.0</td>\n",
       "      <td>8.0</td>\n",
       "      <td>6.0</td>\n",
       "      <td>8.0</td>\n",
       "      <td>NaN</td>\n",
       "      <td>NaN</td>\n",
       "      <td>NaN</td>\n",
       "      <td>NaN</td>\n",
       "      <td>NaN</td>\n",
       "      <td>934</td>\n",
       "    </tr>\n",
       "    <tr>\n",
       "      <th>1</th>\n",
       "      <td>0</td>\n",
       "      <td>33</td>\n",
       "      <td>2</td>\n",
       "      <td>14</td>\n",
       "      <td>18</td>\n",
       "      <td>6</td>\n",
       "      <td>6.0</td>\n",
       "      <td>4</td>\n",
       "      <td>8</td>\n",
       "      <td>368.0</td>\n",
       "      <td>...</td>\n",
       "      <td>8.0</td>\n",
       "      <td>7.0</td>\n",
       "      <td>7.0</td>\n",
       "      <td>8.0</td>\n",
       "      <td>6.0</td>\n",
       "      <td>7.0</td>\n",
       "      <td>6.0</td>\n",
       "      <td>5.0</td>\n",
       "      <td>5.0</td>\n",
       "      <td>6539</td>\n",
       "    </tr>\n",
       "    <tr>\n",
       "      <th>2</th>\n",
       "      <td>1</td>\n",
       "      <td>6</td>\n",
       "      <td>2</td>\n",
       "      <td>9</td>\n",
       "      <td>20</td>\n",
       "      <td>10</td>\n",
       "      <td>16.0</td>\n",
       "      <td>15</td>\n",
       "      <td>19</td>\n",
       "      <td>212.0</td>\n",
       "      <td>...</td>\n",
       "      <td>NaN</td>\n",
       "      <td>NaN</td>\n",
       "      <td>NaN</td>\n",
       "      <td>NaN</td>\n",
       "      <td>NaN</td>\n",
       "      <td>NaN</td>\n",
       "      <td>NaN</td>\n",
       "      <td>NaN</td>\n",
       "      <td>NaN</td>\n",
       "      <td>6757</td>\n",
       "    </tr>\n",
       "    <tr>\n",
       "      <th>3</th>\n",
       "      <td>1</td>\n",
       "      <td>26</td>\n",
       "      <td>2</td>\n",
       "      <td>2</td>\n",
       "      <td>19</td>\n",
       "      <td>15</td>\n",
       "      <td>NaN</td>\n",
       "      <td>8</td>\n",
       "      <td>10</td>\n",
       "      <td>30.0</td>\n",
       "      <td>...</td>\n",
       "      <td>NaN</td>\n",
       "      <td>NaN</td>\n",
       "      <td>NaN</td>\n",
       "      <td>NaN</td>\n",
       "      <td>NaN</td>\n",
       "      <td>NaN</td>\n",
       "      <td>NaN</td>\n",
       "      <td>NaN</td>\n",
       "      <td>NaN</td>\n",
       "      <td>2275</td>\n",
       "    </tr>\n",
       "    <tr>\n",
       "      <th>4</th>\n",
       "      <td>0</td>\n",
       "      <td>29</td>\n",
       "      <td>2</td>\n",
       "      <td>7</td>\n",
       "      <td>16</td>\n",
       "      <td>7</td>\n",
       "      <td>7.0</td>\n",
       "      <td>10</td>\n",
       "      <td>5</td>\n",
       "      <td>162.0</td>\n",
       "      <td>...</td>\n",
       "      <td>NaN</td>\n",
       "      <td>NaN</td>\n",
       "      <td>NaN</td>\n",
       "      <td>NaN</td>\n",
       "      <td>NaN</td>\n",
       "      <td>NaN</td>\n",
       "      <td>NaN</td>\n",
       "      <td>NaN</td>\n",
       "      <td>NaN</td>\n",
       "      <td>1052</td>\n",
       "    </tr>\n",
       "  </tbody>\n",
       "</table>\n",
       "<p>5 rows × 191 columns</p>\n",
       "</div>"
      ],
      "text/plain": [
       "   gender  idg  condtn  wave  round  position  positin1  order  partner  \\\n",
       "0       0    5       2     2     16         3       NaN     13       13   \n",
       "1       0   33       2    14     18         6       6.0      4        8   \n",
       "2       1    6       2     9     20        10      16.0     15       19   \n",
       "3       1   26       2     2     19        15       NaN      8       10   \n",
       "4       0   29       2     7     16         7       7.0     10        5   \n",
       "\n",
       "     pid  ...  sinc3_3  intel3_3  fun3_3  amb3_3  attr5_3  sinc5_3  intel5_3  \\\n",
       "0   52.0  ...      7.0       8.0     6.0     8.0      NaN      NaN       NaN   \n",
       "1  368.0  ...      8.0       7.0     7.0     8.0      6.0      7.0       6.0   \n",
       "2  212.0  ...      NaN       NaN     NaN     NaN      NaN      NaN       NaN   \n",
       "3   30.0  ...      NaN       NaN     NaN     NaN      NaN      NaN       NaN   \n",
       "4  162.0  ...      NaN       NaN     NaN     NaN      NaN      NaN       NaN   \n",
       "\n",
       "   fun5_3  amb5_3    id  \n",
       "0     NaN     NaN   934  \n",
       "1     5.0     5.0  6539  \n",
       "2     NaN     NaN  6757  \n",
       "3     NaN     NaN  2275  \n",
       "4     NaN     NaN  1052  \n",
       "\n",
       "[5 rows x 191 columns]"
      ]
     },
     "execution_count": 3,
     "metadata": {},
     "output_type": "execute_result"
    }
   ],
   "source": [
    "test_data=pd.read_csv('test.csv')\n",
    "test_data.head()"
   ]
  },
  {
   "cell_type": "markdown",
   "metadata": {
    "id": "IbffBuOgFVYx"
   },
   "source": [
    "# We will print somethings to help us to understand the data more and more\n",
    " \n",
    "\n",
    "*   Shape\n",
    "*   Size\n",
    "*   Information about the data (as data type, entire columns,....etc)\n",
    "*   The duplications in the data (if there is 2 rows with the same values)\n",
    "*   The null values (which is the main thing to put in your mind 😈😈😈😈😈)\n",
    "\n"
   ]
  },
  {
   "cell_type": "code",
   "execution_count": null,
   "metadata": {
    "colab": {
     "base_uri": "https://localhost:8080/"
    },
    "id": "IJuRQhAymdYY",
    "outputId": "f39a342d-5bf0-44cc-bca8-8fe66488310d"
   },
   "outputs": [
    {
     "data": {
      "text/plain": [
       "(5909, 192)"
      ]
     },
     "execution_count": 4,
     "metadata": {},
     "output_type": "execute_result"
    }
   ],
   "source": [
    "train_data.shape"
   ]
  },
  {
   "cell_type": "code",
   "execution_count": null,
   "metadata": {
    "colab": {
     "base_uri": "https://localhost:8080/"
    },
    "id": "ZE0-my8Tmf5D",
    "outputId": "99eca477-0c84-45d9-f43a-380d81e0013c"
   },
   "outputs": [
    {
     "data": {
      "text/plain": [
       "(2469, 191)"
      ]
     },
     "execution_count": 5,
     "metadata": {},
     "output_type": "execute_result"
    }
   ],
   "source": [
    "test_data.shape"
   ]
  },
  {
   "cell_type": "code",
   "execution_count": null,
   "metadata": {
    "colab": {
     "base_uri": "https://localhost:8080/"
    },
    "id": "xEDHp2DfmicP",
    "outputId": "ff442f9a-b65c-45e9-d020-5206aae1010a"
   },
   "outputs": [
    {
     "data": {
      "text/plain": [
       "1134528"
      ]
     },
     "execution_count": 6,
     "metadata": {},
     "output_type": "execute_result"
    }
   ],
   "source": [
    "train_data.size"
   ]
  },
  {
   "cell_type": "code",
   "execution_count": null,
   "metadata": {
    "colab": {
     "base_uri": "https://localhost:8080/"
    },
    "id": "aWgzUdrSmkrU",
    "outputId": "b9033211-1fa3-4e88-c6ad-7a85ac1a2bf3"
   },
   "outputs": [
    {
     "data": {
      "text/plain": [
       "471579"
      ]
     },
     "execution_count": 7,
     "metadata": {},
     "output_type": "execute_result"
    }
   ],
   "source": [
    "test_data.size"
   ]
  },
  {
   "cell_type": "code",
   "execution_count": null,
   "metadata": {
    "colab": {
     "base_uri": "https://localhost:8080/"
    },
    "id": "ynjauUXumnVA",
    "outputId": "1a99c403-c887-4b0e-cd06-d73998f30dbb"
   },
   "outputs": [
    {
     "name": "stdout",
     "output_type": "stream",
     "text": [
      "<class 'pandas.core.frame.DataFrame'>\n",
      "RangeIndex: 5909 entries, 0 to 5908\n",
      "Columns: 192 entries, gender to id\n",
      "dtypes: float64(173), int64(11), object(8)\n",
      "memory usage: 8.7+ MB\n"
     ]
    }
   ],
   "source": [
    "train_data.info()"
   ]
  },
  {
   "cell_type": "code",
   "execution_count": null,
   "metadata": {
    "colab": {
     "base_uri": "https://localhost:8080/"
    },
    "id": "NN-lC3M6mpt-",
    "outputId": "3edfc7ed-4250-4a14-fe56-671cc3f7266b"
   },
   "outputs": [
    {
     "name": "stdout",
     "output_type": "stream",
     "text": [
      "<class 'pandas.core.frame.DataFrame'>\n",
      "RangeIndex: 2469 entries, 0 to 2468\n",
      "Columns: 191 entries, gender to id\n",
      "dtypes: float64(173), int64(10), object(8)\n",
      "memory usage: 3.6+ MB\n"
     ]
    }
   ],
   "source": [
    "test_data.info()"
   ]
  },
  {
   "cell_type": "code",
   "execution_count": null,
   "metadata": {
    "colab": {
     "base_uri": "https://localhost:8080/"
    },
    "id": "dDIbTF0_mr_5",
    "outputId": "e1b21107-25dc-4bd2-ecbb-06e8f1b7bcd8"
   },
   "outputs": [
    {
     "data": {
      "text/plain": [
       "0"
      ]
     },
     "execution_count": 10,
     "metadata": {},
     "output_type": "execute_result"
    }
   ],
   "source": [
    "train_data.duplicated().sum() "
   ]
  },
  {
   "cell_type": "code",
   "execution_count": null,
   "metadata": {
    "colab": {
     "base_uri": "https://localhost:8080/"
    },
    "id": "bAFF_MOkmur6",
    "outputId": "ab6cbf38-6604-467c-e058-9e587d541163"
   },
   "outputs": [
    {
     "data": {
      "text/plain": [
       "0"
      ]
     },
     "execution_count": 11,
     "metadata": {},
     "output_type": "execute_result"
    }
   ],
   "source": [
    "test_data.duplicated().sum() "
   ]
  },
  {
   "cell_type": "markdown",
   "metadata": {
    "id": "hHpV4TutGcZe"
   },
   "source": [
    "# Unfortunately, we found many nulls------->Oooooooops 😞😞😞😞😞😞😞\n"
   ]
  },
  {
   "cell_type": "markdown",
   "metadata": {
    "id": "ipCUhAfbG00_"
   },
   "source": [
    "We need to solve them as the model can not take nulls and also can not predict in the presence of the nulls"
   ]
  },
  {
   "cell_type": "code",
   "execution_count": null,
   "metadata": {
    "colab": {
     "base_uri": "https://localhost:8080/"
    },
    "id": "WmiguifVmwoY",
    "outputId": "9504886a-ce4f-47d6-8c84-fd61f3241842"
   },
   "outputs": [
    {
     "data": {
      "text/plain": [
       "gender         0\n",
       "idg            0\n",
       "condtn         0\n",
       "wave           0\n",
       "round          0\n",
       "            ... \n",
       "sinc5_3     4496\n",
       "intel5_3    4496\n",
       "fun5_3      4496\n",
       "amb5_3      4496\n",
       "id             0\n",
       "Length: 192, dtype: int64"
      ]
     },
     "execution_count": 12,
     "metadata": {},
     "output_type": "execute_result"
    }
   ],
   "source": [
    "train_data.isna().sum() "
   ]
  },
  {
   "cell_type": "code",
   "execution_count": null,
   "metadata": {
    "colab": {
     "base_uri": "https://localhost:8080/"
    },
    "id": "hj64lmvGn0a0",
    "outputId": "4f17572e-3d91-427a-997b-6d163fa1a4d8"
   },
   "outputs": [
    {
     "data": {
      "text/plain": [
       "gender         0\n",
       "idg            0\n",
       "condtn         0\n",
       "wave           0\n",
       "round          0\n",
       "            ... \n",
       "sinc5_3     1866\n",
       "intel5_3    1866\n",
       "fun5_3      1866\n",
       "amb5_3      1866\n",
       "id             0\n",
       "Length: 191, dtype: int64"
      ]
     },
     "execution_count": 13,
     "metadata": {},
     "output_type": "execute_result"
    }
   ],
   "source": [
    "test_data.isna().sum() "
   ]
  },
  {
   "cell_type": "code",
   "execution_count": null,
   "metadata": {
    "id": "T1UW3AOqsRBn"
   },
   "outputs": [],
   "source": [
    "train_data2=train_data.copy()# we will take just a copy"
   ]
  },
  {
   "cell_type": "markdown",
   "metadata": {
    "id": "trqx4NSjHGVD"
   },
   "source": [
    "# Now, we decided to get our data :\n",
    "\n",
    "*   Integer\n",
    "*   Float\n",
    "*   Objest\n",
    "\n",
    "and store them in variables to be able to use them later\n",
    "We will see later why we did it \n",
    "\n",
    "\n"
   ]
  },
  {
   "cell_type": "code",
   "execution_count": null,
   "metadata": {
    "colab": {
     "base_uri": "https://localhost:8080/",
     "height": 424
    },
    "id": "pin2qHI4n4RJ",
    "outputId": "6cde1c42-40b9-4d1b-a547-776245c0ad7c"
   },
   "outputs": [
    {
     "data": {
      "text/html": [
       "\n",
       "  <div id=\"df-0a0e2675-d24f-4e00-a37f-4b7f44807a2d\">\n",
       "    <div class=\"colab-df-container\">\n",
       "      <div>\n",
       "<style scoped>\n",
       "    .dataframe tbody tr th:only-of-type {\n",
       "        vertical-align: middle;\n",
       "    }\n",
       "\n",
       "    .dataframe tbody tr th {\n",
       "        vertical-align: top;\n",
       "    }\n",
       "\n",
       "    .dataframe thead th {\n",
       "        text-align: right;\n",
       "    }\n",
       "</style>\n",
       "<table border=\"1\" class=\"dataframe\">\n",
       "  <thead>\n",
       "    <tr style=\"text-align: right;\">\n",
       "      <th></th>\n",
       "      <th>gender</th>\n",
       "      <th>idg</th>\n",
       "      <th>condtn</th>\n",
       "      <th>wave</th>\n",
       "      <th>round</th>\n",
       "      <th>position</th>\n",
       "      <th>order</th>\n",
       "      <th>partner</th>\n",
       "      <th>match</th>\n",
       "      <th>samerace</th>\n",
       "      <th>id</th>\n",
       "    </tr>\n",
       "  </thead>\n",
       "  <tbody>\n",
       "    <tr>\n",
       "      <th>0</th>\n",
       "      <td>0</td>\n",
       "      <td>3</td>\n",
       "      <td>2</td>\n",
       "      <td>14</td>\n",
       "      <td>18</td>\n",
       "      <td>2</td>\n",
       "      <td>14</td>\n",
       "      <td>12</td>\n",
       "      <td>0</td>\n",
       "      <td>0</td>\n",
       "      <td>2583</td>\n",
       "    </tr>\n",
       "    <tr>\n",
       "      <th>1</th>\n",
       "      <td>1</td>\n",
       "      <td>14</td>\n",
       "      <td>1</td>\n",
       "      <td>3</td>\n",
       "      <td>10</td>\n",
       "      <td>2</td>\n",
       "      <td>8</td>\n",
       "      <td>8</td>\n",
       "      <td>0</td>\n",
       "      <td>0</td>\n",
       "      <td>6830</td>\n",
       "    </tr>\n",
       "    <tr>\n",
       "      <th>2</th>\n",
       "      <td>1</td>\n",
       "      <td>14</td>\n",
       "      <td>1</td>\n",
       "      <td>13</td>\n",
       "      <td>10</td>\n",
       "      <td>8</td>\n",
       "      <td>10</td>\n",
       "      <td>10</td>\n",
       "      <td>0</td>\n",
       "      <td>0</td>\n",
       "      <td>4840</td>\n",
       "    </tr>\n",
       "    <tr>\n",
       "      <th>3</th>\n",
       "      <td>1</td>\n",
       "      <td>38</td>\n",
       "      <td>2</td>\n",
       "      <td>9</td>\n",
       "      <td>20</td>\n",
       "      <td>18</td>\n",
       "      <td>6</td>\n",
       "      <td>7</td>\n",
       "      <td>0</td>\n",
       "      <td>1</td>\n",
       "      <td>5508</td>\n",
       "    </tr>\n",
       "    <tr>\n",
       "      <th>4</th>\n",
       "      <td>1</td>\n",
       "      <td>24</td>\n",
       "      <td>2</td>\n",
       "      <td>14</td>\n",
       "      <td>20</td>\n",
       "      <td>6</td>\n",
       "      <td>20</td>\n",
       "      <td>17</td>\n",
       "      <td>0</td>\n",
       "      <td>0</td>\n",
       "      <td>4828</td>\n",
       "    </tr>\n",
       "    <tr>\n",
       "      <th>...</th>\n",
       "      <td>...</td>\n",
       "      <td>...</td>\n",
       "      <td>...</td>\n",
       "      <td>...</td>\n",
       "      <td>...</td>\n",
       "      <td>...</td>\n",
       "      <td>...</td>\n",
       "      <td>...</td>\n",
       "      <td>...</td>\n",
       "      <td>...</td>\n",
       "      <td>...</td>\n",
       "    </tr>\n",
       "    <tr>\n",
       "      <th>5904</th>\n",
       "      <td>0</td>\n",
       "      <td>1</td>\n",
       "      <td>2</td>\n",
       "      <td>9</td>\n",
       "      <td>20</td>\n",
       "      <td>2</td>\n",
       "      <td>18</td>\n",
       "      <td>1</td>\n",
       "      <td>0</td>\n",
       "      <td>1</td>\n",
       "      <td>3390</td>\n",
       "    </tr>\n",
       "    <tr>\n",
       "      <th>5905</th>\n",
       "      <td>1</td>\n",
       "      <td>24</td>\n",
       "      <td>2</td>\n",
       "      <td>9</td>\n",
       "      <td>20</td>\n",
       "      <td>19</td>\n",
       "      <td>5</td>\n",
       "      <td>6</td>\n",
       "      <td>0</td>\n",
       "      <td>0</td>\n",
       "      <td>4130</td>\n",
       "    </tr>\n",
       "    <tr>\n",
       "      <th>5906</th>\n",
       "      <td>0</td>\n",
       "      <td>13</td>\n",
       "      <td>2</td>\n",
       "      <td>11</td>\n",
       "      <td>21</td>\n",
       "      <td>5</td>\n",
       "      <td>3</td>\n",
       "      <td>18</td>\n",
       "      <td>0</td>\n",
       "      <td>0</td>\n",
       "      <td>1178</td>\n",
       "    </tr>\n",
       "    <tr>\n",
       "      <th>5907</th>\n",
       "      <td>1</td>\n",
       "      <td>10</td>\n",
       "      <td>2</td>\n",
       "      <td>7</td>\n",
       "      <td>16</td>\n",
       "      <td>6</td>\n",
       "      <td>9</td>\n",
       "      <td>10</td>\n",
       "      <td>1</td>\n",
       "      <td>0</td>\n",
       "      <td>5016</td>\n",
       "    </tr>\n",
       "    <tr>\n",
       "      <th>5908</th>\n",
       "      <td>0</td>\n",
       "      <td>7</td>\n",
       "      <td>2</td>\n",
       "      <td>21</td>\n",
       "      <td>22</td>\n",
       "      <td>7</td>\n",
       "      <td>2</td>\n",
       "      <td>12</td>\n",
       "      <td>0</td>\n",
       "      <td>0</td>\n",
       "      <td>8149</td>\n",
       "    </tr>\n",
       "  </tbody>\n",
       "</table>\n",
       "<p>5909 rows × 11 columns</p>\n",
       "</div>\n",
       "      <button class=\"colab-df-convert\" onclick=\"convertToInteractive('df-0a0e2675-d24f-4e00-a37f-4b7f44807a2d')\"\n",
       "              title=\"Convert this dataframe to an interactive table.\"\n",
       "              style=\"display:none;\">\n",
       "        \n",
       "  <svg xmlns=\"http://www.w3.org/2000/svg\" height=\"24px\"viewBox=\"0 0 24 24\"\n",
       "       width=\"24px\">\n",
       "    <path d=\"M0 0h24v24H0V0z\" fill=\"none\"/>\n",
       "    <path d=\"M18.56 5.44l.94 2.06.94-2.06 2.06-.94-2.06-.94-.94-2.06-.94 2.06-2.06.94zm-11 1L8.5 8.5l.94-2.06 2.06-.94-2.06-.94L8.5 2.5l-.94 2.06-2.06.94zm10 10l.94 2.06.94-2.06 2.06-.94-2.06-.94-.94-2.06-.94 2.06-2.06.94z\"/><path d=\"M17.41 7.96l-1.37-1.37c-.4-.4-.92-.59-1.43-.59-.52 0-1.04.2-1.43.59L10.3 9.45l-7.72 7.72c-.78.78-.78 2.05 0 2.83L4 21.41c.39.39.9.59 1.41.59.51 0 1.02-.2 1.41-.59l7.78-7.78 2.81-2.81c.8-.78.8-2.07 0-2.86zM5.41 20L4 18.59l7.72-7.72 1.47 1.35L5.41 20z\"/>\n",
       "  </svg>\n",
       "      </button>\n",
       "      \n",
       "  <style>\n",
       "    .colab-df-container {\n",
       "      display:flex;\n",
       "      flex-wrap:wrap;\n",
       "      gap: 12px;\n",
       "    }\n",
       "\n",
       "    .colab-df-convert {\n",
       "      background-color: #E8F0FE;\n",
       "      border: none;\n",
       "      border-radius: 50%;\n",
       "      cursor: pointer;\n",
       "      display: none;\n",
       "      fill: #1967D2;\n",
       "      height: 32px;\n",
       "      padding: 0 0 0 0;\n",
       "      width: 32px;\n",
       "    }\n",
       "\n",
       "    .colab-df-convert:hover {\n",
       "      background-color: #E2EBFA;\n",
       "      box-shadow: 0px 1px 2px rgba(60, 64, 67, 0.3), 0px 1px 3px 1px rgba(60, 64, 67, 0.15);\n",
       "      fill: #174EA6;\n",
       "    }\n",
       "\n",
       "    [theme=dark] .colab-df-convert {\n",
       "      background-color: #3B4455;\n",
       "      fill: #D2E3FC;\n",
       "    }\n",
       "\n",
       "    [theme=dark] .colab-df-convert:hover {\n",
       "      background-color: #434B5C;\n",
       "      box-shadow: 0px 1px 3px 1px rgba(0, 0, 0, 0.15);\n",
       "      filter: drop-shadow(0px 1px 2px rgba(0, 0, 0, 0.3));\n",
       "      fill: #FFFFFF;\n",
       "    }\n",
       "  </style>\n",
       "\n",
       "      <script>\n",
       "        const buttonEl =\n",
       "          document.querySelector('#df-0a0e2675-d24f-4e00-a37f-4b7f44807a2d button.colab-df-convert');\n",
       "        buttonEl.style.display =\n",
       "          google.colab.kernel.accessAllowed ? 'block' : 'none';\n",
       "\n",
       "        async function convertToInteractive(key) {\n",
       "          const element = document.querySelector('#df-0a0e2675-d24f-4e00-a37f-4b7f44807a2d');\n",
       "          const dataTable =\n",
       "            await google.colab.kernel.invokeFunction('convertToInteractive',\n",
       "                                                     [key], {});\n",
       "          if (!dataTable) return;\n",
       "\n",
       "          const docLinkHtml = 'Like what you see? Visit the ' +\n",
       "            '<a target=\"_blank\" href=https://colab.research.google.com/notebooks/data_table.ipynb>data table notebook</a>'\n",
       "            + ' to learn more about interactive tables.';\n",
       "          element.innerHTML = '';\n",
       "          dataTable['output_type'] = 'display_data';\n",
       "          await google.colab.output.renderOutput(dataTable, element);\n",
       "          const docLink = document.createElement('div');\n",
       "          docLink.innerHTML = docLinkHtml;\n",
       "          element.appendChild(docLink);\n",
       "        }\n",
       "      </script>\n",
       "    </div>\n",
       "  </div>\n",
       "  "
      ],
      "text/plain": [
       "      gender  idg  condtn  wave  round  position  order  partner  match  \\\n",
       "0          0    3       2    14     18         2     14       12      0   \n",
       "1          1   14       1     3     10         2      8        8      0   \n",
       "2          1   14       1    13     10         8     10       10      0   \n",
       "3          1   38       2     9     20        18      6        7      0   \n",
       "4          1   24       2    14     20         6     20       17      0   \n",
       "...      ...  ...     ...   ...    ...       ...    ...      ...    ...   \n",
       "5904       0    1       2     9     20         2     18        1      0   \n",
       "5905       1   24       2     9     20        19      5        6      0   \n",
       "5906       0   13       2    11     21         5      3       18      0   \n",
       "5907       1   10       2     7     16         6      9       10      1   \n",
       "5908       0    7       2    21     22         7      2       12      0   \n",
       "\n",
       "      samerace    id  \n",
       "0            0  2583  \n",
       "1            0  6830  \n",
       "2            0  4840  \n",
       "3            1  5508  \n",
       "4            0  4828  \n",
       "...        ...   ...  \n",
       "5904         1  3390  \n",
       "5905         0  4130  \n",
       "5906         0  1178  \n",
       "5907         0  5016  \n",
       "5908         0  8149  \n",
       "\n",
       "[5909 rows x 11 columns]"
      ]
     },
     "execution_count": 15,
     "metadata": {},
     "output_type": "execute_result"
    }
   ],
   "source": [
    "col_int = train_data2.select_dtypes('int64')#integer\n",
    "col_int"
   ]
  },
  {
   "cell_type": "code",
   "execution_count": null,
   "metadata": {
    "colab": {
     "base_uri": "https://localhost:8080/",
     "height": 488
    },
    "id": "vVdu3DzvoNwc",
    "outputId": "d30b0c87-97ad-4793-ccec-8b4bf2f25da9"
   },
   "outputs": [
    {
     "data": {
      "text/html": [
       "\n",
       "  <div id=\"df-17101023-3da4-4d5b-b02b-87a7eee0c96d\">\n",
       "    <div class=\"colab-df-container\">\n",
       "      <div>\n",
       "<style scoped>\n",
       "    .dataframe tbody tr th:only-of-type {\n",
       "        vertical-align: middle;\n",
       "    }\n",
       "\n",
       "    .dataframe tbody tr th {\n",
       "        vertical-align: top;\n",
       "    }\n",
       "\n",
       "    .dataframe thead th {\n",
       "        text-align: right;\n",
       "    }\n",
       "</style>\n",
       "<table border=\"1\" class=\"dataframe\">\n",
       "  <thead>\n",
       "    <tr style=\"text-align: right;\">\n",
       "      <th></th>\n",
       "      <th>positin1</th>\n",
       "      <th>pid</th>\n",
       "      <th>int_corr</th>\n",
       "      <th>age_o</th>\n",
       "      <th>race_o</th>\n",
       "      <th>pf_o_att</th>\n",
       "      <th>pf_o_sin</th>\n",
       "      <th>pf_o_int</th>\n",
       "      <th>pf_o_fun</th>\n",
       "      <th>pf_o_amb</th>\n",
       "      <th>...</th>\n",
       "      <th>attr3_3</th>\n",
       "      <th>sinc3_3</th>\n",
       "      <th>intel3_3</th>\n",
       "      <th>fun3_3</th>\n",
       "      <th>amb3_3</th>\n",
       "      <th>attr5_3</th>\n",
       "      <th>sinc5_3</th>\n",
       "      <th>intel5_3</th>\n",
       "      <th>fun5_3</th>\n",
       "      <th>amb5_3</th>\n",
       "    </tr>\n",
       "  </thead>\n",
       "  <tbody>\n",
       "    <tr>\n",
       "      <th>0</th>\n",
       "      <td>2.0</td>\n",
       "      <td>372.0</td>\n",
       "      <td>-0.03</td>\n",
       "      <td>27.0</td>\n",
       "      <td>2.0</td>\n",
       "      <td>30.00</td>\n",
       "      <td>15.00</td>\n",
       "      <td>15.00</td>\n",
       "      <td>20.00</td>\n",
       "      <td>5.00</td>\n",
       "      <td>...</td>\n",
       "      <td>NaN</td>\n",
       "      <td>NaN</td>\n",
       "      <td>NaN</td>\n",
       "      <td>NaN</td>\n",
       "      <td>NaN</td>\n",
       "      <td>NaN</td>\n",
       "      <td>NaN</td>\n",
       "      <td>NaN</td>\n",
       "      <td>NaN</td>\n",
       "      <td>NaN</td>\n",
       "    </tr>\n",
       "    <tr>\n",
       "      <th>1</th>\n",
       "      <td>NaN</td>\n",
       "      <td>63.0</td>\n",
       "      <td>0.21</td>\n",
       "      <td>24.0</td>\n",
       "      <td>4.0</td>\n",
       "      <td>5.00</td>\n",
       "      <td>15.00</td>\n",
       "      <td>45.00</td>\n",
       "      <td>25.00</td>\n",
       "      <td>0.00</td>\n",
       "      <td>...</td>\n",
       "      <td>6.0</td>\n",
       "      <td>8.0</td>\n",
       "      <td>8.0</td>\n",
       "      <td>7.0</td>\n",
       "      <td>8.0</td>\n",
       "      <td>NaN</td>\n",
       "      <td>NaN</td>\n",
       "      <td>NaN</td>\n",
       "      <td>NaN</td>\n",
       "      <td>NaN</td>\n",
       "    </tr>\n",
       "    <tr>\n",
       "      <th>2</th>\n",
       "      <td>8.0</td>\n",
       "      <td>331.0</td>\n",
       "      <td>0.43</td>\n",
       "      <td>34.0</td>\n",
       "      <td>2.0</td>\n",
       "      <td>15.00</td>\n",
       "      <td>15.00</td>\n",
       "      <td>10.00</td>\n",
       "      <td>25.00</td>\n",
       "      <td>10.00</td>\n",
       "      <td>...</td>\n",
       "      <td>NaN</td>\n",
       "      <td>NaN</td>\n",
       "      <td>NaN</td>\n",
       "      <td>NaN</td>\n",
       "      <td>NaN</td>\n",
       "      <td>NaN</td>\n",
       "      <td>NaN</td>\n",
       "      <td>NaN</td>\n",
       "      <td>NaN</td>\n",
       "      <td>NaN</td>\n",
       "    </tr>\n",
       "    <tr>\n",
       "      <th>3</th>\n",
       "      <td>13.0</td>\n",
       "      <td>200.0</td>\n",
       "      <td>0.72</td>\n",
       "      <td>25.0</td>\n",
       "      <td>2.0</td>\n",
       "      <td>13.21</td>\n",
       "      <td>18.87</td>\n",
       "      <td>18.87</td>\n",
       "      <td>16.98</td>\n",
       "      <td>16.98</td>\n",
       "      <td>...</td>\n",
       "      <td>8.0</td>\n",
       "      <td>9.0</td>\n",
       "      <td>8.0</td>\n",
       "      <td>8.0</td>\n",
       "      <td>6.0</td>\n",
       "      <td>NaN</td>\n",
       "      <td>NaN</td>\n",
       "      <td>NaN</td>\n",
       "      <td>NaN</td>\n",
       "      <td>NaN</td>\n",
       "    </tr>\n",
       "    <tr>\n",
       "      <th>4</th>\n",
       "      <td>6.0</td>\n",
       "      <td>357.0</td>\n",
       "      <td>0.33</td>\n",
       "      <td>27.0</td>\n",
       "      <td>4.0</td>\n",
       "      <td>15.00</td>\n",
       "      <td>20.00</td>\n",
       "      <td>20.00</td>\n",
       "      <td>20.00</td>\n",
       "      <td>20.00</td>\n",
       "      <td>...</td>\n",
       "      <td>NaN</td>\n",
       "      <td>NaN</td>\n",
       "      <td>NaN</td>\n",
       "      <td>NaN</td>\n",
       "      <td>NaN</td>\n",
       "      <td>NaN</td>\n",
       "      <td>NaN</td>\n",
       "      <td>NaN</td>\n",
       "      <td>NaN</td>\n",
       "      <td>NaN</td>\n",
       "    </tr>\n",
       "    <tr>\n",
       "      <th>...</th>\n",
       "      <td>...</td>\n",
       "      <td>...</td>\n",
       "      <td>...</td>\n",
       "      <td>...</td>\n",
       "      <td>...</td>\n",
       "      <td>...</td>\n",
       "      <td>...</td>\n",
       "      <td>...</td>\n",
       "      <td>...</td>\n",
       "      <td>...</td>\n",
       "      <td>...</td>\n",
       "      <td>...</td>\n",
       "      <td>...</td>\n",
       "      <td>...</td>\n",
       "      <td>...</td>\n",
       "      <td>...</td>\n",
       "      <td>...</td>\n",
       "      <td>...</td>\n",
       "      <td>...</td>\n",
       "      <td>...</td>\n",
       "      <td>...</td>\n",
       "    </tr>\n",
       "    <tr>\n",
       "      <th>5904</th>\n",
       "      <td>2.0</td>\n",
       "      <td>214.0</td>\n",
       "      <td>-0.22</td>\n",
       "      <td>23.0</td>\n",
       "      <td>2.0</td>\n",
       "      <td>17.02</td>\n",
       "      <td>21.28</td>\n",
       "      <td>17.02</td>\n",
       "      <td>21.28</td>\n",
       "      <td>14.89</td>\n",
       "      <td>...</td>\n",
       "      <td>12.0</td>\n",
       "      <td>12.0</td>\n",
       "      <td>12.0</td>\n",
       "      <td>9.0</td>\n",
       "      <td>12.0</td>\n",
       "      <td>NaN</td>\n",
       "      <td>NaN</td>\n",
       "      <td>NaN</td>\n",
       "      <td>NaN</td>\n",
       "      <td>NaN</td>\n",
       "    </tr>\n",
       "    <tr>\n",
       "      <th>5905</th>\n",
       "      <td>15.0</td>\n",
       "      <td>199.0</td>\n",
       "      <td>0.08</td>\n",
       "      <td>30.0</td>\n",
       "      <td>2.0</td>\n",
       "      <td>17.50</td>\n",
       "      <td>17.50</td>\n",
       "      <td>20.00</td>\n",
       "      <td>12.50</td>\n",
       "      <td>20.00</td>\n",
       "      <td>...</td>\n",
       "      <td>NaN</td>\n",
       "      <td>NaN</td>\n",
       "      <td>NaN</td>\n",
       "      <td>NaN</td>\n",
       "      <td>NaN</td>\n",
       "      <td>NaN</td>\n",
       "      <td>NaN</td>\n",
       "      <td>NaN</td>\n",
       "      <td>NaN</td>\n",
       "      <td>NaN</td>\n",
       "    </tr>\n",
       "    <tr>\n",
       "      <th>5906</th>\n",
       "      <td>5.0</td>\n",
       "      <td>290.0</td>\n",
       "      <td>0.35</td>\n",
       "      <td>34.0</td>\n",
       "      <td>2.0</td>\n",
       "      <td>30.00</td>\n",
       "      <td>10.00</td>\n",
       "      <td>30.00</td>\n",
       "      <td>10.00</td>\n",
       "      <td>5.00</td>\n",
       "      <td>...</td>\n",
       "      <td>NaN</td>\n",
       "      <td>NaN</td>\n",
       "      <td>NaN</td>\n",
       "      <td>NaN</td>\n",
       "      <td>NaN</td>\n",
       "      <td>NaN</td>\n",
       "      <td>NaN</td>\n",
       "      <td>NaN</td>\n",
       "      <td>NaN</td>\n",
       "      <td>NaN</td>\n",
       "    </tr>\n",
       "    <tr>\n",
       "      <th>5907</th>\n",
       "      <td>14.0</td>\n",
       "      <td>151.0</td>\n",
       "      <td>0.45</td>\n",
       "      <td>28.0</td>\n",
       "      <td>2.0</td>\n",
       "      <td>14.55</td>\n",
       "      <td>16.36</td>\n",
       "      <td>18.18</td>\n",
       "      <td>18.18</td>\n",
       "      <td>16.36</td>\n",
       "      <td>...</td>\n",
       "      <td>NaN</td>\n",
       "      <td>NaN</td>\n",
       "      <td>NaN</td>\n",
       "      <td>NaN</td>\n",
       "      <td>NaN</td>\n",
       "      <td>NaN</td>\n",
       "      <td>NaN</td>\n",
       "      <td>NaN</td>\n",
       "      <td>NaN</td>\n",
       "      <td>NaN</td>\n",
       "    </tr>\n",
       "    <tr>\n",
       "      <th>5908</th>\n",
       "      <td>7.0</td>\n",
       "      <td>542.0</td>\n",
       "      <td>0.30</td>\n",
       "      <td>23.0</td>\n",
       "      <td>4.0</td>\n",
       "      <td>25.00</td>\n",
       "      <td>15.00</td>\n",
       "      <td>20.00</td>\n",
       "      <td>20.00</td>\n",
       "      <td>10.00</td>\n",
       "      <td>...</td>\n",
       "      <td>NaN</td>\n",
       "      <td>NaN</td>\n",
       "      <td>NaN</td>\n",
       "      <td>NaN</td>\n",
       "      <td>NaN</td>\n",
       "      <td>NaN</td>\n",
       "      <td>NaN</td>\n",
       "      <td>NaN</td>\n",
       "      <td>NaN</td>\n",
       "      <td>NaN</td>\n",
       "    </tr>\n",
       "  </tbody>\n",
       "</table>\n",
       "<p>5909 rows × 173 columns</p>\n",
       "</div>\n",
       "      <button class=\"colab-df-convert\" onclick=\"convertToInteractive('df-17101023-3da4-4d5b-b02b-87a7eee0c96d')\"\n",
       "              title=\"Convert this dataframe to an interactive table.\"\n",
       "              style=\"display:none;\">\n",
       "        \n",
       "  <svg xmlns=\"http://www.w3.org/2000/svg\" height=\"24px\"viewBox=\"0 0 24 24\"\n",
       "       width=\"24px\">\n",
       "    <path d=\"M0 0h24v24H0V0z\" fill=\"none\"/>\n",
       "    <path d=\"M18.56 5.44l.94 2.06.94-2.06 2.06-.94-2.06-.94-.94-2.06-.94 2.06-2.06.94zm-11 1L8.5 8.5l.94-2.06 2.06-.94-2.06-.94L8.5 2.5l-.94 2.06-2.06.94zm10 10l.94 2.06.94-2.06 2.06-.94-2.06-.94-.94-2.06-.94 2.06-2.06.94z\"/><path d=\"M17.41 7.96l-1.37-1.37c-.4-.4-.92-.59-1.43-.59-.52 0-1.04.2-1.43.59L10.3 9.45l-7.72 7.72c-.78.78-.78 2.05 0 2.83L4 21.41c.39.39.9.59 1.41.59.51 0 1.02-.2 1.41-.59l7.78-7.78 2.81-2.81c.8-.78.8-2.07 0-2.86zM5.41 20L4 18.59l7.72-7.72 1.47 1.35L5.41 20z\"/>\n",
       "  </svg>\n",
       "      </button>\n",
       "      \n",
       "  <style>\n",
       "    .colab-df-container {\n",
       "      display:flex;\n",
       "      flex-wrap:wrap;\n",
       "      gap: 12px;\n",
       "    }\n",
       "\n",
       "    .colab-df-convert {\n",
       "      background-color: #E8F0FE;\n",
       "      border: none;\n",
       "      border-radius: 50%;\n",
       "      cursor: pointer;\n",
       "      display: none;\n",
       "      fill: #1967D2;\n",
       "      height: 32px;\n",
       "      padding: 0 0 0 0;\n",
       "      width: 32px;\n",
       "    }\n",
       "\n",
       "    .colab-df-convert:hover {\n",
       "      background-color: #E2EBFA;\n",
       "      box-shadow: 0px 1px 2px rgba(60, 64, 67, 0.3), 0px 1px 3px 1px rgba(60, 64, 67, 0.15);\n",
       "      fill: #174EA6;\n",
       "    }\n",
       "\n",
       "    [theme=dark] .colab-df-convert {\n",
       "      background-color: #3B4455;\n",
       "      fill: #D2E3FC;\n",
       "    }\n",
       "\n",
       "    [theme=dark] .colab-df-convert:hover {\n",
       "      background-color: #434B5C;\n",
       "      box-shadow: 0px 1px 3px 1px rgba(0, 0, 0, 0.15);\n",
       "      filter: drop-shadow(0px 1px 2px rgba(0, 0, 0, 0.3));\n",
       "      fill: #FFFFFF;\n",
       "    }\n",
       "  </style>\n",
       "\n",
       "      <script>\n",
       "        const buttonEl =\n",
       "          document.querySelector('#df-17101023-3da4-4d5b-b02b-87a7eee0c96d button.colab-df-convert');\n",
       "        buttonEl.style.display =\n",
       "          google.colab.kernel.accessAllowed ? 'block' : 'none';\n",
       "\n",
       "        async function convertToInteractive(key) {\n",
       "          const element = document.querySelector('#df-17101023-3da4-4d5b-b02b-87a7eee0c96d');\n",
       "          const dataTable =\n",
       "            await google.colab.kernel.invokeFunction('convertToInteractive',\n",
       "                                                     [key], {});\n",
       "          if (!dataTable) return;\n",
       "\n",
       "          const docLinkHtml = 'Like what you see? Visit the ' +\n",
       "            '<a target=\"_blank\" href=https://colab.research.google.com/notebooks/data_table.ipynb>data table notebook</a>'\n",
       "            + ' to learn more about interactive tables.';\n",
       "          element.innerHTML = '';\n",
       "          dataTable['output_type'] = 'display_data';\n",
       "          await google.colab.output.renderOutput(dataTable, element);\n",
       "          const docLink = document.createElement('div');\n",
       "          docLink.innerHTML = docLinkHtml;\n",
       "          element.appendChild(docLink);\n",
       "        }\n",
       "      </script>\n",
       "    </div>\n",
       "  </div>\n",
       "  "
      ],
      "text/plain": [
       "      positin1    pid  int_corr  age_o  race_o  pf_o_att  pf_o_sin  pf_o_int  \\\n",
       "0          2.0  372.0     -0.03   27.0     2.0     30.00     15.00     15.00   \n",
       "1          NaN   63.0      0.21   24.0     4.0      5.00     15.00     45.00   \n",
       "2          8.0  331.0      0.43   34.0     2.0     15.00     15.00     10.00   \n",
       "3         13.0  200.0      0.72   25.0     2.0     13.21     18.87     18.87   \n",
       "4          6.0  357.0      0.33   27.0     4.0     15.00     20.00     20.00   \n",
       "...        ...    ...       ...    ...     ...       ...       ...       ...   \n",
       "5904       2.0  214.0     -0.22   23.0     2.0     17.02     21.28     17.02   \n",
       "5905      15.0  199.0      0.08   30.0     2.0     17.50     17.50     20.00   \n",
       "5906       5.0  290.0      0.35   34.0     2.0     30.00     10.00     30.00   \n",
       "5907      14.0  151.0      0.45   28.0     2.0     14.55     16.36     18.18   \n",
       "5908       7.0  542.0      0.30   23.0     4.0     25.00     15.00     20.00   \n",
       "\n",
       "      pf_o_fun  pf_o_amb  ...  attr3_3  sinc3_3  intel3_3  fun3_3  amb3_3  \\\n",
       "0        20.00      5.00  ...      NaN      NaN       NaN     NaN     NaN   \n",
       "1        25.00      0.00  ...      6.0      8.0       8.0     7.0     8.0   \n",
       "2        25.00     10.00  ...      NaN      NaN       NaN     NaN     NaN   \n",
       "3        16.98     16.98  ...      8.0      9.0       8.0     8.0     6.0   \n",
       "4        20.00     20.00  ...      NaN      NaN       NaN     NaN     NaN   \n",
       "...        ...       ...  ...      ...      ...       ...     ...     ...   \n",
       "5904     21.28     14.89  ...     12.0     12.0      12.0     9.0    12.0   \n",
       "5905     12.50     20.00  ...      NaN      NaN       NaN     NaN     NaN   \n",
       "5906     10.00      5.00  ...      NaN      NaN       NaN     NaN     NaN   \n",
       "5907     18.18     16.36  ...      NaN      NaN       NaN     NaN     NaN   \n",
       "5908     20.00     10.00  ...      NaN      NaN       NaN     NaN     NaN   \n",
       "\n",
       "      attr5_3  sinc5_3  intel5_3  fun5_3  amb5_3  \n",
       "0         NaN      NaN       NaN     NaN     NaN  \n",
       "1         NaN      NaN       NaN     NaN     NaN  \n",
       "2         NaN      NaN       NaN     NaN     NaN  \n",
       "3         NaN      NaN       NaN     NaN     NaN  \n",
       "4         NaN      NaN       NaN     NaN     NaN  \n",
       "...       ...      ...       ...     ...     ...  \n",
       "5904      NaN      NaN       NaN     NaN     NaN  \n",
       "5905      NaN      NaN       NaN     NaN     NaN  \n",
       "5906      NaN      NaN       NaN     NaN     NaN  \n",
       "5907      NaN      NaN       NaN     NaN     NaN  \n",
       "5908      NaN      NaN       NaN     NaN     NaN  \n",
       "\n",
       "[5909 rows x 173 columns]"
      ]
     },
     "execution_count": 16,
     "metadata": {},
     "output_type": "execute_result"
    }
   ],
   "source": [
    "col_float = train_data2.select_dtypes('float64')#float\n",
    "col_float"
   ]
  },
  {
   "cell_type": "code",
   "execution_count": null,
   "metadata": {
    "colab": {
     "base_uri": "https://localhost:8080/",
     "height": 537
    },
    "id": "58PAq2vwoWBn",
    "outputId": "b1a64e77-114f-4c51-a09c-ca23de559f0b"
   },
   "outputs": [
    {
     "data": {
      "text/html": [
       "\n",
       "  <div id=\"df-da622fb8-12be-4580-ac03-0aac7e09e65c\">\n",
       "    <div class=\"colab-df-container\">\n",
       "      <div>\n",
       "<style scoped>\n",
       "    .dataframe tbody tr th:only-of-type {\n",
       "        vertical-align: middle;\n",
       "    }\n",
       "\n",
       "    .dataframe tbody tr th {\n",
       "        vertical-align: top;\n",
       "    }\n",
       "\n",
       "    .dataframe thead th {\n",
       "        text-align: right;\n",
       "    }\n",
       "</style>\n",
       "<table border=\"1\" class=\"dataframe\">\n",
       "  <thead>\n",
       "    <tr style=\"text-align: right;\">\n",
       "      <th></th>\n",
       "      <th>field</th>\n",
       "      <th>undergra</th>\n",
       "      <th>mn_sat</th>\n",
       "      <th>tuition</th>\n",
       "      <th>from</th>\n",
       "      <th>zipcode</th>\n",
       "      <th>income</th>\n",
       "      <th>career</th>\n",
       "    </tr>\n",
       "  </thead>\n",
       "  <tbody>\n",
       "    <tr>\n",
       "      <th>0</th>\n",
       "      <td>Ed.D. in higher education policy at TC</td>\n",
       "      <td>University of Michigan-Ann Arbor</td>\n",
       "      <td>1,290.00</td>\n",
       "      <td>21,645.00</td>\n",
       "      <td>Palo Alto, CA</td>\n",
       "      <td>NaN</td>\n",
       "      <td>NaN</td>\n",
       "      <td>University President</td>\n",
       "    </tr>\n",
       "    <tr>\n",
       "      <th>1</th>\n",
       "      <td>Engineering</td>\n",
       "      <td>NaN</td>\n",
       "      <td>NaN</td>\n",
       "      <td>NaN</td>\n",
       "      <td>Boston, MA</td>\n",
       "      <td>2,021</td>\n",
       "      <td>NaN</td>\n",
       "      <td>Engineer or iBanker or consultant</td>\n",
       "    </tr>\n",
       "    <tr>\n",
       "      <th>2</th>\n",
       "      <td>Urban Planning</td>\n",
       "      <td>Rizvi College of Architecture, Bombay University</td>\n",
       "      <td>NaN</td>\n",
       "      <td>NaN</td>\n",
       "      <td>Bombay, India</td>\n",
       "      <td>NaN</td>\n",
       "      <td>NaN</td>\n",
       "      <td>Real Estate Consulting</td>\n",
       "    </tr>\n",
       "    <tr>\n",
       "      <th>3</th>\n",
       "      <td>International Affairs</td>\n",
       "      <td>NaN</td>\n",
       "      <td>NaN</td>\n",
       "      <td>NaN</td>\n",
       "      <td>Washington, DC</td>\n",
       "      <td>10,471</td>\n",
       "      <td>45,300.00</td>\n",
       "      <td>public service</td>\n",
       "    </tr>\n",
       "    <tr>\n",
       "      <th>4</th>\n",
       "      <td>Business</td>\n",
       "      <td>Harvard College</td>\n",
       "      <td>1,400.00</td>\n",
       "      <td>26,019.00</td>\n",
       "      <td>Midwest USA</td>\n",
       "      <td>66,208</td>\n",
       "      <td>46,138.00</td>\n",
       "      <td>undecided</td>\n",
       "    </tr>\n",
       "    <tr>\n",
       "      <th>...</th>\n",
       "      <td>...</td>\n",
       "      <td>...</td>\n",
       "      <td>...</td>\n",
       "      <td>...</td>\n",
       "      <td>...</td>\n",
       "      <td>...</td>\n",
       "      <td>...</td>\n",
       "      <td>...</td>\n",
       "    </tr>\n",
       "    <tr>\n",
       "      <th>5904</th>\n",
       "      <td>Clinical Psychology</td>\n",
       "      <td>NaN</td>\n",
       "      <td>NaN</td>\n",
       "      <td>NaN</td>\n",
       "      <td>New York</td>\n",
       "      <td>11,803</td>\n",
       "      <td>65,708.00</td>\n",
       "      <td>Psychologist</td>\n",
       "    </tr>\n",
       "    <tr>\n",
       "      <th>5905</th>\n",
       "      <td>MBA</td>\n",
       "      <td>NaN</td>\n",
       "      <td>NaN</td>\n",
       "      <td>NaN</td>\n",
       "      <td>Colombia</td>\n",
       "      <td>NaN</td>\n",
       "      <td>NaN</td>\n",
       "      <td>Consulting</td>\n",
       "    </tr>\n",
       "    <tr>\n",
       "      <th>5906</th>\n",
       "      <td>MA Science Education</td>\n",
       "      <td>University of Washington</td>\n",
       "      <td>1,155.00</td>\n",
       "      <td>13,258.00</td>\n",
       "      <td>Seattle</td>\n",
       "      <td>98,115</td>\n",
       "      <td>37,881.00</td>\n",
       "      <td>Teacher</td>\n",
       "    </tr>\n",
       "    <tr>\n",
       "      <th>5907</th>\n",
       "      <td>Biochemistry</td>\n",
       "      <td>NaN</td>\n",
       "      <td>NaN</td>\n",
       "      <td>NaN</td>\n",
       "      <td>Canada</td>\n",
       "      <td>NaN</td>\n",
       "      <td>NaN</td>\n",
       "      <td>pharmaceuticals and biotechnology</td>\n",
       "    </tr>\n",
       "    <tr>\n",
       "      <th>5908</th>\n",
       "      <td>MFA Acting Program</td>\n",
       "      <td>Hamilton College</td>\n",
       "      <td>1,280.00</td>\n",
       "      <td>27,350.00</td>\n",
       "      <td>Cambridge, MA</td>\n",
       "      <td>2,140</td>\n",
       "      <td>NaN</td>\n",
       "      <td>Actress</td>\n",
       "    </tr>\n",
       "  </tbody>\n",
       "</table>\n",
       "<p>5909 rows × 8 columns</p>\n",
       "</div>\n",
       "      <button class=\"colab-df-convert\" onclick=\"convertToInteractive('df-da622fb8-12be-4580-ac03-0aac7e09e65c')\"\n",
       "              title=\"Convert this dataframe to an interactive table.\"\n",
       "              style=\"display:none;\">\n",
       "        \n",
       "  <svg xmlns=\"http://www.w3.org/2000/svg\" height=\"24px\"viewBox=\"0 0 24 24\"\n",
       "       width=\"24px\">\n",
       "    <path d=\"M0 0h24v24H0V0z\" fill=\"none\"/>\n",
       "    <path d=\"M18.56 5.44l.94 2.06.94-2.06 2.06-.94-2.06-.94-.94-2.06-.94 2.06-2.06.94zm-11 1L8.5 8.5l.94-2.06 2.06-.94-2.06-.94L8.5 2.5l-.94 2.06-2.06.94zm10 10l.94 2.06.94-2.06 2.06-.94-2.06-.94-.94-2.06-.94 2.06-2.06.94z\"/><path d=\"M17.41 7.96l-1.37-1.37c-.4-.4-.92-.59-1.43-.59-.52 0-1.04.2-1.43.59L10.3 9.45l-7.72 7.72c-.78.78-.78 2.05 0 2.83L4 21.41c.39.39.9.59 1.41.59.51 0 1.02-.2 1.41-.59l7.78-7.78 2.81-2.81c.8-.78.8-2.07 0-2.86zM5.41 20L4 18.59l7.72-7.72 1.47 1.35L5.41 20z\"/>\n",
       "  </svg>\n",
       "      </button>\n",
       "      \n",
       "  <style>\n",
       "    .colab-df-container {\n",
       "      display:flex;\n",
       "      flex-wrap:wrap;\n",
       "      gap: 12px;\n",
       "    }\n",
       "\n",
       "    .colab-df-convert {\n",
       "      background-color: #E8F0FE;\n",
       "      border: none;\n",
       "      border-radius: 50%;\n",
       "      cursor: pointer;\n",
       "      display: none;\n",
       "      fill: #1967D2;\n",
       "      height: 32px;\n",
       "      padding: 0 0 0 0;\n",
       "      width: 32px;\n",
       "    }\n",
       "\n",
       "    .colab-df-convert:hover {\n",
       "      background-color: #E2EBFA;\n",
       "      box-shadow: 0px 1px 2px rgba(60, 64, 67, 0.3), 0px 1px 3px 1px rgba(60, 64, 67, 0.15);\n",
       "      fill: #174EA6;\n",
       "    }\n",
       "\n",
       "    [theme=dark] .colab-df-convert {\n",
       "      background-color: #3B4455;\n",
       "      fill: #D2E3FC;\n",
       "    }\n",
       "\n",
       "    [theme=dark] .colab-df-convert:hover {\n",
       "      background-color: #434B5C;\n",
       "      box-shadow: 0px 1px 3px 1px rgba(0, 0, 0, 0.15);\n",
       "      filter: drop-shadow(0px 1px 2px rgba(0, 0, 0, 0.3));\n",
       "      fill: #FFFFFF;\n",
       "    }\n",
       "  </style>\n",
       "\n",
       "      <script>\n",
       "        const buttonEl =\n",
       "          document.querySelector('#df-da622fb8-12be-4580-ac03-0aac7e09e65c button.colab-df-convert');\n",
       "        buttonEl.style.display =\n",
       "          google.colab.kernel.accessAllowed ? 'block' : 'none';\n",
       "\n",
       "        async function convertToInteractive(key) {\n",
       "          const element = document.querySelector('#df-da622fb8-12be-4580-ac03-0aac7e09e65c');\n",
       "          const dataTable =\n",
       "            await google.colab.kernel.invokeFunction('convertToInteractive',\n",
       "                                                     [key], {});\n",
       "          if (!dataTable) return;\n",
       "\n",
       "          const docLinkHtml = 'Like what you see? Visit the ' +\n",
       "            '<a target=\"_blank\" href=https://colab.research.google.com/notebooks/data_table.ipynb>data table notebook</a>'\n",
       "            + ' to learn more about interactive tables.';\n",
       "          element.innerHTML = '';\n",
       "          dataTable['output_type'] = 'display_data';\n",
       "          await google.colab.output.renderOutput(dataTable, element);\n",
       "          const docLink = document.createElement('div');\n",
       "          docLink.innerHTML = docLinkHtml;\n",
       "          element.appendChild(docLink);\n",
       "        }\n",
       "      </script>\n",
       "    </div>\n",
       "  </div>\n",
       "  "
      ],
      "text/plain": [
       "                                       field  \\\n",
       "0     Ed.D. in higher education policy at TC   \n",
       "1                                Engineering   \n",
       "2                             Urban Planning   \n",
       "3                      International Affairs   \n",
       "4                                   Business   \n",
       "...                                      ...   \n",
       "5904                     Clinical Psychology   \n",
       "5905                                     MBA   \n",
       "5906                    MA Science Education   \n",
       "5907                            Biochemistry   \n",
       "5908                      MFA Acting Program   \n",
       "\n",
       "                                              undergra    mn_sat    tuition  \\\n",
       "0                     University of Michigan-Ann Arbor  1,290.00  21,645.00   \n",
       "1                                                  NaN       NaN        NaN   \n",
       "2     Rizvi College of Architecture, Bombay University       NaN        NaN   \n",
       "3                                                  NaN       NaN        NaN   \n",
       "4                                      Harvard College  1,400.00  26,019.00   \n",
       "...                                                ...       ...        ...   \n",
       "5904                                               NaN       NaN        NaN   \n",
       "5905                                               NaN       NaN        NaN   \n",
       "5906                          University of Washington  1,155.00  13,258.00   \n",
       "5907                                               NaN       NaN        NaN   \n",
       "5908                                  Hamilton College  1,280.00  27,350.00   \n",
       "\n",
       "                from zipcode     income                             career  \n",
       "0      Palo Alto, CA     NaN        NaN               University President  \n",
       "1         Boston, MA   2,021        NaN  Engineer or iBanker or consultant  \n",
       "2      Bombay, India     NaN        NaN             Real Estate Consulting  \n",
       "3     Washington, DC  10,471  45,300.00                     public service  \n",
       "4        Midwest USA  66,208  46,138.00                          undecided  \n",
       "...              ...     ...        ...                                ...  \n",
       "5904        New York  11,803  65,708.00                       Psychologist  \n",
       "5905        Colombia     NaN        NaN                         Consulting  \n",
       "5906         Seattle  98,115  37,881.00                            Teacher  \n",
       "5907          Canada     NaN        NaN  pharmaceuticals and biotechnology  \n",
       "5908   Cambridge, MA   2,140        NaN                            Actress  \n",
       "\n",
       "[5909 rows x 8 columns]"
      ]
     },
     "execution_count": 17,
     "metadata": {},
     "output_type": "execute_result"
    }
   ],
   "source": [
    "col_object = train_data2.select_dtypes('object')#object\n",
    "col_object"
   ]
  },
  {
   "cell_type": "markdown",
   "metadata": {
    "id": "uYcPcBtzH06W"
   },
   "source": [
    "# Here, we just convert our object to Categories ♥♥♥♥♥♥"
   ]
  },
  {
   "cell_type": "code",
   "execution_count": null,
   "metadata": {
    "id": "94SyQh6BojCf"
   },
   "outputs": [],
   "source": [
    "m=['field','undergra','mn_sat','tuition','from','zipcode','income','career']\n",
    "for i in m:\n",
    "  train_data2[i] = train_data2[i].astype('category')"
   ]
  },
  {
   "cell_type": "code",
   "execution_count": null,
   "metadata": {
    "colab": {
     "base_uri": "https://localhost:8080/"
    },
    "id": "sOVlHWrLqSoX",
    "outputId": "d2ad88de-d49c-4d9b-8821-b800c66a4949"
   },
   "outputs": [
    {
     "name": "stdout",
     "output_type": "stream",
     "text": [
      "<class 'pandas.core.frame.DataFrame'>\n",
      "RangeIndex: 5909 entries, 0 to 5908\n",
      "Columns: 192 entries, gender to id\n",
      "dtypes: category(8), float64(173), int64(11)\n",
      "memory usage: 8.5 MB\n"
     ]
    }
   ],
   "source": [
    "train_data2.info()"
   ]
  },
  {
   "cell_type": "markdown",
   "metadata": {
    "id": "yG1e9MCOIkaU"
   },
   "source": [
    "We just seperate the data to x & y"
   ]
  },
  {
   "cell_type": "code",
   "execution_count": null,
   "metadata": {
    "id": "SL1YcD67qskI"
   },
   "outputs": [],
   "source": [
    "y = train_data2['match']\n",
    "x = train_data2.drop(['match','id'],axis=1)\n",
    "test_data2 = test_data.drop(columns = ['id'])"
   ]
  },
  {
   "cell_type": "markdown",
   "metadata": {
    "id": "ODYuD0pLKA8C"
   },
   "source": [
    "# we split the data to training and validation data"
   ]
  },
  {
   "cell_type": "code",
   "execution_count": null,
   "metadata": {
    "id": "aQHkTiiRtUe5"
   },
   "outputs": [],
   "source": [
    "from sklearn.model_selection import train_test_split\n",
    "x_train, x_val, y_train, y_val = train_test_split(x, y, test_size=0.2, random_state=42)"
   ]
  },
  {
   "cell_type": "markdown",
   "metadata": {
    "id": "_IjUhkYd0XJH"
   },
   "source": [
    "# Here,we check the imbalancing of the data"
   ]
  },
  {
   "cell_type": "code",
   "execution_count": null,
   "metadata": {
    "colab": {
     "base_uri": "https://localhost:8080/",
     "height": 466
    },
    "id": "DbLpDiPE0FHG",
    "outputId": "ff67c475-d5db-4bf6-c075-67b0851d7939"
   },
   "outputs": [
    {
     "data": {
      "text/plain": [
       "<Axes: xlabel='index', ylabel='match'>"
      ]
     },
     "execution_count": 22,
     "metadata": {},
     "output_type": "execute_result"
    },
    {
     "data": {
      "image/png": "[encoded data removed]",
      "text/plain": [
       "<Figure size 640x480 with 1 Axes>"
      ]
     },
     "metadata": {},
     "output_type": "display_data"
    }
   ],
   "source": [
    "import seaborn as sb\n",
    "target_col=['match']\n",
    "x1=train_data[target_col[0]].value_counts().reset_index()\n",
    "sb.barplot ( x=\"index\", y=\"match\",data=x1, palette=\"cividis\")"
   ]
  },
  {
   "cell_type": "markdown",
   "metadata": {
    "id": "BNipD3pWz02z"
   },
   "source": [
    "# Here, we will solve the problem of imbalancing using the RandomOverSampler function as we found a huge difference between the data"
   ]
  },
  {
   "cell_type": "code",
   "execution_count": null,
   "metadata": {
    "id": "OCjjUVkRzzj_"
   },
   "outputs": [],
   "source": [
    "from imblearn.over_sampling import RandomOverSampler\n",
    "from imblearn.pipeline import make_pipeline\n",
    "     \n",
    "\n",
    "# ran_sample Object from RandomOverSampler\n",
    "ran_sample = RandomOverSampler(random_state=0)\n",
    "\n",
    "#Apply the algorithm in data(X_train, y_train) \n",
    "x_train, y_train = ran_sample.fit_resample(x_train, y_train)"
   ]
  },
  {
   "cell_type": "markdown",
   "metadata": {
    "id": "eMF30Mm9KJQJ"
   },
   "source": [
    "# Now, we use the data that we got it from the previos step to split them to catergorical and numeric(float & int) to be able to fill each null on them"
   ]
  },
  {
   "cell_type": "code",
   "execution_count": null,
   "metadata": {
    "colab": {
     "base_uri": "https://localhost:8080/"
    },
    "id": "15_7JpMptdmq",
    "outputId": "5ab1be92-2d47-4a5a-df57-bf254a59bf60"
   },
   "outputs": [
    {
     "name": "stdout",
     "output_type": "stream",
     "text": [
      "numeric features: ['gender', 'idg', 'condtn', 'wave', 'round', 'position', 'positin1', 'order', 'partner', 'pid', 'int_corr', 'samerace', 'age_o', 'race_o', 'pf_o_att', 'pf_o_sin', 'pf_o_int', 'pf_o_fun', 'pf_o_amb', 'pf_o_sha', 'attr_o', 'sinc_o', 'intel_o', 'fun_o', 'amb_o', 'shar_o', 'like_o', 'prob_o', 'met_o', 'age', 'field_cd', 'race', 'imprace', 'imprelig', 'goal', 'date', 'go_out', 'career_c', 'sports', 'tvsports', 'exercise', 'dining', 'museums', 'art', 'hiking', 'gaming', 'clubbing', 'reading', 'tv', 'theater', 'movies', 'concerts', 'music', 'shopping', 'yoga', 'exphappy', 'expnum', 'attr1_1', 'sinc1_1', 'intel1_1', 'fun1_1', 'amb1_1', 'shar1_1', 'attr4_1', 'sinc4_1', 'intel4_1', 'fun4_1', 'amb4_1', 'shar4_1', 'attr2_1', 'sinc2_1', 'intel2_1', 'fun2_1', 'amb2_1', 'shar2_1', 'attr3_1', 'sinc3_1', 'fun3_1', 'intel3_1', 'amb3_1', 'attr5_1', 'sinc5_1', 'intel5_1', 'fun5_1', 'amb5_1', 'attr', 'sinc', 'intel', 'fun', 'amb', 'shar', 'like', 'prob', 'met', 'match_es', 'attr1_s', 'sinc1_s', 'intel1_s', 'fun1_s', 'amb1_s', 'shar1_s', 'attr3_s', 'sinc3_s', 'intel3_s', 'fun3_s', 'amb3_s', 'satis_2', 'length', 'numdat_2', 'attr7_2', 'sinc7_2', 'intel7_2', 'fun7_2', 'amb7_2', 'shar7_2', 'attr1_2', 'sinc1_2', 'intel1_2', 'fun1_2', 'amb1_2', 'shar1_2', 'attr4_2', 'sinc4_2', 'intel4_2', 'fun4_2', 'amb4_2', 'shar4_2', 'attr2_2', 'sinc2_2', 'intel2_2', 'fun2_2', 'amb2_2', 'shar2_2', 'attr3_2', 'sinc3_2', 'intel3_2', 'fun3_2', 'amb3_2', 'attr5_2', 'sinc5_2', 'intel5_2', 'fun5_2', 'amb5_2', 'you_call', 'them_cal', 'date_3', 'numdat_3', 'num_in_3', 'attr1_3', 'sinc1_3', 'intel1_3', 'fun1_3', 'amb1_3', 'shar1_3', 'attr7_3', 'sinc7_3', 'intel7_3', 'fun7_3', 'amb7_3', 'shar7_3', 'attr4_3', 'sinc4_3', 'intel4_3', 'fun4_3', 'amb4_3', 'shar4_3', 'attr2_3', 'sinc2_3', 'intel2_3', 'fun2_3', 'amb2_3', 'shar2_3', 'attr3_3', 'sinc3_3', 'intel3_3', 'fun3_3', 'amb3_3', 'attr5_3', 'sinc5_3', 'intel5_3', 'fun5_3', 'amb5_3']\n",
      "categorical features: ['field', 'undergra', 'mn_sat', 'tuition', 'from', 'zipcode', 'income', 'career']\n"
     ]
    }
   ],
   "source": [
    "features_numeric = list(x_train.select_dtypes(include=['float64', 'int64']))\n",
    "\n",
    "# categorical features can be selected by: (based on the df2.info() output )\n",
    "features_categorical = list(x_train.select_dtypes(include=['category']))\n",
    "\n",
    "print('numeric features:', features_numeric)\n",
    "print('categorical features:', features_categorical)"
   ]
  },
  {
   "cell_type": "markdown",
   "metadata": {
    "id": "-9pUhGaNKqTw"
   },
   "source": [
    "# Voilaaaaaaaaaaaaaa 🙂🙂🙂🙂🙂🙂🙂"
   ]
  },
  {
   "cell_type": "markdown",
   "metadata": {
    "id": "_pv-gjpdKx_6"
   },
   "source": [
    "We will apply the pipeline to make sequence to our code\n",
    "\n",
    "\n",
    "1.   we replace each null in numeric values using imputer & standardized them\n",
    "2.   we replace each null in the categorical values & convert them to one hot encoder\n",
    "3. we transform the columns\n",
    "4. finally, we aplly the model on them\n",
    "\n",
    "\n"
   ]
  },
  {
   "cell_type": "markdown",
   "metadata": {
    "id": "HgVtlCatLyfO"
   },
   "source": [
    "We used RandomForestClassifier & XGBClassifier"
   ]
  },
  {
   "cell_type": "code",
   "execution_count": null,
   "metadata": {
    "id": "YDf1q4NYHENW",
    "outputId": "961c2696-abaa-40ac-b85a-214797a93947"
   },
   "outputs": [
    {
     "name": "stdout",
     "output_type": "stream",
     "text": [
      "Requirement already satisfied: xgboost in c:\\programdata\\anaconda3\\lib\\site-packages (1.7.4)\n",
      "Requirement already satisfied: numpy in c:\\programdata\\anaconda3\\lib\\site-packages (from xgboost) (1.19.2)\n",
      "Requirement already satisfied: scipy in c:\\programdata\\anaconda3\\lib\\site-packages (from xgboost) (1.5.2)\n"
     ]
    },
    {
     "name": "stderr",
     "output_type": "stream",
     "text": [
      "WARNING: Ignoring invalid distribution -blib (c:\\programdata\\anaconda3\\lib\\site-packages)\n",
      "WARNING: Ignoring invalid distribution -umpy (c:\\programdata\\anaconda3\\lib\\site-packages)\n",
      "WARNING: Ignoring invalid distribution -oblib (c:\\programdata\\anaconda3\\lib\\site-packages)\n",
      "WARNING: Ignoring invalid distribution - (c:\\programdata\\anaconda3\\lib\\site-packages)\n",
      "WARNING: Ignoring invalid distribution -blib (c:\\programdata\\anaconda3\\lib\\site-packages)\n",
      "WARNING: Ignoring invalid distribution -blib (c:\\programdata\\anaconda3\\lib\\site-packages)\n",
      "WARNING: Ignoring invalid distribution -umpy (c:\\programdata\\anaconda3\\lib\\site-packages)\n",
      "WARNING: Ignoring invalid distribution -oblib (c:\\programdata\\anaconda3\\lib\\site-packages)\n",
      "WARNING: Ignoring invalid distribution - (c:\\programdata\\anaconda3\\lib\\site-packages)\n",
      "WARNING: Ignoring invalid distribution -blib (c:\\programdata\\anaconda3\\lib\\site-packages)\n",
      "WARNING: Ignoring invalid distribution -blib (c:\\programdata\\anaconda3\\lib\\site-packages)\n",
      "WARNING: Ignoring invalid distribution -umpy (c:\\programdata\\anaconda3\\lib\\site-packages)\n",
      "WARNING: Ignoring invalid distribution -oblib (c:\\programdata\\anaconda3\\lib\\site-packages)\n",
      "WARNING: Ignoring invalid distribution - (c:\\programdata\\anaconda3\\lib\\site-packages)\n",
      "WARNING: Ignoring invalid distribution -blib (c:\\programdata\\anaconda3\\lib\\site-packages)\n",
      "WARNING: Ignoring invalid distribution -blib (c:\\programdata\\anaconda3\\lib\\site-packages)\n",
      "WARNING: Ignoring invalid distribution -umpy (c:\\programdata\\anaconda3\\lib\\site-packages)\n",
      "WARNING: Ignoring invalid distribution -oblib (c:\\programdata\\anaconda3\\lib\\site-packages)\n",
      "WARNING: Ignoring invalid distribution - (c:\\programdata\\anaconda3\\lib\\site-packages)\n",
      "WARNING: Ignoring invalid distribution -blib (c:\\programdata\\anaconda3\\lib\\site-packages)\n",
      "\n",
      "[notice] A new release of pip available: 22.3.1 -> 23.0.1\n",
      "[notice] To update, run: python.exe -m pip install --upgrade pip\n"
     ]
    }
   ],
   "source": [
    "!pip install xgboost"
   ]
  },
  {
   "cell_type": "code",
   "execution_count": null,
   "metadata": {
    "id": "b3IixIkHHENZ",
    "outputId": "e0dc73a6-c50c-41a5-893c-149fd78faf4d"
   },
   "outputs": [
    {
     "name": "stdout",
     "output_type": "stream",
     "text": [
      "Collecting imblearn\n",
      "  Downloading imblearn-0.0-py2.py3-none-any.whl (1.9 kB)\n",
      "Collecting imbalanced-learn\n",
      "  Downloading imbalanced_learn-0.10.1-py3-none-any.whl (226 kB)\n",
      "     ------------------------------------ 226.0/226.0 kB 918.1 kB/s eta 0:00:00\n",
      "Requirement already satisfied: joblib>=1.1.1 in c:\\programdata\\anaconda3\\lib\\site-packages (from imbalanced-learn->imblearn) (1.1.1)\n",
      "Collecting scikit-learn>=1.0.2\n",
      "  Downloading scikit_learn-1.2.2-cp38-cp38-win_amd64.whl (8.3 MB)\n",
      "     ---------------------------------------- 8.3/8.3 MB 6.4 MB/s eta 0:00:00\n",
      "Requirement already satisfied: scipy>=1.3.2 in c:\\programdata\\anaconda3\\lib\\site-packages (from imbalanced-learn->imblearn) (1.5.2)\n",
      "Requirement already satisfied: threadpoolctl>=2.0.0 in c:\\programdata\\anaconda3\\lib\\site-packages (from imbalanced-learn->imblearn) (2.2.0)\n",
      "Requirement already satisfied: numpy>=1.17.3 in c:\\programdata\\anaconda3\\lib\\site-packages (from imbalanced-learn->imblearn) (1.23.5)\n"
     ]
    },
    {
     "name": "stderr",
     "output_type": "stream",
     "text": [
      "WARNING: Ignoring invalid distribution -mpy (c:\\programdata\\anaconda3\\lib\\site-packages)\n",
      "WARNING: Ignoring invalid distribution -umpy (c:\\programdata\\anaconda3\\lib\\site-packages)\n",
      "WARNING: Ignoring invalid distribution -mportlib-metadata (c:\\programdata\\anaconda3\\lib\\site-packages)\n",
      "WARNING: Ignoring invalid distribution - (c:\\programdata\\anaconda3\\lib\\site-packages)\n",
      "WARNING: Ignoring invalid distribution -mpy (c:\\programdata\\anaconda3\\lib\\site-packages)\n",
      "WARNING: Ignoring invalid distribution -umpy (c:\\programdata\\anaconda3\\lib\\site-packages)\n",
      "WARNING: Ignoring invalid distribution -mportlib-metadata (c:\\programdata\\anaconda3\\lib\\site-packages)\n",
      "WARNING: Ignoring invalid distribution - (c:\\programdata\\anaconda3\\lib\\site-packages)\n",
      "ERROR: Could not install packages due to an OSError: [Errno 2] No such file or directory: 'c:\\\\programdata\\\\anaconda3\\\\lib\\\\site-packages\\\\scipy-1.5.2.dist-info\\\\METADATA'\n",
      "\n",
      "WARNING: Ignoring invalid distribution -mpy (c:\\programdata\\anaconda3\\lib\\site-packages)\n",
      "WARNING: Ignoring invalid distribution -umpy (c:\\programdata\\anaconda3\\lib\\site-packages)\n",
      "WARNING: Ignoring invalid distribution -mportlib-metadata (c:\\programdata\\anaconda3\\lib\\site-packages)\n",
      "WARNING: Ignoring invalid distribution - (c:\\programdata\\anaconda3\\lib\\site-packages)\n",
      "WARNING: Ignoring invalid distribution -mpy (c:\\programdata\\anaconda3\\lib\\site-packages)\n",
      "WARNING: Ignoring invalid distribution -umpy (c:\\programdata\\anaconda3\\lib\\site-packages)\n",
      "WARNING: Ignoring invalid distribution -mportlib-metadata (c:\\programdata\\anaconda3\\lib\\site-packages)\n",
      "WARNING: Ignoring invalid distribution - (c:\\programdata\\anaconda3\\lib\\site-packages)\n",
      "WARNING: Ignoring invalid distribution -mpy (c:\\programdata\\anaconda3\\lib\\site-packages)\n",
      "WARNING: Ignoring invalid distribution -umpy (c:\\programdata\\anaconda3\\lib\\site-packages)\n",
      "WARNING: Ignoring invalid distribution -mportlib-metadata (c:\\programdata\\anaconda3\\lib\\site-packages)\n",
      "WARNING: Ignoring invalid distribution - (c:\\programdata\\anaconda3\\lib\\site-packages)\n"
     ]
    }
   ],
   "source": [
    "!pip install imblearn"
   ]
  },
  {
   "cell_type": "code",
   "execution_count": null,
   "metadata": {
    "id": "WKSdYqmKtpLW"
   },
   "outputs": [],
   "source": [
    "from sklearn.compose import ColumnTransformer\n",
    "from sklearn.datasets import fetch_openml\n",
    "from sklearn.pipeline import Pipeline\n",
    "from sklearn.impute import SimpleImputer\n",
    "from sklearn.preprocessing import StandardScaler, OneHotEncoder\n",
    "from sklearn.linear_model import LogisticRegression\n",
    "from sklearn.ensemble import RandomForestClassifier\n",
    "from sklearn.model_selection import train_test_split, GridSearchCV\n",
    "from xgboost.sklearn import XGBClassifier\n",
    "from sklearn.feature_selection import SelectKBest, mutual_info_classif\n",
    "from sklearn.ensemble import GradientBoostingClassifier\n",
    "\n",
    "transformer_numeric = Pipeline(\n",
    "    steps=[\n",
    "        ('imputer', SimpleImputer()),\n",
    "        ('scaler', StandardScaler())]\n",
    ")\n",
    "\n",
    "# define a pipe line for categorical feature preprocessing\n",
    "# we gave them a name so we can set their hyperparameters\n",
    "transformer_categorical = Pipeline(\n",
    "    steps=[\n",
    "        ('imputer', SimpleImputer(strategy='constant')),\n",
    "        ('onehot', OneHotEncoder(handle_unknown='ignore'))\n",
    "    ]\n",
    ")\n",
    "# define the preprocessor \n",
    "# we gave them a name so we can set their hyperparameters\n",
    "# we also specify what are the categorical \n",
    "preprocessor = ColumnTransformer(\n",
    "    transformers=[\n",
    "        ('num', transformer_numeric, features_numeric),\n",
    "        ('cat', transformer_categorical, features_categorical)\n",
    "    ]\n",
    ")\n",
    "\n",
    "# combine the preprocessor with the model as a full tunable pipeline\n",
    "# we gave them a name so we can set their hyperparameters\n",
    "\n",
    "full_pipline_RFC = Pipeline(\n",
    "    steps=[\n",
    "        ('preprocessor', preprocessor),\n",
    "        ('my_classifier', \n",
    "           RandomForestClassifier(),\n",
    "        )\n",
    "    ]\n",
    ")\n"
   ]
  },
  {
   "cell_type": "markdown",
   "metadata": {
    "id": "pTWksHEgL8oV"
   },
   "source": [
    "# We will fit the pipeline of RandomForestClassifier  "
   ]
  },
  {
   "cell_type": "code",
   "execution_count": null,
   "metadata": {
    "colab": {
     "base_uri": "https://localhost:8080/"
    },
    "id": "_PB-P0G1u53g",
    "outputId": "57412e9d-0006-442f-bff5-a54f95ea436d"
   },
   "outputs": [
    {
     "data": {
      "text/plain": [
       "array([0, 0, 0, ..., 0, 0, 0], dtype=int64)"
      ]
     },
     "execution_count": 14,
     "metadata": {},
     "output_type": "execute_result"
    }
   ],
   "source": [
    "full_pipline_RFC = full_pipline_RFC.fit(x_train, y_train)\n",
    "full_pipline_RFC.predict(x_val)"
   ]
  },
  {
   "cell_type": "markdown",
   "metadata": {
    "id": "kp1c3EtCGO9t"
   },
   "source": [
    "# We will fit the pipeline of XGBClassifier "
   ]
  },
  {
   "cell_type": "code",
   "execution_count": null,
   "metadata": {
    "id": "-wHMSZKd9zWb"
   },
   "outputs": [],
   "source": [
    "full_pipeline = Pipeline(\n",
    "    steps=[\n",
    "        ('preprocessor', preprocessor),\n",
    "        ('my_classifier', \n",
    "           XGBClassifier(),\n",
    "        )\n",
    "    ]\n",
    ")\n",
    "   "
   ]
  },
  {
   "cell_type": "code",
   "execution_count": null,
   "metadata": {
    "colab": {
     "base_uri": "https://localhost:8080/"
    },
    "id": "IySmKvc35BsM",
    "outputId": "8556db1c-9968-44ca-c9b5-82da022cd469"
   },
   "outputs": [
    {
     "data": {
      "text/plain": [
       "array([0, 0, 0, ..., 0, 0, 0])"
      ]
     },
     "execution_count": 16,
     "metadata": {},
     "output_type": "execute_result"
    }
   ],
   "source": [
    "full_pipeline = full_pipeline.fit(x_train, y_train)\n",
    "full_pipeline.predict(x_val)"
   ]
  },
  {
   "cell_type": "markdown",
   "metadata": {
    "id": "14rPrdKVHaGG"
   },
   "source": [
    "we made a 4 pipelines:\n",
    "\n",
    "1. define a pipe line for numeric feature preprocessing and apply on them standarization\n",
    "2. define a pipe line for categorical feature preprocessing and apply one hot encoding\n",
    "3. we but the categorical and numeric features in transformers to be able to path them to the model in the new pipeline\n",
    "4. pipeline for randomforest classifier\n",
    "5. pipeline for xgbclassifier\n"
   ]
  },
  {
   "cell_type": "markdown",
   "metadata": {
    "id": "HQzKQfwFMJz9"
   },
   "source": [
    "# Here, we apply the grid search on RandomForestClassifier to see the best hyper parameters ⌛⌛⌛⌛ (we try different values)"
   ]
  },
  {
   "cell_type": "code",
   "execution_count": null,
   "metadata": {
    "id": "OJSvVBfcvEOq",
    "outputId": "acc312b3-c29f-467e-d911-87db64cb66b0"
   },
   "outputs": [
    {
     "name": "stdout",
     "output_type": "stream",
     "text": [
      "Fitting 4 folds for each of 96 candidates, totalling 384 fits\n"
     ]
    },
    {
     "name": "stderr",
     "output_type": "stream",
     "text": [
      "[Parallel(n_jobs=2)]: Using backend LokyBackend with 2 concurrent workers.\n",
      "[Parallel(n_jobs=2)]: Done  46 tasks      | elapsed:   11.2s\n",
      "[Parallel(n_jobs=2)]: Done 196 tasks      | elapsed:   50.9s\n",
      "[Parallel(n_jobs=2)]: Done 384 out of 384 | elapsed:  1.8min finished\n"
     ]
    },
    {
     "name": "stdout",
     "output_type": "stream",
     "text": [
      "best score 0.9222639719830731\n",
      "best score {'my_classifier__max_depth': 20, 'my_classifier__max_leaf_nodes': 50, 'my_classifier__n_estimators': 50, 'preprocessor__num__imputer__strategy': 'mean'}\n"
     ]
    }
   ],
   "source": [
    "param_grid = {\n",
    "    'preprocessor__num__imputer__strategy': ['mean','most_frequent'],\n",
    "    'my_classifier__n_estimators': [15, 30, 40, 50],  \n",
    "    'my_classifier__max_depth':[5, 10, 20, 30],\n",
    "    'my_classifier__max_leaf_nodes': [10,20,50]       \n",
    "}\n",
    "\n",
    "# four-fold cross-validation\n",
    "grid_search_RFC = GridSearchCV(\n",
    "    full_pipline_RFC, param_grid, cv=4, verbose=1, n_jobs=2, \n",
    "    scoring='roc_auc')\n",
    "\n",
    "grid_search_RFC.fit(x_train, y_train)\n",
    "\n",
    "print('best score {}'.format(grid_search_RFC.best_score_))\n",
    "print('best score {}'.format(grid_search_RFC.best_params_))"
   ]
  },
  {
   "cell_type": "markdown",
   "metadata": {
    "id": "OSSQfCeIHmOZ"
   },
   "source": [
    "# Conclusion:\n",
    "here, we apply grid search and it gives good accuracy with randomforest\n",
    "we still do not know is it the best or not\n",
    "we will apply another search and another model "
   ]
  },
  {
   "cell_type": "markdown",
   "metadata": {
    "id": "u4rLcyA2MZz8"
   },
   "source": [
    "This is the prediction of the model on the test data"
   ]
  },
  {
   "cell_type": "code",
   "execution_count": null,
   "metadata": {
    "id": "NSxkeK20DvJw",
    "outputId": "72e7a21e-dd72-4933-dc22-953f569a8501"
   },
   "outputs": [
    {
     "name": "stderr",
     "output_type": "stream",
     "text": [
      "C:\\ProgramData\\Anaconda3\\lib\\site-packages\\sklearn\\compose\\_column_transformer.py:437: FutureWarning: Given feature/column names or counts do not match the ones for the data given during fit. This will fail from v0.24.\n",
      "  warnings.warn(\"Given feature/column names or counts do not match \"\n"
     ]
    },
    {
     "data": {
      "text/plain": [
       "array([0, 1, 1, ..., 0, 0, 0], dtype=int64)"
      ]
     },
     "execution_count": 18,
     "metadata": {},
     "output_type": "execute_result"
    }
   ],
   "source": [
    "grid_search_RFC.predict(test_data)"
   ]
  },
  {
   "cell_type": "code",
   "execution_count": null,
   "metadata": {
    "id": "M_rGiRnPvPsZ"
   },
   "outputs": [],
   "source": [
    "submission = pd.DataFrame()\n",
    "submission['id'] = test_data['id']\n",
    "\n",
    "submission['match'] = grid_search_RFC.predict_proba(test_data2)[:,1]\n",
    "\n",
    "submission.to_csv('grid_search_RFC.csv', index=False)"
   ]
  },
  {
   "cell_type": "markdown",
   "metadata": {
    "id": "SOwcqR7WI7B2"
   },
   "source": [
    "Now, we will apply the grid search on XGBClassifier to get best classifier ⌛⌛⌛⌛ (we try different values)"
   ]
  },
  {
   "cell_type": "code",
   "execution_count": null,
   "metadata": {
    "id": "rcmQeRgtjtW0",
    "outputId": "05cad682-67f5-4221-ef93-a2a11ebc31f7"
   },
   "outputs": [
    {
     "name": "stdout",
     "output_type": "stream",
     "text": [
      "Fitting 4 folds for each of 48 candidates, totalling 192 fits\n"
     ]
    },
    {
     "name": "stderr",
     "output_type": "stream",
     "text": [
      "[Parallel(n_jobs=2)]: Using backend LokyBackend with 2 concurrent workers.\n",
      "[Parallel(n_jobs=2)]: Done  46 tasks      | elapsed:   44.6s\n",
      "[Parallel(n_jobs=2)]: Done 192 out of 192 | elapsed:  8.2min finished\n"
     ]
    },
    {
     "name": "stdout",
     "output_type": "stream",
     "text": [
      "best score 0.9980576806820788\n",
      "best score {'my_classifier__max_depth': 50, 'my_classifier__n_estimators': 200, 'preprocessor__num__imputer__strategy': 'median'}\n"
     ]
    }
   ],
   "source": [
    "param_grid = {\n",
    "    'preprocessor__num__imputer__strategy': ['mean', 'median', 'most_frequent'],\n",
    "    'my_classifier__n_estimators': [50, 100, 200,1000],  \n",
    "    'my_classifier__max_depth':[2, 7, 10,50]       \n",
    "}\n",
    "\n",
    "# four-fold cross-validation\n",
    "grid_search = GridSearchCV(\n",
    "    full_pipeline, param_grid, cv=4, verbose=1, n_jobs=2, \n",
    "    scoring='roc_auc')\n",
    "\n",
    "grid_search.fit(x_train, y_train)\n",
    "\n",
    "print('best score {}'.format(grid_search.best_score_))\n",
    "print('best score {}'.format(grid_search.best_params_))"
   ]
  },
  {
   "cell_type": "markdown",
   "metadata": {
    "id": "kA2LmIJWIWEo"
   },
   "source": [
    "#Conclusion:\n",
    "grid search with xgbclassifier has the best accuracy until now"
   ]
  },
  {
   "cell_type": "code",
   "execution_count": null,
   "metadata": {
    "id": "I5iEN1dcD3oK"
   },
   "outputs": [],
   "source": [
    "submission = pd.DataFrame()\n",
    "submission['id'] = test_data['id']\n",
    "\n",
    "submission['match'] = grid_search.predict_proba(test_data2)[:,1]\n",
    "\n",
    "submission.to_csv('grid_search_XGB.csv', index=False)"
   ]
  },
  {
   "cell_type": "markdown",
   "metadata": {
    "id": "5CaklEHTMtac"
   },
   "source": [
    "#Now, we will apply the random search on XGBClassifier to get best classifier ⌛⌛⌛⌛ (we try different values)"
   ]
  },
  {
   "cell_type": "code",
   "execution_count": null,
   "metadata": {
    "id": "JRRTBa6tCbrR",
    "outputId": "f3c8aec2-25ae-45a5-b3a9-0836fcd1df9a"
   },
   "outputs": [
    {
     "name": "stdout",
     "output_type": "stream",
     "text": [
      "Fitting 5 folds for each of 20 candidates, totalling 100 fits\n"
     ]
    },
    {
     "name": "stderr",
     "output_type": "stream",
     "text": [
      "[Parallel(n_jobs=2)]: Using backend LokyBackend with 2 concurrent workers.\n",
      "[Parallel(n_jobs=2)]: Done  46 tasks      | elapsed:  3.1min\n",
      "[Parallel(n_jobs=2)]: Done 100 out of 100 | elapsed:  6.4min finished\n"
     ]
    },
    {
     "name": "stdout",
     "output_type": "stream",
     "text": [
      "best score 0.9978236771289953\n",
      "best score {'preprocessor__num__imputer__strategy': 'median', 'my_classifier__n_estimators': 100, 'my_classifier__max_depth': 100}\n"
     ]
    }
   ],
   "source": [
    "from sklearn.model_selection import RandomizedSearchCV\n",
    "param_grid = {\n",
    "    'preprocessor__num__imputer__strategy': ['mean', 'median', 'most_frequent'],\n",
    "    'my_classifier__n_estimators': [50, 100,1000],  \n",
    "    'my_classifier__max_depth':[7, 10,30,100]       \n",
    "}\n",
    "\n",
    "# five-fold cross-validation\n",
    "rand_search = RandomizedSearchCV(\n",
    "    full_pipeline, param_grid, cv=5, verbose=1, n_jobs=2, \n",
    "    # number of random trials\n",
    "    n_iter=20,\n",
    "    scoring='roc_auc')\n",
    "\n",
    "rand_search.fit(x_train, y_train)\n",
    "\n",
    "print('best score {}'.format(rand_search.best_score_))\n",
    "print('best score {}'.format(rand_search.best_params_))\n",
    "     "
   ]
  },
  {
   "cell_type": "markdown",
   "metadata": {
    "id": "5maflM94JaTo"
   },
   "source": [
    "#Conclusion:\n",
    "xgbclassifier with randomsearch gives best accuracy\n",
    "xgbclassifier still the best one 👏👏👏👏👏👏"
   ]
  },
  {
   "cell_type": "code",
   "execution_count": null,
   "metadata": {
    "id": "x4finp2JTlRf"
   },
   "outputs": [],
   "source": [
    "submission = pd.DataFrame()\n",
    "submission['id'] = test_data['id']\n",
    "\n",
    "submission['match'] = rand_search.predict_proba(test_data2)[:,1]\n",
    "\n",
    "submission.to_csv('rand_search_XGB.csv', index=False)"
   ]
  },
  {
   "cell_type": "markdown",
   "metadata": {
    "id": "g9yL4BR5Tb9z"
   },
   "source": [
    "#Now, we will apply the random search on RandomForest to get best classifier ⌛⌛⌛⌛ (we try different values)"
   ]
  },
  {
   "cell_type": "code",
   "execution_count": null,
   "metadata": {
    "id": "BZ61fbIcCuWQ",
    "outputId": "ea6aad33-48be-40d7-eca3-e70802574f59"
   },
   "outputs": [
    {
     "name": "stdout",
     "output_type": "stream",
     "text": [
      "Fitting 4 folds for each of 10 candidates, totalling 40 fits\n"
     ]
    },
    {
     "name": "stderr",
     "output_type": "stream",
     "text": [
      "[Parallel(n_jobs=2)]: Using backend LokyBackend with 2 concurrent workers.\n",
      "[Parallel(n_jobs=2)]: Done  40 out of  40 | elapsed:    9.2s finished\n"
     ]
    },
    {
     "name": "stdout",
     "output_type": "stream",
     "text": [
      "best score 0.9031425236080131\n",
      "best score {'preprocessor__num__imputer__strategy': 'mean', 'my_classifier__n_estimators': 15, 'my_classifier__max_leaf_nodes': 50, 'my_classifier__max_depth': 20}\n"
     ]
    }
   ],
   "source": [
    "param_grid = {\n",
    "    'preprocessor__num__imputer__strategy': ['mean','most_frequent'],\n",
    "    'my_classifier__n_estimators': [15, 30, 40, 50],  \n",
    "    'my_classifier__max_depth':[5, 10, 20, 30],\n",
    "    'my_classifier__max_leaf_nodes': [10,20,50]       \n",
    "}\n",
    "\n",
    "# four-fold cross-validation\n",
    "rand_search_RFC = RandomizedSearchCV(\n",
    "    full_pipline_RFC, param_grid, cv=4, verbose=1, n_jobs=2, \n",
    "    scoring='roc_auc')\n",
    "\n",
    "rand_search_RFC.fit(x_train, y_train)\n",
    "\n",
    "print('best score {}'.format(rand_search_RFC.best_score_))\n",
    "print('best score {}'.format(rand_search_RFC.best_params_))"
   ]
  },
  {
   "cell_type": "markdown",
   "metadata": {
    "id": "eQWbP-XpJw-v"
   },
   "source": [
    "#Conclusion:\n",
    "randomforest with randomsearch is good \n",
    "but xgbclassifier still the best\n",
    "Bravoooooooooooooooooo xgbclassifier 👏👏👏👏👏👏👏👏👏👏"
   ]
  },
  {
   "cell_type": "code",
   "execution_count": null,
   "metadata": {
    "id": "FSGC6eToCuTD"
   },
   "outputs": [],
   "source": [
    "submission = pd.DataFrame()\n",
    "submission['id'] = test_data['id']\n",
    "\n",
    "submission['match'] = rand_search_RFC.predict_proba(test_data2)[:,1]\n",
    "\n",
    "submission.to_csv('rand_search_RFC.csv', index=False)"
   ]
  },
  {
   "cell_type": "markdown",
   "metadata": {
    "id": "yH_R45DpT1sJ"
   },
   "source": [
    "#Now, we will apply the baysien search on RandomForest to get best classifier ⌛⌛⌛⌛ (we try different values)"
   ]
  },
  {
   "cell_type": "code",
   "execution_count": null,
   "metadata": {
    "colab": {
     "base_uri": "https://localhost:8080/"
    },
    "id": "yS994Y9ZUc_j",
    "outputId": "cfd27f5f-226c-466d-db61-6099aec44e2d"
   },
   "outputs": [
    {
     "name": "stdout",
     "output_type": "stream",
     "text": [
      "Looking in indexes: https://pypi.org/simple, https://us-python.pkg.dev/colab-wheels/public/simple/\n",
      "Requirement already satisfied: scikit-optimize in /usr/local/lib/python3.9/dist-packages (0.9.0)\n",
      "Requirement already satisfied: pyaml>=16.9 in /usr/local/lib/python3.9/dist-packages (from scikit-optimize) (21.10.1)\n",
      "Requirement already satisfied: joblib>=0.11 in /usr/local/lib/python3.9/dist-packages (from scikit-optimize) (1.1.1)\n",
      "Requirement already satisfied: scipy>=0.19.1 in /usr/local/lib/python3.9/dist-packages (from scikit-optimize) (1.10.1)\n",
      "Requirement already satisfied: numpy>=1.13.3 in /usr/local/lib/python3.9/dist-packages (from scikit-optimize) (1.22.4)\n",
      "Requirement already satisfied: scikit-learn>=0.20.0 in /usr/local/lib/python3.9/dist-packages (from scikit-optimize) (1.2.2)\n",
      "Requirement already satisfied: PyYAML in /usr/local/lib/python3.9/dist-packages (from pyaml>=16.9->scikit-optimize) (6.0)\n",
      "Requirement already satisfied: threadpoolctl>=2.0.0 in /usr/local/lib/python3.9/dist-packages (from scikit-learn>=0.20.0->scikit-optimize) (3.1.0)\n"
     ]
    }
   ],
   "source": [
    "!pip install scikit-optimize"
   ]
  },
  {
   "cell_type": "code",
   "execution_count": null,
   "metadata": {
    "colab": {
     "base_uri": "https://localhost:8080/"
    },
    "id": "5Nms8kn_CuPJ",
    "outputId": "25ab8d94-b08d-4cb0-f03a-224df183985c"
   },
   "outputs": [
    {
     "name": "stdout",
     "output_type": "stream",
     "text": [
      "Fitting 3 folds for each of 1 candidates, totalling 3 fits\n",
      "Fitting 3 folds for each of 1 candidates, totalling 3 fits\n",
      "Fitting 3 folds for each of 1 candidates, totalling 3 fits\n",
      "Fitting 3 folds for each of 1 candidates, totalling 3 fits\n",
      "Fitting 3 folds for each of 1 candidates, totalling 3 fits\n",
      "Fitting 3 folds for each of 1 candidates, totalling 3 fits\n",
      "Fitting 3 folds for each of 1 candidates, totalling 3 fits\n",
      "Fitting 3 folds for each of 1 candidates, totalling 3 fits\n",
      "Fitting 3 folds for each of 1 candidates, totalling 3 fits\n",
      "Fitting 3 folds for each of 1 candidates, totalling 3 fits\n",
      "Fitting 3 folds for each of 1 candidates, totalling 3 fits\n",
      "Fitting 3 folds for each of 1 candidates, totalling 3 fits\n",
      "Fitting 3 folds for each of 1 candidates, totalling 3 fits\n",
      "Fitting 3 folds for each of 1 candidates, totalling 3 fits\n",
      "Fitting 3 folds for each of 1 candidates, totalling 3 fits\n",
      "Fitting 3 folds for each of 1 candidates, totalling 3 fits\n",
      "Fitting 3 folds for each of 1 candidates, totalling 3 fits\n",
      "Fitting 3 folds for each of 1 candidates, totalling 3 fits\n",
      "Fitting 3 folds for each of 1 candidates, totalling 3 fits\n",
      "Fitting 3 folds for each of 1 candidates, totalling 3 fits\n",
      "Fitting 3 folds for each of 1 candidates, totalling 3 fits\n",
      "Fitting 3 folds for each of 1 candidates, totalling 3 fits\n",
      "Fitting 3 folds for each of 1 candidates, totalling 3 fits\n",
      "Fitting 3 folds for each of 1 candidates, totalling 3 fits\n"
     ]
    },
    {
     "name": "stderr",
     "output_type": "stream",
     "text": [
      "/usr/local/lib/python3.9/dist-packages/skopt/optimizer/optimizer.py:449: UserWarning: The objective has been evaluated at this point before.\n",
      "  warnings.warn(\"The objective has been evaluated \"\n"
     ]
    },
    {
     "name": "stdout",
     "output_type": "stream",
     "text": [
      "Fitting 3 folds for each of 1 candidates, totalling 3 fits\n"
     ]
    },
    {
     "name": "stderr",
     "output_type": "stream",
     "text": [
      "/usr/local/lib/python3.9/dist-packages/skopt/optimizer/optimizer.py:449: UserWarning: The objective has been evaluated at this point before.\n",
      "  warnings.warn(\"The objective has been evaluated \"\n"
     ]
    },
    {
     "name": "stdout",
     "output_type": "stream",
     "text": [
      "Fitting 3 folds for each of 1 candidates, totalling 3 fits\n",
      "Fitting 3 folds for each of 1 candidates, totalling 3 fits\n",
      "Fitting 3 folds for each of 1 candidates, totalling 3 fits\n",
      "Fitting 3 folds for each of 1 candidates, totalling 3 fits\n"
     ]
    },
    {
     "name": "stderr",
     "output_type": "stream",
     "text": [
      "/usr/local/lib/python3.9/dist-packages/skopt/optimizer/optimizer.py:449: UserWarning: The objective has been evaluated at this point before.\n",
      "  warnings.warn(\"The objective has been evaluated \"\n"
     ]
    },
    {
     "name": "stdout",
     "output_type": "stream",
     "text": [
      "Fitting 3 folds for each of 1 candidates, totalling 3 fits\n",
      "best score 0.9749358401597216\n",
      "best score OrderedDict([('my_classifier__max_depth', 30), ('my_classifier__max_leaf_nodes', 200), ('my_classifier__n_estimators', 100), ('preprocessor__num__imputer__strategy', 'mean')])\n"
     ]
    }
   ],
   "source": [
    "from skopt import BayesSearchCV\n",
    "from skopt.space import Real, Categorical, Integer\n",
    "\n",
    "param = {\n",
    "    'preprocessor__num__imputer__strategy': ['mean','most_frequent','median'],\n",
    "    'my_classifier__n_estimators': [20, 150, 40, 60,100],  \n",
    "    'my_classifier__max_depth':[77, 10, 55, 30],\n",
    "    'my_classifier__max_leaf_nodes': [100,20,50,200]       \n",
    "}\n",
    "\n",
    "# three-fold cross-validation\n",
    "bayesian_search_RFC = BayesSearchCV(\n",
    "    full_pipline_RFC, param, cv=3, n_iter=30, random_state=0, verbose=1, n_jobs=2, \n",
    "    scoring='roc_auc')\n",
    "\n",
    "bayesian_search_RFC.fit(x_train, y_train)\n",
    "\n",
    "print('best score {}'.format(bayesian_search_RFC.best_score_))\n",
    "print('best score {}'.format(bayesian_search_RFC.best_params_))\n"
   ]
  },
  {
   "cell_type": "markdown",
   "metadata": {
    "id": "x7ZALshvKSBc"
   },
   "source": [
    "#Conclusion:\n",
    "randomforest with baysien is the best among alllll the previous randomforests 👏"
   ]
  },
  {
   "cell_type": "code",
   "execution_count": null,
   "metadata": {
    "id": "X5zDNnasCf2A"
   },
   "outputs": [],
   "source": [
    "submission = pd.DataFrame()\n",
    "submission['id'] = test_data['id']\n",
    "\n",
    "submission['match'] = bayesian_search_RFC.predict_proba(test_data2)[:,1]\n",
    "\n",
    "submission.to_csv('bayesian_search_RFC.csv', index=False)"
   ]
  },
  {
   "cell_type": "markdown",
   "metadata": {
    "id": "5oPq-nSlVjmW"
   },
   "source": [
    "#Now, we will apply the baysien search on XGBClassifier to get best classifier ⌛⌛⌛⌛ (we try different values)"
   ]
  },
  {
   "cell_type": "code",
   "execution_count": null,
   "metadata": {
    "colab": {
     "background_save": true,
     "base_uri": "https://localhost:8080/"
    },
    "id": "5nO4twUbVAgU",
    "outputId": "99d598a9-d8f1-4204-b1ea-c4a4d09e53da"
   },
   "outputs": [
    {
     "name": "stdout",
     "output_type": "stream",
     "text": [
      "Fitting 3 folds for each of 1 candidates, totalling 3 fits\n",
      "Fitting 3 folds for each of 1 candidates, totalling 3 fits\n",
      "Fitting 3 folds for each of 1 candidates, totalling 3 fits\n",
      "Fitting 3 folds for each of 1 candidates, totalling 3 fits\n",
      "Fitting 3 folds for each of 1 candidates, totalling 3 fits\n",
      "Fitting 3 folds for each of 1 candidates, totalling 3 fits\n",
      "Fitting 3 folds for each of 1 candidates, totalling 3 fits\n",
      "Fitting 3 folds for each of 1 candidates, totalling 3 fits\n",
      "Fitting 3 folds for each of 1 candidates, totalling 3 fits\n",
      "Fitting 3 folds for each of 1 candidates, totalling 3 fits\n",
      "Fitting 3 folds for each of 1 candidates, totalling 3 fits\n",
      "Fitting 3 folds for each of 1 candidates, totalling 3 fits\n",
      "Fitting 3 folds for each of 1 candidates, totalling 3 fits\n",
      "Fitting 3 folds for each of 1 candidates, totalling 3 fits\n",
      "Fitting 3 folds for each of 1 candidates, totalling 3 fits\n",
      "Fitting 3 folds for each of 1 candidates, totalling 3 fits\n",
      "Fitting 3 folds for each of 1 candidates, totalling 3 fits\n",
      "Fitting 3 folds for each of 1 candidates, totalling 3 fits\n",
      "Fitting 3 folds for each of 1 candidates, totalling 3 fits\n",
      "Fitting 3 folds for each of 1 candidates, totalling 3 fits\n",
      "Fitting 3 folds for each of 1 candidates, totalling 3 fits\n",
      "Fitting 3 folds for each of 1 candidates, totalling 3 fits\n",
      "Fitting 3 folds for each of 1 candidates, totalling 3 fits\n",
      "Fitting 3 folds for each of 1 candidates, totalling 3 fits\n",
      "Fitting 3 folds for each of 1 candidates, totalling 3 fits\n",
      "Fitting 3 folds for each of 1 candidates, totalling 3 fits\n",
      "Fitting 3 folds for each of 1 candidates, totalling 3 fits\n",
      "Fitting 3 folds for each of 1 candidates, totalling 3 fits\n",
      "Fitting 3 folds for each of 1 candidates, totalling 3 fits\n",
      "Fitting 3 folds for each of 1 candidates, totalling 3 fits\n",
      "[02:29:28] WARNING: ../src/learner.cc:767: \n",
      "Parameters: { \"max_leaf_nodes\" } are not used.\n",
      "\n",
      "best score 0.9949530067767487\n",
      "best score OrderedDict([('my_classifier__max_depth', 30), ('my_classifier__max_leaf_nodes', 20), ('my_classifier__n_estimators', 100), ('preprocessor__num__imputer__strategy', 'mean')])\n"
     ]
    }
   ],
   "source": [
    "from skopt import BayesSearchCV\n",
    "from skopt.space import Real, Categorical, Integer\n",
    "\n",
    "param = {\n",
    "    'preprocessor__num__imputer__strategy': ['mean','most_frequent'],\n",
    "    'my_classifier__n_estimators': [20, 35, 40, 60,100],  \n",
    "    'my_classifier__max_depth':[7, 10, 55, 30],\n",
    "    'my_classifier__max_leaf_nodes': [100,20,50]       \n",
    "}\n",
    "\n",
    "# three-fold cross-validation\n",
    "bayes_search = BayesSearchCV(\n",
    "    full_pipeline, param, cv=3, n_iter=30, random_state=0, verbose=1, n_jobs=2, \n",
    "    scoring='roc_auc')\n",
    "\n",
    "bayes_search.fit(x_train, y_train)\n",
    "\n",
    "print('best score {}'.format(bayes_search.best_score_))\n",
    "print('best score {}'.format(bayes_search.best_params_))\n"
   ]
  },
  {
   "cell_type": "markdown",
   "metadata": {
    "id": "G31fFaMcKv_z"
   },
   "source": [
    "# Conclusion:\n",
    "Xgbclassifier in baysien is the same as the previous Xgbclassifier"
   ]
  },
  {
   "cell_type": "markdown",
   "metadata": {
    "id": "5dT3OzkhK_8V"
   },
   "source": [
    "# The winner is the Xgbclassifier 👏👏👏👏👏👏👏👏👏👏👏\n"
   ]
  },
  {
   "cell_type": "code",
   "execution_count": null,
   "metadata": {
    "colab": {
     "background_save": true
    },
    "id": "G2-O-P6IVAbr"
   },
   "outputs": [],
   "source": [
    "submission = pd.DataFrame()\n",
    "submission['id'] = test_data['id']\n",
    "\n",
    "submission['match'] = bayes_search.predict_proba(test_data2)[:,1]\n",
    "\n",
    "submission.to_csv('bayes_search.csv', index=False)"
   ]
  },
  {
   "cell_type": "markdown",
   "metadata": {
    "id": "5LajnAkvA9ND"
   },
   "source": [
    "#Conclusion:\n",
    "* we found that the best search that gives high value was grid search with XGBClassifier and fitted good(as it rounds on all the values)\n",
    "* second was the random search with XGBClassifier \n",
    "* third was the baysien with XGBClassifier\n",
    "* comes after them with Randomforest :gridsearch > randomsearch > baysien\n",
    "![image.png](data:image/png;base64,iVBORw0KGgoAAAANSUhEUgAAA38AAAG/CAYAAADowG4SAAAgAElEQVR4nOzdfVRU96H/+/e57ZnpbWBya5weXU60YXQljDlhJrkReo5AjYKpiueopEfAVVFz8GEdlCaitiLND7FRtGmiXT6txIdcQVcDeCqQGNCkgEnANJmhqUNbGXI045VmjP11JL2ZWc3K/WMGGeRBMJonPq+1Zi2Y/d3f/d17+wcfv0//8Mknn3yCiIiIiIiIfKX9H593A0REREREROTW+/pZz7nPuw0iIiIiIiJyi/2Dhn2KiIiIiIh89WnYp4iIiIiIyDCg8CciIiIiIjIMKPyJiIiIiIgMAwp/IiIiIiIiw4DCn4iIiIiIyDCg8CciIiIiIjIMKPyJiIiIiIgMAwp/IiIiIiIiw4DCn4iIiIiIyDCg8CciIiIiIjIMKPyJiIiIiIgMAwp/IiIiIiIiw4DCn4iIiIiIyDCg8CciIiIiIjIMKPyJiIiIiIgMAwp/8sXhrSZ35mL2uQPXLRpw7mHOzDyqvJ9Bu0REREREvgL+4ZNPPvnk827EF4WnNIuciiS2HV6Kw9j7eMDrwukFi8OOpY/jXywBvE4XXsbgcFgYSnP9nmbcvshvorE4bFfvOfQcegc0o8WOI+LB+NwN1Dc147lkwTYrkVTbQO3wUZ79L+Qbf0HLnlmYItpSW98QrmMaaTZz+IiX0rlTKLLs5M3tKVfLi4iIiIhI375+02v88Arv+87j8QdDv39zFLbRI7j9ti98Wrouf9N2MtbA1uZ9pJuvX/7z5afpmQXks5nTBywMpbmesgVk7L/22xgWVRyj0GEMP4fGXucllbzOwXQz4KVq6WxW1l3pPrgbDPbVHD28FFtf/xTclTzdALN2J10Ncp7SdGZsaIGRsVhNXnbvLuTpRS/w4gY7RiykZiZSsGYPVWtSyLIM4QZFRERERIahmxP+PrrIG/VllP7xOFUfB/ssYv6ajVRrNosnxzP+9pty1UEJ+P0EjCZMA2TPgN8PJhPWrFJOZvU6Sujw0MNrwO8ngLHvcwN+/IF+jhHA7w/AAO3uarMx4vd+r9V1PQZ+Dj0tpLK9AAeAv5miuQvYv/IA6Y1Lw0EysZ8QHMBZsoSVdQGSSo6zN92KEfDVb2D+om3klMRzcoO9Vw+gx1nDBRLJc4Sjn7+Opze0YF50iJMb4jECzpLvMXf3dmqX7SPNDGZHCrEUUlrvISvLOuDdDPTv4LrPTkRERETkK+BTzvm7QtuJJ/mPXfOZ7z7Wb/AD8H3spvRPa5i6byb/Wenk/b9/uitfV8DFlpkTucf+AHGx95NTVUFRzATu2ugiNMRwAndlF7Nr6f3cY8+jygfOjRO4K6YYZ7gKb9Vy7ou5lzj7vdw9cw9N15+KFrq0+wDz4yaErm2/l7tnrqX26tw0L7X5s7k7NnTsrrisiDluAdz7ssLXfIC42InMyK8jdGrfbcZbx+qu+7Tfy31zi6nvMWTzCvUl4evFTmBqfh09Dg+GKZ60ZODCtcNB+7r5Zsp3t8O8XVeDH4A5OZ/CzFhMTheeXif58TS3AjFYu8KkKYUd7Wc5FQ5+AOaYMT1Ps8aQALS2XqC/V9PjXcRO5MGVh/EE+jgW+Z58FSyMmcDkXe7uFtbmcVfM94j4SkRERETkS+XGw9+H53jhwHymvnOcJgAMWE3p7Jj6PG/m1HLuR/WhT041p9IK2WS2ERqZ10ntuTxm7N3D23+9KffQhwBNG7PY3Wohc/+rtDQfIrVhL71GMjYcptZaRE31ehKunTTmPUzuqhMEkoqoaX6Lkxv87NvYe6hjbz6qSjbRbF1PTetZ3nUdIsvoYleVi0C4V2xp1UgKq1+nxfUqB9IusXHuWmr9EHAfpmh3K46S47S0/p7GZ1LwVOSxKzJ1RrbZ6GJL9goqAnM50PAWLQ07SfMdJLugGv/V8geoj9nMqebjbM+Mob0ij13Ovto9EC9uD2CICGdcwt3UTNPVjyd0TU8r9UBSfOw1vXsmkouP8WJlNrZe9Yd6V0mKpffoTT+epgbKS/LIKWglvmA1qVfbEI15DOD1dd9vJF81OXM34XSE3uHp6nxs1YUs3OdmwPdkTiE9BS5Ut4SDagBnQw2MySC5d+NFRERERL4UbmzY54dnee7QCor+FurpMxvT2TYnh++N7mPY3G3R3Dl+KgvGT2XB+06eqyqgyN+JL1DGnNIgR7Nyuf+mDwNtpbYsCJnrKUwOLTKSviaHqop1NEQWiy1g25pZdA0YjOzU8jXV4SKW4g0Z2MyAOZ/CrAPM7ZUgezMC+Fw43V4stngKK18OH3FRta+dkYuLSLMYASOOzGziywqpaioiNTWbI6ez6R72GY2ZIF5vRLSJbLOzmH3tkLm/gGSLEUhh7YFDpPlGRpRfSl66DTOQtiibXWWFeDw+cFxvFmAlq2eexogPT+slghhIKsnGcfU5tbJ/1YKIQB0eJhrwcQEYeBDmULRTv3Eb5T4PHlMs6T2GZhoxDbDSi6++koZg5DvMYFNFLF5MBBjoPUHyrGmw6jBNngyslmZqy2BMfmIfwVVERERE5MvhBnr+ArxxrDv4OczFHF2R23fwu9a3HSxZcoSj48aH5o0Fyskpf4n3ht6Igfk8oR4bY/ecOMzW3oHEbOh3lUhvayMwEmNEAUts/CAubiateCeZ5maK5k0hLnYCd08Kb1/g8+AJwqXdC0LDOu0PEDerkGYIhb2Am33Z3+XumHuJS3yEnN0tfVTf3Wafp50gYIwIRCZrPAkJ1u77irxHk2EIC7/EYEtOJDnBjgWIyX+Bg+mR/XKJbG0+y7vtXZ/w/EBzLPGAL9BHX1zAH7rP/ngu9TEk1c7immO8ePoMJ9eYKFszm6KrPaFX8LTSY+5jpN7v0IjFEU+Cw4JxoPcEmJLnMotWap0+As46yolleaqin4iIiIh8eQ05/H309i/J7Qj3+JnWsWNBIncOqYZo7p+7k72WsQD4/JtZ//K5oTZjYGYrNgPg9XYPB/S0hoenDo4lNhG4RHeGCeB2DWbYJ2BJYVPlG/yx/fecrvsF6cZGNuZX4jFbsRpgTP6vI0JT6HMw3Yx73wo2NsRS2HCWd1te5sXtC/sYBhl5mzEYgEBEoPJ7IoZgfip2Fq/JZ+2GLaydZaD9mb3UDqZSi53UGGjdffiaOZJudk17gLjsSnpvzWfGajPAhVaudnJ669hSspXaiAmCFkcKsZE9oT4vHmBM7Jg+Q3xf79DrbKbJ6Q3NEezvPQGYkkjPhIbqBqrqKgnaM0i+ed2ZIiIiIiKfuSGGv7OUNh0L9848xLY53x9i8LvIGzUvceZDI/enrWNtuLum3l3OGx8OrSUDs5O2Kgbq1rKwpJqm+sOszt/ax0Ij/TMnpGCnlaL8rTR5fXiqitlSbhjEmS6K7pnA3dmHcfsCGLt6pcwGTMSStjiGC89so9Ttw+/34S5dzN0x09kX2bhAAAJe6nfvpXmgSznmkhcDZRuLqfL48LkPkztzAQsr2odwp9djInVVAfZgDUXPuPpdWKWblaytC4m5cJCFc/PYV9VMU30FRXMfoeRCDIs2zO0z0NqS5mKgjqau52AC7769LF26ltL6ZpqaqtmSX0wrMSSE9/oLuJtpwEBqQlePnIfSjO8yY1eonebUDGYZWinauAen14+3vpiF8xaw3hnAOOB7AjCSMGs+hoZC1pcGsc9LHDCIi4iIiIh80Q1pzt9Hbx9jV/iv/2RbDt8bMZSzL/KbQ2tY6DuP2XuZgwuyyPrnh9j321fwcYzyt3P4bmL0UCockG35IQ5TSFH1XoqccSze+jSmlCW9F33pjyWDHbtd5KzcS0bSXqLj17NtQzxLN1zvRDtrK9fjzihkZnwhANH2+ewpnocZMK95jj3+PFbP+hcKAAyxzHvmORZbgcVPs6w6i4KUeykwxDJvVSLxDBTkbCw/sBPvyrWsTDkSulb8eo4Wp2Aa+pqe/bPOpXDRHubuL6Y8s5zU6xQ3Ogo4WmEhd+lWNq6qAcAwMpE1ZVtY7uh7eLAxIYO8MUd4uqKZtY54jKYUttVsxpS/iYJFlT3rsAEEcNZVQsxK0h3hSgKX8Lgv4bH4QnP6TClsq1xPTvZW5iZtAwzEztvJ3sWhLryB3lPoPmaRbjhCWTCO9GRFPxEREZEvhYAXd20jVa1eLLEzSU2zDTz1yeemqrYG9wUz1qREUiOnUAH4PTTVNlLf7uunPj+epjrqG9rxjYklLTkFm6Xn37x+TzO19Q14LlmwzZpGmu3z2TT8Hz755JNPBlv47RdSmOMNApPZu3AT0wcd/rqDH4D5mzkcnJ/FxNvPsPMXK9gC8K1ifpedyM1b+yWAzxfAbO7eNy7XvgLPxuO8eJ094XrVFADjNZnFuXFCn4u/dG90znX21ut//8Br9/AbXCOHto/foNp/MwyhXYH6Ddy36AKbGvbRY3phX3V4DjMnZQ+OspcpTLh+5QM+0yHvgSgiIiIiX0jeanJm/oi6KxHfxcxlz4EtpPbxf/nequXMWHWCyOLELKSypgCHEQLOrczJ2Etr5I52MXPZc3hLaAX6gIstc7PY3aOAgaSSl8PrZQRwljzC/N2t9Khi3k6ObE0ZwnocN8cQwt85Xtj5Q1YHgG+u49TSwQ757CP4Lchi4m0AAd44nMr8DoB0jv4ol/tv4Cb64t41nZlbfcQvWs/yJKjfvYn9zWbWVL8c7jn6dPyevve8M1rsOCxf/BTxZW+/iIiIiEhPfqqWPsDKOgNJJcfYm27BW76cGWsaYdZO3tyecs06ES623PMIu4OJbA13Pnj2pTOtuIXYjcd5MctEefa/kN+QSHHDPrIs4C1dTOKGRsbk/5pTy234qhYzaVUjYxYd4uSGeIz+BtZPWkJZcD4HWjeS7K9gYfw6GpKKaDyQgQUvpdlTKGgYw5rq39yUXDIUQxj22Ymva8LXiLE3IfgBGLGY7dDhAs7jfR/u//bgWzQQ2/IXqLHsYVfZQbY0gcWRz4Gtc7lZo/dM1ngSvsQLgHzZ2y8iIiIi0oOvgfI6ILaAwnQrRsCavpq8Zxopqa6hqTiF1B7pz4DJDFyIwRLOCBZrLNCCkfC2bMsOcXjVGBxdxxNSiKWR1kuhfjxjeFl5S+yY0Agz0xhsVsAT3lbMaGd52SHyLPbw+hEWElJioaG1O1t9hm5sn79If3Wys7QMy5ytzB4deeB6wS/EyGAWUbkRJmxp+exIy79F9YuIiIiIyBeG1xXa0zshJmKLNzNmK3DBhccLPTdttrF4ew5VGXvJyQiQ5QBn6RGi49ezKTwHyZoQH1FXAGfZAVoxkJkSC4ApdTXbUxpYWbCC3NZEzL5GSj2xzNu+lAQjYLSSENnjEnBRur8VDPP5PHYR+3Th769ONpfmhRaBOfokpjk/5nujYbDBT0RERERE5ObqawrThT572gKYsViiaW2upNQNVwIjsVuj+6ghgHtXFvP3txOz6IWea06YYxhJC9XlXqKvXMEYMw1rX4tJBNzsyshif3sMiyoKGMSyFTfdELZ6MGD8WvhHfwfvA9xuI80SXu0mcJyFR5/kN+8NLfh5/3I6/NNYLDdpyKeIiIiIiAwzRjNjAHy+Pva8nkSvBTZ9FeTO20RdYC6HW8/wu5YztOyZhrtsHTM2NkdsceanaeNsZm5twZL5HEc22MPhMIBz4wJWlrVgK36Vd1ve5nftx8kznaAkczmlkZtb+5spmvlvlLgsZO4/RGE/K+DfakMIf2O7H5jfhecjACMTZz/NQWtEACyfP4Qev7M4L4Z/NI3XPmoiIiIiInJjrHaSDUBtA86u5OZvprYBMMRivTZseFtDw0STk+jKYiarHQcQLKvDHSpEbf4jZOxvJ2bRIY4WJ0Ws0OnH47kAxJLaNSkQKzYHQAu1TeHVFb11rJ67INTjV/YCm5I/n20eAL72xBNPPDG4ol/H9L/Ps+v/fRf4I5DO9HFG4Ot8++4U/tX3FrV/8fG3cOnBDPX86EwZP21z4wOSrf/FgvE3b58/EREREREZRr5uYfTXaihrbOTF1/yM/qaP8ifWU9HxMfYntpB33wh8VYu5//v/i3P2DFJt4NlXw59cv+fiyHGY/naO+v1P8/+0/oUxiwpYnfxNXsufzqMVf4aRk/j+fQHeee11XnvtdV77n9u47z4rxos1lL1+llPvBPjOuK/zF+dhtvz8LTo+TuS/ijOxfdzA6mlLqfgzjIyfzn3B34fOf+11zn3zn7lv9GfbAzikOX+3Pzib5b99hV1A+TtlLH5wKRO/AV09gHsrV5Bzrg0GNcfvIrVN5eFEPYl0x+iBCouIiIiIiAzItvw59lzIY3XZQfJXAUQTn7+PHeF9vgOBABCAAGBKYVvNZkz5myjbsIQKAMNIkvIPsW25HSM+fL7wDoCXTlO2+3T3hZJiWJxlx7b8EIdZS+4ze1mZuReAaPt8tm4tIN0M+HxcraL5CLubI6vIJstxSx9HL0Pa5B3g/RP5PPhO6MYdlp0ceWQi37h6NMCZE6/Ad79/3cVd3juRz5x3TuMDbJadHO1Rj4iIiIiIyA0K+PEHAKOJa9deCQTA2KvDLYDfD6a+FmoZ9CX9YDL1udzMF8WQwx9c5Nhz88n1AxhIsz3LtunjhhTc3mt8ktzfHscJYEzn6MJc7tdKoCIiIiIiIrfMEBZ86TKa2TMKSQcgSJX7URYeOsl7fx/EqX//gDcqlzOnK/gxiW1pObcw+AX5oK0Fp6uND4K36hoQ6LyFlYuIiIiIiNwENxD+gNFT+fn8YrKMAEGafEVM3rGEx2uaabvcxwYaH17k7RM7+M8dc5l/LrTAC0xi25xiHrnzFnWMdraw+4dL2fFKB3T8hh2PLmK3q/MWXKiDk2t2cqbf45dpLHh2gOMiIiIiIiK33o1v8j46kZ8tfJ6Eo0UU+drw0Ub5n9ZQ/ieAESQYRwAQCLSFe/m6WUw57JiTxf0jbvjq1xHE+dRORhXvZ9nY0DeOyXFsX/E8Z59fwQQ6OXf6VZrbDDgems6EUUCwg3OXDRjcL9PYaWPq7DhwVXHSHUX87CmMiwpyse0yUVF/pvGYG8PkKUyzjep15Q/cL9N4Ksi4h6fgGBvFlbY3cba1Mup0CyPscYw29C4zmPuJvPYdD6cR33Veh5sTr7xOcHwqiZPGEt15HmdHFI7xIyDYwRl3kPH2sRgJctHVhsFm4w7DTXvQIiIiIiLyJXFjPX9dbhvH7AXPcTK9hMJvjY3Yp+8yTYE2mnoEPwNWUzo7Uit5bcmtDH4ArTSeTyV+bMRXUQ+y8vkVTCDImacep7TDytSH7uTsU0s55AYuv8n+gmdxjppCYlQVP/lhMY2GB0m0tbK96FWucBnn3lx+VhbEkfmv3HH8pzzxyuUeV/3g2ONsOzWK+Mw4ggeWsu1UJ9FjrYyN+hbjbFZGGPou01OQQK9RpJdx7n2cHaf+kfjZcVzc/Dj/fR7oqOLHBbXcMXk+DipZveZVrhje4+RTr/EBgPsIq9c8y+lOIPgmpXs9oOAnIiIiIjIs3XjPX4Tb74xnSXY8Sz66wnveNjz/04bHHw5Gt43HZhmP9Tvj+PZnuaiLwdB3zgm+yUvn55L7mI1oYMZjs3j8wJssyIYrtunMsI0C23QmlneQaBvFHcxl6t4jnCcWOh/kB489yGhg9GOP0rjiNT546MFwxedpfMXKgmIrUYAt54e89NSbXJkci8EQRVRUFEbO81KfZabQtcPhlVPF/HvZg/xqZxp3RLa780H+Ld3GHUDiwwZKL8M5dy0TH9uBYywwNo+Vp3JpvPxzEkcV4u5MY9SpDpbmRNHsCpIY9SYXH57fs04RERERERk2bkr4u+ob0dw53sGd4x1876ZWPFT/yIjO97gMPcJOoDOIsfMyF8eOvRq2GDWKcec7Qj1lV/XXPRYZKK8t8xfOt7XStvdZugZyjpo0ZchloicXcXLyQPfWrbMDRkT0oI4YC40dBhInwx6Xm/FtcThyxtL2y1bOGjwkzu49TFVERERERIaHmxv+vjBsJD78DNuPdfDzrsDTUcFPNkfxxNNWHK7fcJY4JgAB12ucsc/iDloHUW8LZ8/DxLHAeTdnR42le8aeFYftWxhy8oiPAjrPc6Yjimgix3D2V+bGjLXfxiHXZWY8PALowPnKt5j4MEQzneCaXbhsy/l3w1jiO3/M7sv/wsqx161SRERERES+or6i4Q/GZT7JDzY/zqKyIBAkGDWF1SXziAYeWfc6P/nhOsbZ4Mz58awuGQ+dgwl/I2grW8c2QxQXXUF+UJKBkY7wsSgSH5vCz1bk0mj/Jy6e/jPxhT9nIgYm2Ft4Yn4JK59d00+ZGxP9UB4zCh7n8dNxjO5oIZj+JD+JAojFznkuP2QDwGaH7efjGHeD1xERERERkS+/G9jk/asjEATjoBdA6eDFFUcYtzOPicEgGAY48XrHB1tmsG5mXSIiIiIi8pX06Vb7/JIbfPC7xvWC1mCC2M0Mawp+IiIiIiJyHcO6509ERERERGS4GNY9fyIiIiIiIsOFwp+IiIiIiMgwoPAnIiIiIiIyDCj8iYiIiIiIDAMKfyIiIiIiIsOAwp+IiIiIiMgwoPAnIiIiIiIyDCj8iYiIiIiIDAMKfyIiIiIiIsOAwp+IiIiIiMgwoPAnIiIiIiIyDCj8iYiIiIiIDAMKfyIiIiIiIsOAwp+IiIiIiMgwoPAnIiIiIiIyDCj8iYiIiIiIDAMKfyIiIiIiIsOAwp+IiIiIiMgwoPAnIiIiIiIyDCj8iYiIiIiIDAMKfyIiIiIiIsOAwp+IiIiIiMgwoPAnIiIiIiIyDCj8iYiIiIiIDAMKfyIiIiIiIsOAwp+IiIiIiMgwoPAnIiIiIiIyDCj8iYiIiIiIDAMKfyIiIiIiIsOAwp+IiIiIiMgwoPAnIiIiIiIyDCj8yacQwLkrixkFdfj6LeOlauVs5u9yEfgMWyYiIiIiIj19ZcOf39NMU5MH/+fdkC+NAF5nM01O76BDWsC5ldytF0jLTMEc8b3P3UxTkwtvAMBCamYczq1r2ee++a0WEREREZHBufnh78MrvP8/Z3jjd87Qp+0if/3ws+/z8ZQtICPzMJ7P/MpfVn6anllAxjPNgwzMfur3H+TCmAySbV1fudiXcT+TZi0gI3M7TeGKjAnzyDK083RZs3r/REREREQ+J1+/KbV8dJE36sso/eNxqj4O9lnE/DUbqdZsFk+OZ/ztN+Wqgxfw48eEydjXIT8BjJj6Oni9OgNgNJno68wbqXfAcwJ+/IH+6gvgDzWmz3vsqpuItl63fQM8s9BxF/XVYFgUTyj7+Shf+QhPs5qtyxrI3x1ZOJbkdNhfVk3ThniSB3okAz3X6zxzERERERHp36fs+btC24kn+Y9d85nvPtZv8APwfeym9E9rmLpvJv9Z6eT9v3+6Kw9OgKZ96dwd+wBxsRO4b2k13q5D3jpWz5zIPfYHiLPfy11xWexzBwAXRfdM4K6Chu5eKvceJsdMIKfKDwRw78vivtgHiLM/wD33zGZ1rbf7iu4DzI+bcLXeu2euJeJw360c8BwvtfmzQ/fQo510tyXmXuLsDxAXO5EZ+XXhe/RRnj2Bu7KL2bX0fu6x51Hl633f980tpr7HhL0r1JfMvvrMpub3M5/P00o9kBA7JvyFEcea1/nd4aUkx1wbzYxY7ZOAFrz9PovI+3yAe+LSKbrasGuOxdzP/H1uAoBz40Tuismj9mp3pZtdiRO4a2m1hvyKiIiIiES48fD34TleODCfqe8cpwkAA1ZTOjumPs+bObWc+1F96JNTzam0QjaZbVgA6KT2XB4z9u7h7b/elHsYwBFqL+Rz0vU6NRsTCdT9iNxSL+Cjdvc2agMZHG7+PX9wvcAa62k2FlTixU76qjFQVkdTOGN5nDVcYBppySZ8VcuZU3yJtP2v0uJ6nZoNI6latoRdbgAfVSWbaLaup6b1LO+6DpFldLGraqDFTgY6J4CzZAlLq0ZSWP06La5XOZB2iY1z11Lrh4D7MEW7W3GUHKel9fc0PpOCpyKPXU0RV2s4TK21iJrq9SQYXWzJXkFFYC4HGt6ipWEnab6DZBdEBKWGA9THbOZU83G2Z8bQXpHHLmcfzQ74uABYrV2z/UxYbeY+CoaPmsxAK54+E1n4PisCpO9/lRbXq+xJu8T+RYVU+QHnAXIrPKTvfot323/PiZJ4fBV7qfWCY95KxlBDvbPrZbVQdQFSZiVh6rc1IiIiIiLDz42Fvw/P8tyhR1n9l04AzMZ0Ds6v5pUlucy+bxzfvi2i5+e2aO4cP5UFC3bxWtbTFJqiAPAFyphTuuMWB8CFrN0Qj8Vkxpa1nsJYcFU348VMavHL/O5EAQ5jgEDAgNEEuDz4AFtyBmOopNYZALw0VbTCrLkkm3zUVzQSTMlhscMEGLGkZZNOO6X1odVMjAA+F063F78xnsLKlzm63D7gMMX+z2mlal87IxcvJc1iBEw4MrOJD9ZQ1eTHaMvmyOm3OZhugUAAjNGYCeL1RiSs2AK2rZmFzWbF4qlmXztkbigg2WLCZElh7YFDHF4UG1F+KXnpNsxmK2mLsokliMfT/1qeg2U0Rg9wNHSfZK6nMNmCyWQhdc1zHC7LDg8pNQJB3M0uPL4AlvRdnKx5mjQLYEskawyU1YXmE3qaDtPKTNKTFf1ERERERCLdQPgL8MaxFRT9LTTE02Eu5uiKXL43ehCzsL7tYMmSIxwdNz60OmSgnJzyl3hv6I0YnBhLxCqUFiw2oLkVH+Ct3cCcuAncY/8uU7M3URU5HNGWSNaYIOV1reBrptYFmfOSMHEBdwNQt45p9tAQxDj7EsqAC5eCgJm04p1kmpspmjeFuNgJ3D1pccQwzb4McI7PgycIl3YvCF/rAeJmFdIMoTl+ATf7sr/L3TH3Epf4CDm7W/qo3nC1B8znaScIGCMm8pms8SQkWLt7ySLKYzLQf19euE7fIJeH8V0AxmDu659J+D4xRszlM4x3NmEAACAASURBVFlJSIjHagIcKzlaMA1/+RKmxYeGfc4p6BreaiM5cwyUN+DuCuqZc1H2ExERERHpacjh76O3f0luRyj4mU3r2LEgkTuHVEM098/dyV7LWAB8/s2sf/ncUJsxOO2e8HYDAF68biA+FrO/ji3LjuBLP0RL+xnerCllbXLkiTZSl8USrG2mqr6GBsN80hKMwBhsSUDKL2hpP8u7kZ8N9tCplhQ2Vb7BH9t/z+m6X5BubGRjfuXAq472d47ZitUAY/J/3fNa7Wc5mG7GvW8FGxtiKWw4y7stL/Pi9oXhobV9M1tjMAABf3cYveEtMSx2kgCn5zoTGsO87c2AHWtfDQzfJwF/9/BYv4empubwMFEjtsW7ONlylj+4XqUy346rbAW76kOlbalLiQ0epqq8mVqXgcxZ8VoQRkRERETkGkMMf2cpbToWXgDkIbbN+f4Qg99F3qh5iTMfGrk/bR1rw3+h17vLeePDobVkUAyVbNlYjcfnxblrE0WtYJ8VHxGQQuHB7z7MrtKep1qTM7Bf2M7qgkYM6bNwGAHMJM9LxFC3gy31Xvx+P976DUyNmcjqWj9di8XcnX0Yty/QvSplZG9aLwOdE0va4hguPLONUrcPv9+Hu3Qxd8dMZ19kmgwEIOClfvdemgd6Ho655MVA2cZiqjw+fO7D5M5cwMKK9iE81DCznVQ7XAj3pA7Mg7s+CEmJOMIPwl9fzIxJy0OL0GAnfVUMlG2iqMqDz+emdOVsMrJDodlXvpi7Yqazvt5LABMmE4ChuwfTmkiWPUhpQSENhrmkORT9RERERESuNaStHj56+xi7wl0zybYcvjdiKGdf5DeH1rDQdx6z9zIHF2SR9c8Pse+3r+DjGOVv5/DdxIHmhd2AhCIK42uYE/8jrmAgdt5OdmRZAAtrn5nGjFVLiNsP0fHrWZ4GDRUR51oSSbcHKXAZWDSvuyfJnLaLo77lLFw6hbIgQDTxBaUUppoAO2sr1+POKGRmfCEA0fb57CmeN8DwyYHPMa95jj3+PFbP+hcKAAyxzHvmORZbgcVPs6w6i4KUeykwxDJvVSLxDBTkbCw/sBPvyrWsTDkSulb8eo4Wp2AaRITryULaomkUrDpMrXceWQN1OXpPU95qYNaq7s3g/b5WPJcu4fMDZrAtf449F/JYvephygCiJ7GhsohUE5BexJ7mFeQumhI6ZhhJUsELrHV0tyV5XhxBVwuGzK6gLiIiIiLDRwCvu4766la8Y2JJS53FAGsRgs9NVW0N7gtmrEmJpEZOgwrze5qprW/AQwzJySkkWE1DrsPnDo1kM9vC05n6OY5xDA6H5ZaPXvuHTz755JPBFn77hRTmeIPAZPYu3MT0QYe/7uAHYP5mDgfnZzHx9jPs/MUKtgB8q5jfZSdya7YADIT2yOu9cRyh7e/6esx+qpY+wEr3amoal2LrdTy0t16/e85ds0+ec+ME5u7vXSyp5HUOppv7PGewbb12D79Bud4+foPioXTuw+xyHOLkhv6GWgaoL7ifbG8RjQfmDTgstat8/+9koGMiIiIiMjx5qVo6m5V1VyK+i2He7ufYltr7r09v1XJmrDpBZGliFlJZUxDuRAjg3pXFnK0tdG9kZyCp5OXQQouDqcPXzK6VyylpDpVYVHGWQgc9eStYmLSOBoCkzZw+MFCH0c0xhGGf5/D4wrf/zcnYPk3wW5DFxNsBxuMYFS72F9fA8+I+lb6CX/j7vsJU01ZmzJzO6jqwL5vWR/DrOneAwHXNhuvWzEMcLuv9yUsw9XvOYNoaOu0GNj0f8FqDZSWr8iyn+g1+AEaSi8/w7qCCX6h8/+FuoGMiIiIiMhz5qzaxsu4KhqTNnGg9yx/qNpNkaKdi5baIvaC7uCjNP8EVEtnaEFpL40RBHLQfZH15OI24D5C7tQWSiqhpfouWhufIjAnSsKaQct9g6vBRnr+AEl8K85L6a7WX8oJCGgwGDLfoufRlCOGvE1/Xahwjxg5yrl8/we+2ruNGLObwQimcx/v+4FtzK/kCJpKT51K4/1WOZFlvSp2hVTV7fxwWhRkRERERkRvjo77iBBBL4YZ5WI1gtM5j7aoxEN4erScDJjNADJZwz4TFGtr2zBjuznBWb6edMeStycBmNoLJztrKt2hxPU2aeXB1WOYd4vSJLfQXJXxVhaxvgKStRWTdnAcxKEOa89envzrZWVqGZc5WZo+OPHC94Bdi/Eyz7uBYkpdes/qniIiIiIh88VzA2QAwCWtE0DKbY0LHPF7oMY7PxuLtOVRl7CUnI0CWA5ylR4iOX8+mdAvgw+MOAjGYPFuZMXcvrUFC625s38m2VNMg6oCEUEqkz3Xx/XUU5TdC0mY2pVnZt+qmP5R+3dgm713+6mRzaR5bAqfJPfokv7nYdWBwwU9ERERERORm6Gs8XWgv7p4CmLFYornSXElpaSXNgZFYrdHXnN9M0W4/a0+8xenqIpJopWJZ17DPwdbRlwD1JXlUBxPZVDzYaVE3zxDCnwHj18I/+jt4H+B2G2kWW3jD9uMsPPokv3lvaMHP+5fT4Z/GYvn2Dd2DiIiIiIgMSwbMYwDCq8hfIz52ZM8vfBXkzttEXWAuh1vP8LuWM7TsmYa7bB0zNjZ37zlNkKwNG0m2mDDbMijcEAs0Uu/0D6GO3gLOrawvCxKzbCXJJj9+f3if60AQn98/4Lk3wxDC39ju5VL9LjwfARiZOPtpDlojAmD5/CH0+J3F2dVbaBr/mSdfERERERH5MrPiSDYAddQ7u6KTn6a6RsCAzXpNwvC2hlbXTE66uj2YyWrHAQTL6nBjxhY/JlRLoDuKBfyhZGk2mQZRR//8nnYuAO27H2GS/QHi7EtCW5k1FzLTnhfeA/vWGUL4M2KzPBT++Rjlb165+n2PABg2mKGeH505TvnHoZ+TLXbU8SciIiIiIoNnJCFzJTEEKVuaRVF5NeUbF7O6DrAXkOUAfNUsvGcC9+U34LfGM8sAlG1ifWkDTU0NlD6zl2ZgzKJZ2ABb+mqSDFCxNIui8gaq9i0nd+sFiMkhzQEMoo7+mBJWXrP6/3pSAGIXsr1sJQl97AV4Mw1pwZfbH5zN8t++wi6g/J0yFj+4lInfgK4AuLdyBTnn2mBQc/wuUttUHk7Gk0h3jB6osIiIiIiISG+2pRzc7SU3/wj71/wIgOj41RzcnoEVIBAgAAQIgCmFbTWbMeVvomzDEioADCNJyj/EtuX20Jw98yz2Vl4iJ3sr+9csYT8QbZ/Pnu35oZ4+4yDq6IfRYiehR2ekkVoAcywJCfZbvs/fkDZ5B3j/RD4PvhOap+ew7OTIIxP5xtWjAc6ceAW++/3rLu7y3ol85rxzGh9gs+zkaI96REREREREhiKA3x+gz72hAwEwXhvLAvj9DLyPdMCPn4H2xx5EHV8gQw5/cJFjz80n1w9gIM32LNumjxtScHuv8Ulyf3scJ4AxnaMLc7lfK4GKiIiIiIjcMjew1cNoZs8oJB2AIFXuR1l46CTv/X0Qp/79A96oXM6cruDHJLal5dzC4Bfkg7YWnK42Pui9yutNE+i8hZVHXqfDjfO0m4tdlwt2cqWz5+dWrxA0dEGuXPt8gp1cifjqSltLz/u6et4X+b5ERERERL5cvvbEE088MeSzomOY/p3x+M6+wjsff4z3b/XsO30K7+VRWEeaGfF/XjOV8MOLvN1wgMKqn7Llrz7+BsAkts0p5pFxt6iLtLOF3Y8W8MrH3+Ger/2O5zft4A93TeP/HnWzN5XvoDZvP8GZCf0sWHOZxoJSOh+6/1MtaPPBscf5Sb0Zx1g/J4t28b8nTcf8bhWl5b/hnbfe5p23Gjiy9QT/1+xpjLvZt/ip/H+4Nj/Kb8zzuM8M0MGLuT/l/KQZTIjq4ETeInae/w4TzX+hdnMB/00S0+6OAtcOphW8CBf+xDtvNfHrXZXw3enERH3e9yMiIiIi8uU0pAVfehidyM8WPk/C0SKKfG34aKP8T2so/xPACBKMIwAIBNrCvXzdLKYcdszJ4v4RN3z16wjifGono4r3s2xs6BvH5Di2r3ies8+vYAKdnDv9Ks1tBhwPTWfCKCDYwbnLBgzul2nstDF1dhy4qjjpjiJ+9hTGRQW52HaZqKg/03jMjWHyFKbZRvW68gful2k8FWTcw1NwjI3iStubONtaGXW6hRH2OEYbepe5vsu4T1tZVjydiYDD0MrjpzuYNnsey+zhIucP8zg2JkXBlbY2giM+pLnczR0PpxE/4jLNx2r5wDaLGfZr29zJOddrOE9f057O8zhfqeVcVCqJtr/QaYhj3Aigw82JV14nOD6VxEljib5u26OI/69HeWnNYc49m0HUsU2cfGg9Px8FF8t/iit9Pzsmh64Z/1Ac//3DrZyY/HOmAdgzWPZYXKia0yU8fvoy02bfsn80IiIiIiJfaTcw7DPCbeOYveA5TqaXUPitsRH79F2mKdBGU4/gZ8BqSmdHaiWvLbmVwQ+glcbzqcSPjfgq6kFWPr+CCQQ589TjlHZYmfrQnZx9aimH3MDlN9lf8CzOUVNIjKriJz8sptHwIIm2VrYXvcoVLuPcm8vPyoI4Mv+VO47/lCdeudzjqh8ce5xtp0YRnxlH8MBStp3qJHqslbFR32KczcoIQ99legoS6DWKdASJxSuYGP7tnLuV0SMiH2AnzQdeZ2pmHEbg/LEfs608iGN2HOc2L+XxAx7GPvQ9DMd+HLrXiGud3ftTXuiwkpgZy8XNj/Pf54FgC7vznucD2ywSR73JnrxCfn0e6KjixwW13DF5Pg4qWb3mVa5wjWAfQ2BHTOHxzBa2/3InO479CyvTRwEdOF+xMnVyZPgdy78//3OmXftvI9hB43EP8eMV/EREREREbtSN9/xFuP3OeJZkx7Pkoyu8523D8z9tePzhYHTbeGyW8Vi/M45vf5aLuhgM9Dn6MfgmL52fS+5jNqKBGY/N4vEDb7IgG67YpjPDNgps05lY3kGibRR3MJepe49wnljofJAfPPYgo4HRjz1K44rX+OChB8MVn6fxFSsLiq1EAbacH/LSU29yZXIsBkMUUVFRGDnPS32WmXK1B+3KqWL+vexBfrUzjTv6aH7A9TTbOlawLTPi7s5X8auoR/nZ1U69USTOfpDRoyDxoSg6xk9h9CgY/XAsj7ddZoGtK0QZmJDzc1YT5ErnZUaP76TxMlxpO0xHZgHLxkcB88iaXcmvgXOv1DLxsR04xgJj81h5KpfGjinMuHrdNn71w1wur3upu0cyLHpyGqM3/pQPfvQrxnW/pKvv6IqrgtJX3gNgYnoeiQCuw+x+6lXofI/mjjh+MhYREREREblBNyX8XfWNaO4c7+DO8Q6+d1MrHqp/ZETne1yGHgEq0BnE2HmZi2MjhiuOGsW48x180OP8/ibNRQbKa8v8hfNtrbTtfZauvqxRk6YMuUz05CJOTu7n8h1VPHHAyk+ejovYP+Qyjb98namPZfS5p4jBYIj8BYjsmQty5pdL2X4+Foc9jvHhQ8HODxkRMRw1KioUFjs7ILLDccRYaOwAroa/8fzgyEt9tCLImV/uhLX/i3EHdtL8UAHxUVFER3VwuROIgmjbdLLGw/kDS2m8TCj8RQz7XHb+MLl7W9jRNQxURERERESG5NMN+/zCspH4cAu7j3V0f9VRwU8KXuXKKCsO12ucDX8dcL3GGXtsn71svbVw9nz4x/Nuzo4aQXdEsuKwfYvEnDyWPZbHspy5JNrvvGZO3GDK9KOjih9v7mRZcRqjI793H+HQqEeZ2nv64SC0cvL0LJ4oWcOyzOlMCAe7O2xxnDn+ZniFzQ6aj7cCMNZ+G42urqGuHThf+RYTxw/iMu5n2dbxKEsf/lcWPWZg+1OvESAK+8Owb29L6DqGKKLxcPJULPG2vqsJatVPEREREZEbdnN7/r5AxmU+yQ82P86isiAQJBg1hdUl84gGHln3Oj/54TrG2eDM+fGsLhkPna2DqHUEbWXr2GaI4qIryA9KMjDSFTCjSHxsCj9bkUuj/Z+4ePrPxBf+nIkYmGBv4Yn5Jax8dk0/Za6njV+teAYX/8QTj1aHvnpoPftzRtF4oJV/e2xFn71+1xfL1ElP88QaDxMNf+byZRgxCRj/KE/Yi1k9fyfBEQ/yb/ZYAKIfymNGweM8fjqO0R0tBNOf5CfXXa/mPP/9VCtZxStCIXfSCla/ksue03GsfKiAJy4Xs2x+SbjsnfxbcQGOrs7K48UsOh3+xRDL4pK+ezdFREREROT6bmCT96+OQBCMg94WoYMXVxxh3M48JgaD4SGU/bje8cGW+awEgwQMhh7B6srlTqJHhJLdubJFvGTb3z2P74vUdhERERERGZSvbM/fYAw++F3jesFnMMHoixSergl+dLZxcvMmXCPiGBVspfHyXLZl9iwvIiIiIiJfLsO650+uI9jJFaKIVtYTEREREfnSU/gTEREREREZBr6iq32KiIiIiIhIJIU/ERERERGRYUDhT0REREREZBhQ+BMRERERERkGFP5ERERERESGAYU/ERERERGRYUDhT0REREREZBhQ+BMRERERERkGFP5ERERERESGAYU/ERERERGRYUDhT0REREREZBhQ+BMRERERERkGFP5ERERERESGAYU/ERERERGRYUDhT0REREREZBhQ+BMRERERERkGFP5ERERERESGAYU/ERERERGRYUDhT0REREREZBhQ+BMRERERERkGFP5ERERERESGAYU/ERERERGRYUDhT0REREREZBhQ+BMRERERERkGFP5ERERERESGAYU/ERERERGRYUDhT0REREREZBhQ+BMRERERERkGFP5ERERERESGAYU/ERERERGRYUDhT0REREREZBj4+ufdgFvF72nG7RuJLcGK6fNuDAB+6jcupsiXzZHtszB/3s25lfwemtyXMNvisQ7l4Qe8OJ0XCER8ZTTHYLOaMYYqxtPUiq/Xide8Z78HZ/1palu9mGOSSE4dYjtERERERL6Cbn74+/AK7/vO4/EHQ79/cxS20SO4/TbjTb/UQDxlC8jYv5DK9gIcn+mVBc9hMjIPsqjiLIVDefj+Zp7OXEfDNV8bkjZz8sA8LLRTmrmA/b1O7H7PAedW5mTspTXYdWwvG9fEMG/3c2xLtdzY/YiIiIiIfAXcnPD30UXeqC+j9I/Hqfo42GcR89dspFqzWTw5nvG335SrDl7Ajx8Tpj7yZ8DvJ4ARU18Hr1dnAIwmE32d2bteE8kbyjk5xHq66mKA40NrWwB/6OCNPY9ezzJUX//tv97x3pJKXudgeqhv1Fu+mKlr1lFUlcLetHCBRS/w7gZ77xN91eRk7KXVspDDlQUkmAC/m9KVj1CwrJCE5n2kD9DlGvD7CdzocxERERER+YL7lHP+rtB24kn+Y9d85ruP9Rv8AHwfuyn90xqm7pvJf1Y6ef/vn+7KgxOgaV86d8c+QFzsBO5bWo2365C3jtUzJ3KP/QHi7PdyV1wW+9wBwEXRPRO4q6Che/ihew+TYyaQU+UHArj3ZXFf7APE2R/gnntms7rW231F9wHmx024Wu/dM9cSOuyjPHsCd2VXhIYtBtzsy7ifu/qqx1fBwpgJLNxXwZZwG++5ZzZbnJEDIvvipTZ/duh+7Q9wT8z9zN/nvnofobbdS5z9AeJiJzIjv24QzwNwFnNXzATWl+xhRtwDxJW4up9DzL3h9n+X3FJPjyGbeKrJies6nt5d3xBYkmeSANS52q9b1lO7l4ZgLBv2hIMfgMlG1oYC4mMv4XT2HjDa/VzC7yx2Ig+uPIwn0MexyPcZfkeTd7mv1uOvzeOumO8R8ZWIiIiIyBfGjYe/D8/xwoH5TH3nOE0AGLCa0tkx9XnezKnl3I/qQ5+cak6lFbLJbCM06K6T2nN5zNi7h7f/elPuYQBHqL2Qz0nX69RsTCRQ9yNyS72Aj9rd26gNZHC4+ff8wfUCa6yn2VhQiRc76avGQFkdTeEA4HHWcIFppCWb8FUtZ07xJdL2v0qL63VqNoykatmS8B/8PqpKNtFsXU9N61nedR0iy+hiV5WrZygigLt0E7vcdrbWvcUfWl9le6qHipV7rl4ToGF/I9atv+F09WZmmVvZvfIAA+YK5wFyKzyk736Ld9t/z4mSeHwVe8NhpZqcuZvwpT1Ho+stTlcXYK5awcJd7us8j25lte1kHfg1NYtiws/BhWPjrzntep2aNbFUb1jCvogG7i9zsbjmLRorVpNECxtLqvuYrzcwv6cVD5AUO6b7S6+Lpqbmqx+nNwD48TS3ApNwWK+pxJrBkZpjbErto9sv/FycjiJqmt/idHU+tupCFu4LPZd+36c5hfQUuFDdggeAAM6GGhiTQbJtiDcpIiIiIvIZuLFhnx+e5blDKyj6W6inz2xMZ9ucHL43uo8hcbdFc+f4qSwYP5UF7zt5rqqAIn8nvkAZc0qDHM3K5f5bNgx0IWs3xIdCZ9Z6CssepqC6GW/WPFKLX+Z3hIfzBQwYTUCDBx/gSM5gzNbt1DoLSE7w0VTRCrNySTb5qK1oJJiymcWOUNeSJS2b9A1LKK13s9wWXpjE58Lp9mKxxVNY+XK4LZGxx4htcSlvLiZiiKYZghfw+rtLxS7LJd1mBuaxOHUd1ft9DNx3ZgSCuJtdeBx2LOm7OJkevnp5JQ3BaWxdZA8tjGKZyeL0QrLLGnEvXzrg8+iaKZe5oYisBCPgo7ygkWBsEYVZNsyAOauIStsFMAWu3mrmqnwSLEawZLM4fRsNZa144bqL3TSVLGHGfgh4W2m/AsQsZEeaGbgQKlC3iYy67vKhYaLg9/dV28B89ZU0BGMp3pCBzQyYM9hUEYsXE4HwE+37fULyrGmw6jBNngyslmZqy2BMfiLKfiIiIiLyRXQD4S/AG8e6g5/DXMyOBYncOZhTv+1gyZIjOCrzyDnXhi9QTk75eI4u+f7gzh+qGEtE0LBgsQEV4dUiazeQm38E1xUDI2PtWCJTlS2RrDHbeLqulU1WD7UuyFyVhIlW3A0A65hmX9fzWpeCgJm04p00rSykaN4UCgDDyETWHtjF4msSQcB9gJzsrTRcChIdE4u1j9xsNg5xiUrHSo4WtJP7zBKm7QeIxp65hR3FKfhaGwHIT3mA/B4nhQKld6DnEWa8Ot/tQug5JBm6V9g0WnAkWLqqvKa8sc95dP0x2+JItpnwNXlod6Wwp7IAR+T5/cz5s1iBhgD+q6mtS//zHL2tjUAi3Y/aiMURfzXw9v8+jZiS5zKLFdQ6faT76ignlsJURT8RERER+WIa8rDPj97+Jbkd4R4/07rBB7+rorl/7k72WsYC4PNvZv3L54bajMFp9+C9GmK8eN1AfCxmfx1blh3Bl36IlvYzvFlTytrkyBNtpC6LJVjbTFV9DQ2G+aQlGIEx2JKAlF/Q0n6WdyM/XWHEksKmyjf4Y/vvOV33C9KNjWzMrwwPDeziZt/STTTYCmhs///Zu/+oKO877//PPb3vmb1bmJxap2uOE7Nh9DSM3TIkt0LvDdBEJa2iW5H0FvBUNF38cb4iSfy1Fdh8ERoFtjW6R9GTIPYE9KyIpwJNAsYESBvQTWZI16FbHXJrxq9uxtDTgezJNff29PvHDDIgCPgjMeX1OIdzcK7r+lyf65r8wSufH+/zvH/qJHtXTef2mXGs3s8bXef5rftN6jc7cdeuZ3+rgS02CZjPHvewfvcUED/m+xgu/B78Qa4Pthk+XNenYN4ee1oeW7dspqIkjxia2FUzvkV0joR0TBylqsE35PNAQz5xzm+PuGYy9F6uYQw+CD5XJx0uX2iU9WbfpyWZjCxoa2yjoaWeoDOTlOFTTkVERERE7hETDH/nqek4GR7YeYKKpRMdsbvCO02vcu4TM48s3sbW8ChMq6eOdz6ZWE/GxVTPrh2NeP0+XPtLKe4GZ9rgqA7hSZQBzxH21wy91J6SifPyHjYVtGPKSAuPPFlJWZaEqWUvu1p9BAIBfK2FzIuZzabmAAObxXwj5wgef8QOl1bTqLUGDQMMXxv7K8/c9uP661bzUMyTbG/1YWDBYgEwYbaYsaakk2w6xe6yNnyBAAFfG9vnz+Ibm1sGA9xN3sdQVlKzFmHqLqF4vxtfwEfrjqdJzyrCZdzB3TAdORRlmegpr6BuHIsFLakbKE020bZlCct3HKe1o5OGqnUs3XgKU3Ix6xLNgJeazG+zcH9oHaY1NZM0UzfFOw7g8gXwtZawctkKtrsMzGN+n2YS05Zjaitie00Q57IkVExCRERERO5VE5r2+el7J9kfHjxJceTynSkTufoKb72yhZX+S1h9vRxekU323zxB1b+exs9J6t7L5dtJ0RNpcGyJxRQlNLE04Rn6MBG7bB97s22Aja0vzmfhxqeJOwTRCdtZtxjajkdca0siwxmkwG1i1bKE67MIrYv3c8K/jpVrHqc2CBBNQkENRakWwMnW+u14MotYlFAEQLRzOQdKlmEdsubPweo9uTRkFjE/tghTbDr5KXNh7A0tb8qaUcyBzvVsWPU4tQCmqSQXHGNrPEAaB+uvkZuzjqRQx4lO2M7RwgVYLIz9PoaxpO7iREGAlWVPkVQOmGJZVrmP1XbAdXvPMchMysZikmu3sf3FNhaXjDUN1kZG9euYC/LZfmgbOdenvu7kl4XLQsHMuIbXcw2vLTTd1WxZQEX9dnJzyklProDwfycHV4eG8Eb/PsM9jE8jw3SU2mAcGSmKfiIiIiKfi4CXjuZ2WnvAnpxEaqJ91MGX0OmdNLe24b1mw5GWRKrDNnJZMsOHy3U5NGjgSMB+vVEDn6eF1sZufFNjSElZQOLgQQyfe4QZcWZs8U5sDLY5nNnmJN5290qL/cWf/vSnP4335PeOLWCpLwg8xsGVpTw57vA3GPwArF/O5fDybGbfd459P1vPLoCvlvB+ThJ3Z+8Xg4Ax0roz0UZx2wAAIABJREFUg1AJvZFecICGNY+S59lEU/uaETbxGKN+3U1qC47v/qPwH2dlwo2F0CMLnY/V7uj17G6hPxO9Zlz9vzOMgBGx7nA859+knuK4vk8RERER+awZrnKWZh6kO6LqnMm5iRNH1uAY4e9dV9lTLK/sJrJInSl5J29ULxs2i8ugY8eTZB4KbTq46vh5iuIBfDSsWUJeS19kCzgLjnF0tQMz4Noxi/RDw++dRHlnFRmM9vfw0HrXd8MERv4u4vWHX9GXH8NxO8FvRTazvwIwk/hpwFXg9268JPHI+Ds0AaNtOGIOT40cyugoZ+mOerzd4Nwxf5TdG8co+G223PT/Ntzs/jdlSSC/9hXW3XBgKoPLzW7e7ugF12+hPxO9Zlz9vzMmEvxC59/0pY3j+xQRERGRz5aHqryDdAdjWFV7jKJE6NjxFJmHKthQlcQb64b9Je9vYXdlN8HpKzlyqoBEc4DWgm+TU7uN/a1plKYM/v1ouMrZfugyJpOJYDAiKrqq2dTSx/RVr/DLwgQsgU6KF63gUMlBWjN2k2oZWEy1nGr35iGDG6FNBtPY614Q8WmA1oLHyWucTqLj7gU/mFD468c/MDY5ZcY41/rdLPgBmLFZnXDVDVzC9xE88vXx9+hu8RsWUlLSyd6See9N5YvcVfOL6IvefxERERG5d7ia2H0ZyNrO1sTQ/6pP3LiBBYeeoaW2Hc86x9CBHLM5XPYsltDsSgu2WDvgHbpbvOFm9+bD9MTksmdVN3mF7YOHrGkcrl2AxZ4QasviJCUFDtWGSriBH58Xrg8Whbeit0TuhB85SOFtoqoRWLCJ7Lu8cfyt1fmL9AcX+2pqsS0tZ8n9kQfGCn4hZky33YU7zZayZozdLkVERERE5PPm94ambyY4Ywazm8UWmr55uRtfAByR07csC9j64nxaNxaRm9dNivUarTVeYpftDm8OGOKp2kplTwyrjueR6B06Z81sczJkLMPXSFUd4FxAohUggOEHYnvYPf+btIX39YhZto/D5QtumFraeqgEN9PZsjHtrs80m3CphyH+4GJnTT67jDNsOPECb10ZODC+4CciIiIiInK7zCMuahoYiRtuKvap0N1YT01dE91mG7aYiGVR3iNsL+9h+qpitsaPsYzI18KmnG20kUT5nsxwsDNjTVnOAst0UsvfpKvtGFuSTfQcX09xQ2Do9d56dtcGP5NRP5hQ+DNh/lL418BVPgK4z8FimyO086HxGitPvMBbH04s+Pl+P1DiYAa2e2DKp4iIiIiIfDEM7Nng9Y9UFywG27AldIarhOUbj+J2FNPe8x7vd53n1MZoWspXkFvjA/zU7SjCzSK2rorFCATwG6EEaQSGhUnfcVbOX89xXxIlTfvJuD6kZyN1yw4OHtlBdrwNi83JusICYoEWd3dEAwGaX/zsRv1gQuFvBtfXHwbceD8FMDN7yW4O2yMCYN3yCYz4ncc1MFpomakaaSIiIiIiMm4WRwJO4HJLF96BDz2dNAMkx96woWDA28NlIHaB83r2sDucALhbOvFzGU8bQBN5yY8S53yURYWhwaraVY8SV+YGwPAcYOn88IjfqSqy7REjhAE3NWXl7KpxD9bTNgLh3yPO8xxhV+NnN+oHE1rzZ8ZhewKungZOUnd2oC5fOACezGel13O9mt14pnp+eu416v4Y+j3F5kQDfyIiIiIiMm62RaxLK2FNYxG5awzy06DhxQouYyJrVRpWDFxlS0ivMlPYdJLVjgRiaKd7x1Z2WTaTYvXTWnYEgOS0ZKyYya59hdSIW/hbSsk71M2CgldYnRID3mqWplfQHYTYtFi8teWh0nVAfNZmUm1ToeMgle4juALF5NuuUfViBZeJYW1abPjMAM2Ve+j5DEf9YIIbvtw3Zwnr/vU0+4G639Syes4aZv8lDATAg/Xryb14Aca1xu8KzR11eACYS0b8/Tc7WUREREREZBgLqeXHKAw8za6WUvJaAFMsy8p+RlGKGTAwDD8Ew1MYHWs4Wgub8vZQuXEFlQDRcWSV7aIoXF/PnpgwZMTQ75sKgC0+gUQ74PJdrynY3XiQyImcqxZsJtVmI7v6GEbeOnaVP0MmQPRcttTuZt3AGsLPYdQPJljkHeCjU5uZ85vQ0Ge8bR9Hn5rNX14/anDu1Gn49vfG3Nzlw1ObWfqbM/gBh20fJ4a0IyIiIiIiMgFGaE3eSDWtDQPMN3wYIIBllHrgd6xTBIzRao5/9iYc/uAKJ19ezoYAgInFjpeoePLBCQW3D9tfYMO/voYLwJzBiZUbeEQ7gYqIiIiIiNw1t1Dq4X6WLCwiA4AgDZ4fsfKVN/jwv8Zx6X99zDv161g6EPyYS8Xi3LsY/IJ8fKELl/sCHwfv1j3A6L+LjUfqvcC5M11c7I38MEhff//gz2fUFRERERER+WL50vPPP//8hK+KjuHJv56J//xpfvPHP+L7z1aqzryNr3ca9qlWpvyPYUsJP7nCe23VFDX8I7v+4Oc/AZhLxdISnnrwLo2B9ndR+aMCTv/xr3n4S+/z89K9/Pah+fzPaXe6qPxVmvMPEVyUOMqGNb20F9TQ/8Qjt7WhjeHezTMv/n9M/5v/waXqnTRPeZyEaSb6Tm9n08u/w//v7/Gbd9/DH/VNHr7jzygiIiIiIl90E9rwZYj7k/jJyp+TeKKYYv8F/Fyg7ndbqPsdwBQSzVMAMIwL4VG+QTZLLnuXZvPIlFu++xiCuH66j2klh1g7I/RJ/GNx7Fn/c87/fD2z6OfimTfpvGAi/oknmTUNCF7lYq8Jk+d12vsdzFsSB+4G3vBEkbDkcR6MCnLlQi9RUf9B+0kPpsceZ75j2g13/tjzOu1vB3nwu48TPyOKvgtncV3oZtqZLqY447jfdOM543meS1cfYG3JMmZHATP6ea7WC844eq9+QlJOPisiF4qO+SzD27/K+dNncV2NeB8RzzIr42+JuhRkmnMa5hGeUURERERE7n23MO0zwlceZMmKl3kjo4yir86IqNPXS4dxgY4hwc+E3ZLB3tR6fvX03Qx+AN20X0olYUbER1FzyPv5emYR5NxPn6Pmqp15TzzA+Z+u4RUP0HuWQwUv4Zr2OElRDfz4hyW0m+aQ5OhmT/Gb9NGL6+AGflIbJD7rb/naa//I86eHzL/k45PPUfH2NBKy4ghWr6Hi7X6iZ9iZEfVVHnTYmWIa+Zyhghg3TN00Meu7y5gdFaSv/yrnT7+FaeZfAdB/tZcLJ7exYflz7HntAgbjeZZIvbQX7KZzShzfe2IKr+aX4AoO7Wd/7T/w44Nn6Q8/4/OvTSEhKw7qnrvhHYiIiIiIyL3p1kf+Itz3QAJP5yTw9Kd9fOi7gPf/XMAbCIeCr8zEYZuJ/a8f5Ouf5aYuJhMjTn4MnuXVS+lseNZBNLDw2TSeqz7LihzoczzJQsc0cDzJ7LqrJDmm8TXSmXfwKJeIhf45/ODZOdwP3P/sj2hf/ys+fmJOuOFLtJ+2s6LEThTgyP0hr/70LH2PxWIyRREVFYWZS7w64jmPEx1upe/tEr5fO4d/2beYrw3ve383bxxsoN3zVb63LQoIMuWJLayaEcuDU4KcP/gPvHD6/+V5x1jP8jizrzc6haSSnSQRpK8fHNP+gyu9Hs7V2Vn987jQs+b+kPj83tAzvmYnb9/AO1hP+/o3ufLEMlSoQ0RERETk3nZHwt91fxnNAzPjeWBmPN+5ow1P1H9nSv+H9MKQAGX0BzH393JlxozrYYtp03jw0lU+HnL9aGvmIgPl8HN+z6UL3Vw4+BIDEyGnzX18wudEP1bMG4+NcvuoOL7/bBzfx8MrPwxPYXXGXe/PrCWp9B3sxhhSK2Ss9X9XObXlOV6NmkNCuK0o/i+9UQ9wfXDWFIWJ3lD/eYCk69f+FTN5k15Q+BMRERERucfd3rTPe5aDpO92UXny6uBHV4/z44I36ZtmJ979K86HPzbcv+KcM/bGUbYRdXH+UvjXSx7OT5vC4Io3O/GOr5KUm8/aZ/NZm5tOkvOBwZA57nNGcpVTW8pwXZ8h+n8J/dpLe3HE570f0j/lqzfUNbl502d5NSqffyrK5wdL5oTXA9qJn9JMZ/j1GWdep32g/1Fv4eodvPaNKXHMGKldERERERG5p9zZkb97yINZL/CDnc+xqjYIBAlGPc6msmVEA09t+zU//uE2HnTAuUsz2VQ2E/q7x9HqFC7UbqPCFMUVd5AflGViZiBgRpH07OP8ZP0G2p1/xZUz/0FC0T8xGxOznF08v7yMvJe2jHLOWKaRlDOFTT98iqiZdnovfcK8oheYRRQzMqbw4x+t4l+mwdXg3/LjMgf0e8f/oqbN4Xu9G9hQ/Lc82NtLfxDmEkXSth/xLwXZrOo1MSsjLTzaF0XSs2n8JH8DbudfccUd5PtlxeMIryIiIiIi8nm7hSLvfz6MIJjHXRXhKr9cf5QH9+UzOxgE000uHOv4eM/5LA3vT38vfVFTQsEu+Csq8ntZFbEOcWLvTkREREREPm9/tiN/43HL4WWs0DaeUHcvBT+4oT8fu1/ix7VB4meauOruZtqze4dMjVXwExERERH5YpnUI38yliB9/UFMUVETW0coIiIiIiL3HIU/ERERERGRSeDPdLdPERERERERiaTwJyIiIiIiMgko/ImIiIiIiEwCCn8iIiIiIiKTgMKfiIiIiIjIJKDwJyIiIiIiMgko/ImIiIiIiEwCCn8iIiIiIiKTgMKfiIiIiIjIJKDwJyIiIiIiMgko/ImIiIiIiEwCCn8iIiIiIiKTgMKfiIiIiIjIJKDwJyIiIiIiMgko/ImIiIiIiEwCCn8iIiIiIiKTgMKfiIiIiIjIJKDwJyIiIiIiMgko/ImIiIiIiEwCCn8iIiIiIiKTgMKfiIiIiIjIJKDwJyIiIiIiMgko/ImIiIiIiEwCCn8iIiIiIiKTgMKfiIiIiIjIJKDwJyIiIiIiMgko/ImIiIiIiEwCCn8iIiIiIiKTgMKfiIiIiIjIJKDwJyIiIiIiMgko/ImIiIiIiEwC/+3z7sAXl4HP5cbHdOLjbZg/7+6MxfDhcl0Gm5N42/h7a/jcuHwG5mHXDXxusTtxWM3X7+Fpbqeh24ctdgGJKU7sloErAng7uvFHNm6eiiPejgUREREREbnb7nz4+6SPj/yX8AaCoX9/eRqO+6dw31fu+Xg0QQE6XlzBZnZyptqG9fPuzlgCnezO2gZlv+Zwxvh7a7ZCa84KKtlE06k1OAAMN7tznqKSXOqbEgAwXOUszTxId3DgyoNADMsqX6Yi1Qb0UJO1gkPDbxCTzoEju0i951+giIiIiMgX250Jf59e4Z3WWmr+/TUa/hgc8RTrlxyk2nNY/VgCM++7I3cdNyMQAIvl+uicEQhgYMZiGSWQGgECxijHjQABLIx26U16QSBggHnka41AAGOUY6H+gDniGcbq003b48Z3Miqzk/ySlTRkVbC9Zj4nsu1460qo7JnOqto84s2Av5HczIN021ZypL6ARAsQ8FCT9xQFa4tI7Kziet5cdYwPCp0ABDpKWJh1mN3NuaRm20fvw02ef8zvUkREREREgNte89fHhVMv8L/3L2e55+SowQ/A/0cPNb/bwryqRfx9vYuP/uv27nxzfupyZvFQTgn71zzCw858GvyAr4VNi2bzsPNR4pzf5KG4bKo8BgCuHbN4KKaEuoZ1fCs2dPxbaxrxXW/TR8OaR3go9lHiYmezcH8nxrj6YuCpyuZbMd8kzhm+dnPLYLuRfYqdxbcyq/EMNGx4qMoM39P5KA8/vIRNzeErXSU8FDOL7WUHWBj3KHFl7vAl1SyPmxVubzZz8o7gjexooI1d4fs9HPMkm5qHTMQckTlxM6VZJtw7SqnrOE5xYRemrGK2JoYCl7f5IG3BWAoPhIMfgMVBduFu1q6NBV9gxHYttlhsN72zj+bNS/jGwPPHZVDc6r/xvQ35Lt0UPzyLh/JauH5XzwEei5lFbsPI/RARERERmQxuPfx9cpFj1cuZ95vX6ADAhN2Swd55P+dsbjMXn2kN/eQ28vbiIkqtjvAf+v00X8xn4cEDvPeHO/IMo2s7QrO9mKbG7SRa/DRXVtBsZHKk89/4rfsYW+xn2FFQHxHwDlPjzuGX7jc5siqOvpZn2NUcCgy+mnzyWgySd/yCM+7XKeqrprhtHH3wN7Kr5Az2gl/w257zdNVmYnYdoMFlgOFmV856GqwFNHW+S1fbyyz2l7J0cwsBDDw1pez3OClveZffdr/JnlQvx/MO0BER5mqbe8iu/gVNq2JCI3Dppbjii2nqfJczjZtxNBaxssoz+EoOtWMvf4szLT8jK6aH43kHcI35EGZStuwmjXY2Z22jzZRExcbk8ChcAG9nNzCX+OGDd/YFbN2ymYz4iFV9PjcdHZ10tB6nOK8IT8J2KjJGGvUzcJU9zZrjBhmH3qTL/SYHFl/j0KoiGgLgOpTPcW86B9zn+aD7NcoTr1FX2YIPJxkbp0NjG67we/K6mrjMfBanaHWhiIiIiExetzbt85PzvPzKeor/MzTSZzVnULE0l+/cP8LUu69E88DMeayYOY8VH7l4uaGA4kA/fqOWpTVBTmRv4JG7NQ00toCKLWkMRAtbyeu8T3iqoGHCbAHavBGbkCwnf0sCNjPY1maSfKgrNFUTPx0tXRBbTFG2Aytg3VJAdtVTN65hu0HonfjdXXh8NhyJBZw4FT7kaqSqZyqrSxZhMwNmJ9mr5lJb2ERHyQJSV9dwdjUR0x6tELw8ZCAtq7CY7PAInL+unrZgLCWFmTisgDWT0uOx+LBcH6WMXbuBDIcVSGP1qoPUFvbg9UP8WGvuLAmkpkBjCxC/KOJ8g8DwATVXCQ8tOzz471XH+KAw/HvHEYp94f56zVhTwtffcP9uGqp6IOtlilJCG+qkbnmZI2nXsAIBMxDspsPlJT7eRsaB18kYuDQlk+nlFTR3FJCS4qOjthvSNqDsJyIiIiKT2S2M/Bm8c3Iw+MVbSzixfsPIwW+4r8fz9NNHOfHgzNDf+kYduXWv8uHEOzE+VtOQnSR9zYUsjZvFw85vMy+nlAbf8AvMo6yRu4ynbXh703EkjqcPaZRWLsfaUUJ68qM8HDObOTmhqZ1+bw9BrlGZFZrWGOd8lEWFZ4BQ2DM81aycO5uHYh/lsfT17B9hiM4c0WFfdzswNRRqw89ji08gMWI3UuvgQSzmqeN4gJBAcxGbWkw4nXHQWXR9RBSs2OwABoGBhGnP5EjtKxypzCUBmD7VNNhQxi5+2XSSXzad5GzXflI8FWQWNHLDhEy/F28QMEes87PYSUxMwG6B+I3HKFzQR92q7zLX+U0eistg+8CUWEcS2dOhrq0bfGeo64asZcnaVVREREREJrUJh79P3/tnNlwNj/hZtrF3RRIPTKiFaB5J38dB2wwA/IGdbH/94kS7MXGBFnatPYo/4xW6es5xtqmGrSnjvXg6jmTAHxwMKUY3rvFM+wRsqTs4ceYcH3T/mlMvpmNuK2VTnRerPQYT09nSeJ4PeiJ/qsiweqhaU0qbo4D2nvO8f+oke1dNv/l9YpOAaxiDncTn6qTD5Rvn+sRRGG3symsi6Cygon4XJc4gjXnltIYbdSSkY+IoVQNpOhzS4i0GPiDePsrKPnMMDjvQ4sY7/JjVjt0EGIHBvge8dHR04g0AZgerD7zO+z3/RlfbMbbEd1G79kC4Tw5S18YSrGmkrqMFt2k5ixO1IYyIiIiITG4TDH/nqek4GZ4m+QQVS783weB3hXeaXuXcJ2YeWbyNreG/x1s9dbzzycR6cutCUSLgOcL+mvFeYyVxQRx0l7CprBOf30vDjgrqTGNfiauEb8TMZmWNB3/EDqJWswUcaayOuczusiN4/AECfg81ObN5aH71kDBkGGD42thfeebmvUzNJM3UTfGOA7h8AXytJaxctoLtLuM26hAadJQVURuMYUtJJnbsZBTmEhM8yvay0KY3ltQNlCabaNuyhOU7jtPa0UlDVT5Lcw5zOWYT61JHWPPX0UbdjnyK28C0LAE7EGgtYeHcdaHNeXCSsTEGakspbvDi93uoyVtCZk493oENfeYX0uozwBIdGtUzDY7c2lMycQaPsL2gHVNGWmhXUhERERGRSWxCa/4+fe8k+8PDMCmOXL4zZSJXX+GtV7aw0n8Jq6+Xwyuyyf6bJ6j619P4OUnde7l8Oyl6Ig1OjGUBW1+cz8KNTxN3CKITtrNuMbQdH9/ltuzdHHCvZ0PlCpIqo0ko2EVR4noKxrowfjMnCrpZXvh3zC0EiMaZtY/SDCtgZWv1PgJ5W1mUUASAKTadPdU52IHVe3JpyCxifmwRpth08lPmQs/Nn7Gifju5OeWkJ1cAJmKX7ePgajv43eN70GEMVznbD10mZu0xVjtCn5nj8yhd1UTmoSJ2pZ2kKN5GRvXrmAvy2X5oGzmHBp5zJ01bluGIbLCllMyW8O+mqTizdlJRuAAL4PN34712DX94DaBj3cscuJzPpo3fpRYgei6F9cWkWsxQso+ONfnkJB8NN5VEYf1m4gfuY0siwxmkwG0iK815G+FXRERERO5tBj5PC62N3fimx7I4NS20/8Vo/B4ampvwXLZiT04iNdF+w/KggLeT5tY2vMSQkrKARPvQMwyfh+bWJjyXbTjSkkh12Ib9vRnA29FCa1sPxCSTkhpaujSsI3gaTtHQ7cMWu4jUxY67Xjv8L/70pz/9abwnv3dsAUt9QeAxDq4s5clxh7/B4Adg/XIuh5dnM/u+c+z72Xp2AXy1hPdzkrj7JQBDG4zcel04AwPzsC/XTXHMSJu/JFEeUePuprX1Rq0feGv9HXcdP2C8/b879x5Xi6O/g1uuuygiIiIiX3w+GtYsIa+lL+KzGJZVvkxF6o1Lj3wN61i48RSRZxOzkvqmgvBMMQPP/myWlncxWMTORHLZ6xzOCLXnq1vNvC3tRBa5i17wM355IC1U3cBwU7zoKQ5FDtqYYll75BhbB6aj+VrYlLOe45HnDOnH3TGBaZ8X8frDj/jlx3DcTvBbkc3s+wBmEj8tfNrvR1j3dVfcbkHw4cEPIIbs2ldCm5wM+ckbrHvHTYq0hw6OEmBurb83vdcNxtf/u3PvcbU4+ju4SSF7EREREfnzFmgoJa+lD1PyTk51n+e3LTtJNvVwPK+C5ht2FHRTs/kUfSRR3hbaa+NUQRz0HGZ7XTiJeKrZUN4FycXXS7FlxQRp21JEnR8INFK8pZ3g9JUccZ/ng553ObIqhr6WZygO15T2VOVzqAeSd7wZ2s+jbSfJdFOZV02oAFuA5rJ8jvfEkHXoTbrcv6ZpRxKmnsMsL7u12XrjNYFpn/34B3bemDJjnGv9Rgl+Xxk4bsZmdcJVN3AJ30fwyNfH36N7hwV7YgIjVav7Yvii919EREREJh8/rcdPAbEUFS7Dbgbsy9i6cS9t5U00dBSTGrn3BCYsVuByDLbwoKDNHgt0XR/ecTXuoYfpbNmSicNqEAg42Vr/LlshtKO+y00LQGpaeJDEQuKqXBIObaPleBv+xQl4Oi8DSSweGHm0LWNd9jbaDu2hwbUGh62NmsYgLNjA1hQb5kAA2+LdnF0M3OXFSrde5H3AH1zs27eZk1eGHxgr+IWYGc+uKSIiIiIiIpEuh3ffn4s9YhTDao0BwOUdXtfNweo9ucSaDpObWciuskJW5h0lOmE7pRk2wI/XEwRisHjLWfjwN0Pl2OauoLgjEIplZivTAbxeBlr3u07RCdDRjQ8zFgtADx7vwMiZm9ZmgCAenx98btoAk82gdc0jPBwu+fbYmnp85ns5/P3Bxc6afHYZZ9hw4gXeuh4Axxf8REREREREbtdIkenyteANnxlYsdmi6eusp6amnk5jKnZ79LDrOymuDLD11LucaSwmmW6Orw1P+3SkszXZBG3bmDd3CQsXPcm8Q36cAEEDsJCyKpcYLnMo69vMW7SEhXNX02GNHejAoJpS6pJf4Yz7TaqzYujrLCW3zH17JdrGMIHwZ8L8pfCvgat8BHCfg8W28K40xmusPPECb304seDn+/1A+YIZ2L6QUz5FREREROSzZ8I6HSC8W/wwCbFTh37gP86GZaW0GOkc6T7H+13n6DowH0/tNhbu6IwIXUGyC3eQYrNgdWRSVBgLtNPqCm1Jv7j6LY7sWE6KdTrxWdv55Z41oY1ekmOxAeb4zZxo/Blr02Kx2pNYfeB1SheEOmi3D+6kGIzfTmm2A6vFRkrhdrKAy82dd3UflAmEvxmDW6YG3Hg/BTAze8luDtsjAmDd8gmM+J3HNTBaaJnJKKXARUREREREhrETn2ICWmh1DUS3AB0t7YAJh31YuvB10waQknx9R02L3Uk8EKxtwYMVR8L0UCvGYBQ0AqHgZrVYwN9JVVk1rSyjomk/pdnJWL1tNAPTE2KxYuBtKGd/YzfxG2s4umczGfEBXC2XgUUk2gF7AmkAgb7BwGkEQrXUbVNvKDtxJ01gwxczDtsTcPU0cJK6swN1+cIB8GQ+K72ecAH48U31/PTca9T9MfR7is2JBv5ERERERGR8zCRm5RFTW0HtmmzMJTk4uqvZ3gI4C8iOB/yNrEx6Btfil3m7MIE002Eaa0vZHgsZdvAeP0gnMH1VGg7AnLGJ5Bef4fiabCwlecQHjrC7/DLE5LI4HjBPx9xxkEp3Na2dmaRYr9Fa00TQtIii7FB1a5s1QNXGowRr3GRlO8F1hFo3xGzOJbT/TDKr18bQWFlK7hrIz4rG9WIRLZhIzkq+qwNiE6rzx6cudu7PZz+AOYtfrl7D7L8cOGjwXv16ci9egHGt8bvCyZeXsyEAMJe92eUsUfoTEREREZEJ8DUXsmHzUdzh4n3RCZs4uGcNiVbAd5zl87fhWryPs+ULMHuPU7y5lNqBk01TSd64m4p1CdcLrBueanJzymkLrxmMdi6nYs84mCAPAAAgAElEQVQOrpcNDLipylvHrrZrBAFTbDqle4rJsA+uHPQ1FLKhYKBP0SRs3s/eiHuAj+aCfDbVdoVqDpqmkrzlZQ6udtzV/T4nFv6Aj05tZs5vQuv04m37OPrUbK7nPwzOnToN3/7emJu7fHhqM0t/cwY/4LDt48SQdkRERERERMbLIBAwGLE+tGHADbtoGgQC3LyethEgwM1qShsEDPNNa04boZvcNNAZAQPzZ1S4esLhb+iInYnFjpeoePLBCQW3D9tfYMO/voYLwJzBiZUbeEQ7gYqIiIiIiNw1t1Dq4X6WLCwiA4AgDZ4fsfKVN/jwv8Zx6X99zDv161g6EPyYS8Xi3LsY/IJ8fKELl/sCH9+40+sdY/TfxcYjBfvpi7xV7wXOneniYu/Qc+7m9rAiIiIiIvLFdGt1/u6fxz8tLyHbDBCkw1/MY3uf5rmmTi70jhA9PrnCe6f28vd701l+cWBTmLlULC3hqQfu0hBnfxeVP1zD3tNX4epb7P3RKird/XfhRld5Y8s+zo16vJf2gpducnx8Pj5dxpofrWH1P3cBYLh3s+GnXfTTi+una6h0h1LhuX/+B964eps3ExERERGRPzsT2O1zmPuT+MnKn5N4ophi/wX8XKDud1uo+x3AFBLNUwAwjAvhUb5BNksue5dm88iUW777GIK4frqPaSWHWDsj9En8Y3HsWf9zzv98PbPo5+KZN+m8YCL+iSeZNQ0IXuVirwmT53Xa+x3MWxIH7gbe8ESRsORxHowKcuVCL1FR/0H7SQ+mxx5nvmPaDXf+2PM67W8HefC7jxM/I4q+C2dxXehm2pkupjjjuN904zlju4AnuJwDZbE8Vxv+5MxV/u7/ySdhGjCjn+dqu8EZFzrYf4nO2mY+npnKvLkzbphj3Hepi863zxKcmUrS3BlEhy4Kv5Mokr4bS2+vidkzp0D/JVynm7lo+l8kfdfB127l6xARERERkc/drY38DfjKgyxZ8TJvZJRR9NUZEduS9tJhXKBjSPAzYbdksDe1nl89fTeDH0A37ZdSSZgR8VHUHPJ+vp5ZBDn30+eouWpn3hMPcP6na3jFA/Se5VDBS7imPU5SVAM//mEJ7aY5JDm62VP8Jn304jq4gZ/UBonP+lu+9to/8vzp3iF3/fjkc1S8PY2ErDiC1WuoeLuf6Bl2ZkR9lQcddqaYRj5nqCDGDbNIZ5L03RlDPpmdu5P54expXOgiOOOr4SMXOFbnZcaSVL722j/wwrA+Ghde4ifVV5n1xHJmXyrnx3WXIPxOjvXGMu+Jv6Lzp8/x/MkPIdhFZf5LXJmZRtKMbvb+aB/nJ/5liIiIiIjIPeDWR/4i3PdAAk/nJPD0p3186LuA9/9cwBsIh46vzMRhm4n9rx/k65/lpi4mE6aRPg+e5dVL6Wx41kE0sPDZNJ6rPsuKHOhzPMlCxzRwPMnsuqskOabxNdKZd/Aol4iF/jn84Nk53A/c/+yPaF//Kz5+Yk644Uu0n7azosROFODI/SGv/vQsfY/FYjJFERUVhZlLvDriOY+HR9+g7+0Svl87h3/Zt3h8o2xXG3i+Lo4f7x4IhzN5Kudx7o+C+3PTeaX2Q3hiMGmbZ/6IF4rA6O+nf4ad/rd/D/1ejl1dznPPziQa+H5uGr+oA+NMAxcz8lnrmAIsY8OSDdScgVlzJ/51iIiIiIjI5+uOhL/r/jKaB2bG88DMeL5zRxueqP/OlP4P6YUhAcroD2Lu7+XKjBnXwxbTpvHgpat8POT6EWMjEBkoh5/zey5d6ObCwZcYmMg5be7jEz4n+rFi3njsZs8Wob+LPQVeVuzO5/4x+xtiuPeR99NLzHbG4XCEhxj7++mbFvFOTFFMAfp7/4P7ZwwGx69Ne4CLV3uBuzpsKyIiIiIid8GdDX/3DAdJ332RPSev8k9LwnMjrx7nxzujeH63nXj3W5wnjlmA4f4V55xpfI3ucbTbxflLMHsGcMnD+WkzGFyxZyfe8VVMufkkRAH9lzh3NYpoIudwjnbOLejvYk9+AwllBcwez7LBsAunz/K9kkN8fwZw4SVqPMC0WBI89bj644iPgitvN3OGH/G1mbGcO+0BpwMIcu5tLwlLFPxERERERL6I/kzDHzyY9QI/2Pkcq2qDQJBg1ONsKltGNPDUtl/z4x9u40EHnLs0k01lM6F/POFvChdqt1FhiuKKO8gPyjIxM7C1ZhRJzz7OT9ZvoN35V1w58x8kFP0TszExy9nF88vLyHtpyyjnTFQ/7Tu38YurU3Ctz6YSYOYPqSh5cswrZz4xhz0F27jkMHGl9/cwbQ4wkx8UxVGRn01lcApJGXHMBXD8kE1v/wNrtjzAbLq5OHMzP5k54c6KiIiIiMg94BaKvP/5MIJgHm2G5w2u8sv1R3lwXz6zg0Ew3eTCsY6P95y7JogRNA199t5ejClTQjuDXjrCmjoHB56NGzwf0w27hoqIiIiIyBfHn+3I33iMP/gNM1ZoG0+o+9yCH8Cw4Ec/F0+X8ZMzU4ifFuTc27/nqX2ZQ8//jHsoIiIiIiJ31qQe+ZPhgvT1Q3TU5xlMRURERETkblD4ExERERERmQRur8i7iIiIiIiIfCEo/ImIiIiIiEwCCn8iIiIiIiKTgMKfiIiIiIjIJKDwJyIiIiIiMgko/ImIiIiIiEwCCn8iIiIiIiKTgMKfiIiIiIjIJKDwJyIiIiIiMgko/ImIiIiIiEwCCn8iIiIiIiKTgMKfiIiIiIjIJKDwJyIiIiIiMgko/ImIiIiIiEwCCn8iIiIiIiKTgMKfiIiIiIjIJKDwJyIiIiIiMgko/ImIiIiIiEwCCn8iIiIiIiKTgMKfiIiIiIjIJKDwJyIiIiIiMgko/ImIiIiIiEwCCn8iIiIiIiKTgMKfiIiIiIjIJKDwJyIiIiIiMgko/ImIiIiIiEwCCn8iIiIiIiKTgMKfiIiIiIjIJKDwJyIiIiIiMgko/ImIiIiIiEwCCn8iIiIiIiKTwH/7vDvwxWXgc7nxMZ34eBvmz7s7YzF8uFyXweYk3jaR3gbwdnTjj/zIMp14x+AzB7ydePw3Xml1JGC3RLTjaqOjpRvf1BhSUhaQOHhQRERERETusr/405/+9Kc72uInfXzkv4Q3EAz9+8vTcNw/hfu+cs/HownyU5fzv9jMTs5UL8P6eXdnLP7jrEzYBmW/5nDGRHrrpjjmKQ4N/zhmJfVNBcSbwbVjFuk3nACrjp+nKB4w3OxKz6ayOzi0iWX7OFy+ANsEH0VERERERCbuzoz8fXqFd1prqfn312j4Y3DEU6xfcpBqz2H1YwnMvO+O3HXcjEAALJbrI1VGIICBGYtllEBqBAgYoxw3AgSwMNqlN+kFgYAB5pGvNQIBjFGOhfoD5ohnGKtPN22PG9/JmFYd44NCJwCBjhKWZh1mQ1U6b69zhE9YSX1PAfE3XOinYU02ld02VtUeoyjRAgTw1OSztHA92xNuHkZv9l2N+T2KiIiIiMh1t7nmr48Lp17gf+9fznLPyVGDH4D/jx5qfreFeVWL+Pt6Fx/91+3d+eb81OXM4qGcEvaveYSHnfk0+AFfC5sWzeZh56PEOb/JQ3HZVHkMIDR69VBMCXUN6/hWbOj4t9Y04rvepo+GNY/wUOyjxMXOZuH+Toxx9cXAU5XNt2K+SZwzfO3mlsF2I/sUO4tvZVbjGWjY8FCVGb6n81EefngJm5rDV7pKeChmFtvLDrAw7lHiytzhS6pZHjcr3N5s5uQdwRvZ0UAbu8L3ezjmSTY1jzBfcwyWxDRSgMudw6aDjsR7iv1tQWIL9oWDH4AFR/Z2ihJi8bvdI7cx7Lv6VnoJrf6B1xLxjM5v8o1FW2n2ERrdjJnFY/s9g4/bnM9DMd8h4iMRERERkUnp1sPfJxc5Vr2ceb95jQ4ATNgtGeyd93PO5jZz8ZnW0E9uI28vLqLU6ghP7+un+WI+Cw8e4L0/3JFnGF3bEZrtxTQ1bifR4qe5soJmI5Mjnf/Gb93H2GI/w46C+oiAd5gadw6/dL/JkVVx9LU8w67mAAC+mnzyWgySd/yCM+7XKeqrprhtHH3wN7Kr5Az2gl/w257zdNVmYnYdoMFlhKZD5qynwVpAU+e7dLW9zGJ/KUs3txDAwFNTyn6Pk/KWd/lt95vsSfVyPO8AHRFhrra5h+zqX9C0Kgb8jeSml+KKL6ap813ONG7G0VjEyqrB5NN2qB17+VucafkZWTE9HM87gGui79XXjRcw2e0R010v4+ropGPgx+XDILQesBtIjLcPa8RO9pGT/LJkwY1TZsPv5biRTnXbu3S17WOx/zA5BY0E8NNQVkqnfTtN3ef5wP0K2WY3+xvcGNYFZCyAy41deEMN4WprgumZpDiG30REREREZHK5tWmfn5zn5VfWU/yfoZE+qzmDiqW5fOf+EabffSWaB2bOY8XMeaz4yMXLDQUUB/rxG7UsrQlyInsDj9ytaaCxBVRsSWMgdthKXud9wtMFDRNmC9DmjRh5Wk7+lgRsZrCtzST5UFdoqiZ+Olq6ILaYomwHVsC6pYDsqhHWwt0g9E787i48PhuOxAJOnAofcjVS1TOV1SWLsJkBs5PsVXOpLWyio2QBqatrOLuaiGmfVghexhcYbD2rsJjsxPA96uppC8ZSUpiJwwpYMyk9HosPy/VRyti1G8hwWIE0Vq86SG1hD14/xI+1DLBuKws7zOD30n0tCKYkylc5I044xY6sU4P/TN7JmWobBAI3NDUmTyNVPZB1qIAUmxlYwNbqV1jsnzr4Rv1uXB4fNkcCRfWvX780JW0+bDxChzcTu62T5lqYvjkJZT8RERERmexuYeTP4J2Tg8Ev3lrCifUbRg5+w309nqefPsqJB2eGRnuMOnLrXuXDiXdifKwmIveT9DUXsjRuFg87v828nFIafMMvMI+yRu4ynrbh7U3HkTiePqRRWrkca0cJ6cmP8nDMbObkhKZ2+r09BLlGZVZoWmec81EWFZ4BQmHP8FSzcu5sHop9lMfS17N/hCE6c0SHfd3twNRQqA0/jy0+gcSI3UitgwexmKeO4wHC7LGkpCSRGG8DYthSX0XGkJ1aVlLfc54PBn7Cm+BYbTEAGIEbJ8kagUA4XA8Vei9Dn81iTyAx0Y4FK4tL9pFl7aR42ePExc7iG3NXX5++a0lJJ41uml1+DFcLdcSyLlXRT0RERERkwuHv0/f+mQ1XwyN+lm3sXZHEAxNqIZpH0vdx0DYDAH9gJ9tfvzjRbkxcoIVda4/iz3iFrp5znG2qYWvKeC+ejiMZ8Ae5Po5ldOMaz7RPwJa6gxNnzvFB96859WI65rZSNtV5sdpjMDGdLY0RoannPB/0VJFh9VC1ppQ2RwHtPed5/9RJ9q6afvP7xCYB1zAGO4nPNTgF87bE57B1y2aKyjeRZuphd2UL4xrTcySwzAS1hyLXTwKBRjY4H2VOmfuGvoXey9DAGPB20tHhDd3TtoDS+nf4955/40zLz8gwt7Njc31oqqclmYwsaGtso6GlnqAzk5ThM05FRERERCahCYa/89R0nAxPk3yCiqXfm2Dwu8I7Ta9y7hMzjyzextbwwE6rp453PplYT25dKFAEPEfYXzPea6wkLoiD7hI2lXXi83tp2FFBnWkcl7pK+EbMbFbWePBH7CBqNVvAkcbqmMvsLjuCxx8g4PdQkzObh+ZXh9eshXtsgOFrY3/lmZv3MjWTNFM3xTsO4PIF8LWWsHLZCra7jDtXh9CygPzCOIKNpex2jSNSWhaQX5KEqW0bCzNLqGvtpKOhmtz0Z2gxJVG6NgEz4K3JZs6iA7gMID6d/Bio3VFCg9eP33OEDYtWsPJ4D+Cm+OFZfCPnCB6/MbgD6vVRWTOJacsxtRWxvSaIc1mSSkmIiIiIiDDBNX+fvneS/eG/91McuXxnykSuvsJbr2xhpf8SVl8vh1dkk/03T1D1r6fxc5K693L5dlL0RBqcGMsCtr44n4UbnybuEEQnbGfdYmg7Pr7Lbdm7OeBez4bKFSRVRpNQsIuixPUUjHVh/GZOFHSzvPDvmFsIEI0zax+lGVbAytbqfQTytrIooQgAU2w6e6pzsAOr9+TSkFnE/NgiTLHp5KfMhZ6bP2NF/XZyc8pJT64ATMQu28fB1Xbwu8f3oONgzyhgVeVTHNpRT3Z95pjn2zKqeMNcyIaCw2xedRiAaOdyypsKwlNHDfw93Vzz2vAbgNnBuup9+PK2krfgaOj8hO2cKFmABdhavx1PZtH1dxbtXM6BksFai+b4NDJMR6kNxpGRougnIiIi8ufLwOdpobWxG9/0WBanpoX2vhiN30NDcxOey1bsyUmkJtqHLBODAN6OFlrbevCP1p7hw9PcTkO3D1vsIlIXO27YwDDg7aS5tQ3vNRuOtPksHt7IsDZSUh2hPUDusgkVeX/v2AKW+oLAYxxcWcqT4w5/g8EPwPrlXA4vz2b2fefY97P17AL4agnv5yRx90sAGoRK3N3q2zUwMA8bSRulEDpJlHdWMVDG7qa19UatH3hr/Z1YHb/x9f+OMEL1B8f9NDerq3jLNRdFRERE5IvPR8OaJeS19EV8FsOyypepSL1xAMDXsI6FG08ReTYxK6lvKiDeTGjH+fRsKrsjy9dFs+DF1zm4OPwHsa+R3EXPMPSW6Ryo3kVqeFDDVfYUyyu7GdLKgp/xxoG0UEj0HWfl/G20DTlhPnua9rP4Lo9bTGDa50W8/nAPv/wYjtsJfiuymX0fwEzip4VP+717yFTHu+d2i4IPD34AMWTXvsKRG37ySIz4XwmjFmkPHRwlxNxaf296rxuMr/93xESCX/j8UR//ZsdERERE5M9aoKGUvJY+TMk7OdV9nt+27CTZ1MPxvAqab9icwk3N5lP0kUR5W2ifjVMFcdBzmO11oRTiqyuhsjtIcsEv6Oo5zwdtO0k29dGyuTpcGi1Aw45naOkzkVz2Gr/t+TdOlSVh6qlnQ1l4PwxfPcWV3QSTt9PkPs8HPW9Snmyir2UrVa6BNrbRFpzOqtp3+aDnPF21K4npO0Xejsbx7alxGyYw7bM/NCUPYMqMca71GyX4fWXguBmb1QlX3cAlfB/BI18ff4/uHRbsiQl8cfcV+aL3X0REREQmFz+tx08BsRQVLsNuBuzL2LpxL23lTTR0FJOaGjmKYcJiBS7HYAuPrtnssUDX9aEdW0YVXYsjBlFsTlLs0DYwQuVvo64FiC2gKMOOGbBnbCL/xXbKGsOl2mzpHHYvihiksBGfHNlID64WgPksDo+yWBJzWJdwmM0t9bT601h8J2fdDXNrdf4i/cHFvppabEvLWXJ/5IGxgl+ImfHsmiIiIiIiIjLgcnjn/bnYI0YwrNaY0DGvD4ZUenaE99M4SG6mQXY8uGqOEp2wndKB+mUDgc3Xwq5aNwHXEWq9sSzbk0k8gM9NG0BiTMSgiRWrHbjsJnTLgVl7PprLjuAKuKmp9RK7bDfZ8QAmrNOByz14fRBvA/xumjsBOvH4uIfD3x9c7KzJD20Cc+IFLEv/ge/cD+MNfiIiIiIiIrdjpFVAl68Fb/jMwIrNFk13Zz01HugzpuK0R994vb+TysrwJoUx07HfsM5oxDsOzpIE4BodlQdDe2pEx2CLGVj65CBjSxK7N7azef63qbJbMXwmLE7AHbz98mxjmMCaPxPmL4V/DVzlI4D7HCy2hXe3MV5j5YkXeOvDiQU/3+8HyhfMwPaFnPIpIiIiIiKfrfAIGtfwj7BQLiF26tAP/MfZsKyUFiOdI93neL/rHF0H5uOp3cbCHZ1DQ1d8Qaj2tvsY6yynKMtaQZUXMFuZDuD3j7A2b+6wXUGdFPWc54Oed6lfG01L+QqWV4WmfloXV/F2bTFZKVZs8ZkUNe1mnQ0gCce9s+HLjMEHCrjxfgpgZvaS3Ry2RwTAuuUTGPE7j+tK+FfLTNVjExERERGRcbATn2ICWmi9Xns6QEdLO2DCYR+WLHzdoSmbKcmhnT0Bi91JPBCsbcFDAFdNObvKqmn1h6+xxOJwAPTgCwB2JykmoLmNwVt20twGmGKx2yDgOsKusnKqBhvB4YgFoOdyH+Cno6qcqjbIKD/JwZJMUqw9tDYD0xNuXqbiDpjAtE8zDtsTcPU0cJK6swN1+cIB8GQ+K70eBh5zPFM9Pz33GnV/DP2eYvv/2bv7qKjvA+/77z3dnWkbIFdJpsXbCW4YPAljroVJjkJ7iVaNJI1iK5JeCN7xIS5E79XQKCSNyOZGTCLY1GgPosf40EvQa4O4FUyMT4loE8BtBjbrsK2MXREv2YyS03GyzW9Oe/f+YwYZnsFonvi8zrGHzO/7+36/v9/wB59+nxLQwJ+IiIiIiAzNTFLmSmIqN1KZk4W5eBH2lt2sOQYkFATW13lqWZj8E5ypr3FmbSKzTXuorVzPmjhIt4H7wHYagLGLZ2MnAq+5hfLy7ZQfbWBxSgxmTwM7DwCmWSTZAHMiWU/HUFm6n+z5ZtYvjsO1q5BjQMLa4LpAqwlX+Xbqyo9Tv/hhbOar1O+sBkzMTowBIrCaGygv387OUw1kTb0bz6l91PpNzF47v8cqxdthROf88YmTl7fmshXAnMkbS3KY8PWuiwbvVy8n+2IrDGuN3xUOvZbBCi/AJLZklTJH6U9ERERERIap/ehaVuTtpyl47l544mq2b84hyQK0HyDj4edwppZxtnQmZvcBivLWU9lV2HQ3U57exMZlicFD2g3cVcWsXhdSX0IGhaUFpNu61vm1c7Qgl9WVzcHzAsNJzNvKlht1gNG7nfB4MtduuLFDKHhx7swlu+Q0V/2AKY55xT9n/Y3rt8/Iwh/w4fE8Jn4QWKfnsJax//EJ3Mh/GJw7fhK++4MhN3e5dDyPuR804gHs1jIO9qhHRERERERkOAy8XoN+z8c2DDD3jlQGXi+DnqVtBAoMHMYML4EmBzl32vDiZfBzqQ2vgfkzPLh6xOGv54idiVT7DjY+Mm5Ewe3S6ZdY8S9HAoclmtM5uHAFD2onUBERERERkdtmBBu+dBnDnMcKSQfAT41rKQv3nuDSn4Zx65+u8V71MuZ2BT8msTE1+zYGPz/XWptxNrVyre9ur7eM4buNlYfy+7ge2lRnK+cam7nY2bPM7d4iVkREREREvnxuIvwBY2bws4xisswAfuo9RUze8iSrDjfQ2tlP9Pj4Cu8f38Lfb0kj42LXpjCT2Di3mMfvuU3DnL5myp/IYcvJDuh4hy1LF1Pe5LsNDXVwIr+McwNe7+R0wY5Brg/PtZMl5CzNYckvmgEwmjax4pVmfHTifCWH8qZAKjz3i59youNTNiYiIiIiIl85N3/I+5hkXlz4S5IOFlHkacVDK1W/y6fqdwCRJJkjATCM1uAoXzdrRDZb5mbxYORNtz4EP85Xyogq3sVT0YFPHJPj2bz8l5z/5XLG4+Ni49s0tJpwTH+E8VGAv4OLnSZMrrc47bMzY048NNVwwhVG4pxpjAvzc6W1k7Cw/+T0IRemydN42B7Vp+Vrrrc4fcbPuEen4YgO43rrWZytLUQ1NhOZEM8YU98yQ2vF5c9gW0kcqyqDnzR28MN/yCUxCoj2saqyBRLiAxd9bTRUHuVabAozJkX3mat8va2ZhjNn8cemkDwpmvDATcF3Ekbyo3F0dpqYEBsJvjacJ49y0fQ9kh+1c9fNfB0iIiIiIvK5u7mRvy53jGPOgtc4kV5C4beiQ87p66TeaKW+R/AzYYtIZ0tKNb9+8nYGP4AWTrelkBgd8lHYRFb+cjnj8XPulVVUdNiYMf0ezr+Sw14X0HmWXQU7cEZNIzmshuefKOa0aSLJ9hY2F73NdTpxbl/Bi5V+HJn/g7uO/CMvnOzs0eq1Q6vYeCaKxMx4/Ltz2HjGR3i0jeiwbzHObiPS1H+ZnvwYfWaRxpL8aHSPTyZkv8zDwexptDbjj/5W8Eorr1e5iZ6Twl1HfspLvfpotO7gxd0djJ+ewYS2Up6vaoPgO3m9M44Z079DwyureOHQJfA3U567gyuxs0mObmHL0jLOj/zLEBERERGRL4CbH/kLcec9iTy5KJEnP7nOpfZW3P/RitsbDB13xGK3xmL723F8+7Pc1MVkwtTf5/6zvNmWxopn7IQDjz0zm1W7z7JgEVy3P8Jj9iiwP8KEqg6S7VHcRRoztu+njTjwTeTHz0xkDDDmmaWcXv5rrk2fGKy4jdMnbSwothEG2LOf4M1XznJ9chwmUxhhYWGYaePNfstMC46+wfUzxfyociL/VJY6vFG2jhpeqIrn+U1d4TCWxxdNY0wYjMlOY2/lJZjenbTNsUt5qRAMnw9ftA3fmY/A5+b1jgxWPRNLOPCj7Nn8qgqMxhoupufylD0SmMeKOSuoaITxk0b+dYiIiIiIyOfrloS/G74ezj2xDu6JdfD9W1rxSP0Nkb5LdEKPAGX4/Jh9nVyJjr4RtoiKYlxbB9d63N9vbARCA2XvMh/R1tpC6/YddE3kjJo0bcRlwicXcWLyYM8WwtfM5gI3CzblMmbI/gYYTWWsfKWNCQnx2O3BIUafj+tRIe/EFEYk4Ov8T8ZEdwfHu6Lu4WJHJ3Bbh21FREREROQ2uLXh7wvDTvKjr7L5UAc/mxOcG9lxgOdfDuOFTTYcTe9wnnjGA0bTrzmXMJu7aBlGvc2cb4MJ0UCbi/NR0XSv2LPhsH8LU3YuiWGAr41zHWGEEzqHc6AyN8HXzObcGhJLCpgwnGWDQa0nz/KD4l38KBpo3UGFC4iKI9FVjdMXjyMMrpw5SiNLuSs2jnMnXZBgB/ycO+MmcY6Cn4iIiIjIl9FXNPzBuMyX+PHLq1hc6Qf8+MOmsbpkHuHA48+9y/NPPMc4O5xri2V1SSz4hhP+ImmtfI6NpjCuNPn5ccl8zHRtrRlG8jPTeHH5Ck4nfIcrjf9JYuHPmICJ8QnNvJBRwsod+QOUGSkfp19+jl91RKb9KrwAACAASURBVOJcnkU5QOwTbCx+ZMg7Y6dPZHPBc7TZTVzp/AiiJgKx/Lgwno25WZT7I0lOj2cSgP0JVp/5KTn59zCBFi7G5vFi7Ig7KyIiIiIiXwA3ccj7V4fhB/NAMzz76OCN5fsZV5bLBL8fTIPcONT14Za5bfwYflPPZ+/sxIiMDOwM2raPnCo7256J7y6Pqc+uoSIiIiIi8uXxlR35G47hB79ehgptwwl1n1vwA+gV/PBx8WQJLzZG4ojyc+7MRzxeNr9n+c+4hyIiIiIicmuN6pE/6c3PdR+Eh32ewVRERERERG4HhT8REREREZFR4NMd8i4iIiIiIiJfCgp/IiIiIiIio4DCn4iIiIiIyCig8CciIiIiIjIKKPyJiIiIiIiMAgp/IiIiIiIio4DCn4iIiIiIyCig8CciIiIiIjIKKPyJiIiIiIiMAgp/IiIiIiIio4DCn4iIiIiIyCig8CciIiIiIjIKKPyJiIiIiIiMAgp/IiIiIiIio4DCn4iIiIiIyCig8CciIiIiIjIKKPyJiIiIiIiMAgp/IiIiIiIio4DCn4iIiIiIyCig8CciIiIiIjIKKPyJiIiIiIiMAgp/IiIiIiIio4DCn4iIiIiIyCig8CciIiIiIjIKKPyJiIiIiIiMAgp/IiIiIiIio4DCn4iIiIiIyCig8CciIiIiIjIKKPyJiIiIiIiMAgp/IiIiIiIio4DCn4iIiIiIyCjw1593B75I3BVZZB+YwsZ9OTjMfa8b7U0428HqSMDaz/UvFoN2ZxPtjMXhsDLs7hrtOJ2XMcy97uv6PCIGh90S/Nyg3XWMU7UttI+NIyVpCg5bxI2qvO4GXJ7Qys1Y7AmEFBERERERkc/IrQ9/H1/nQ08bbq8/8N/fjMI+JpI77/jCp6Uhees3Mz8fSht2km75vHszFC/1ry4gj5dp3G1l2N01W6DuSeaXQ37tWyyzAxg4X32StHJ46sAhkgCMJjakZVHe4r9xazkQM6+MPaUzsQLuygXM39W7gRjmle9lY8oX/gWKiIiIiHyl3Jrw98kV3jtVScVvj1DzZ3+/RSxfs5NiW8SSyYnE3nlLWh0Ww+vFMEcQMUj2NLxeiIjAllXBiaw+VwlcHnl4NbxeDMz932t48RoDXMPA6zVgkH539dkc8t8DttXVHoO/hwAzjqeLWFyzgJKCfaRUz8fmrqao/AJjF+8l12EGPNTkZFHeYmVx5esUJkUAXlwVucxdu5w1ie+y50Y6Xkj1hQIcAN4GimYtYNerx1mWMh/bgH0IPL855PlG8m5ERERERKSvT7nm7zqtx1/if27NIMN1aMDgB+D5s4uK3+UzY+cs/r7ayYd/+nQtD8loYsOsCdyf8BDxcQ+SXXOAopjx3LuuCfBQtWg89y4qZmvOg9yfkEuNB5zrxnNvTDHOYBXtNcv4u5gHiE94gPtmbaPeGGbTrt1kxI8PtJ3wAPfNepaj7V1X2zmaN4f74gLX7o3PYqerq2ID186sYJsPER83gcfyjhG4tf8+036M1V3PmfAAf5dWzKkeUy2vc6ok2F7ceGbkHaPH5f6YE3m2OANTUzFFVQ1UrSukyZTB+vzEQBhzH2drnZ+4grJg8AOIwJ61hi1PZWPnMt7+6o0Yi9066Jvr8fz33/9dVlS4MYZ4N56qJdwb8322urrq8XJ05XjuTd6Ga6CmRERERERGmZsPfx9f5PXdGcz44Aj1AJiwRaSzZcYvOZt9lIs/ORX4l13LmdRC1lvsBP7u93H0Yi6Pbd/G+3+4Jc/QD4P6dYGRqcxdb9PcsJeUuu30mYFYt4+jtiIO164hqfc6tPZ9rHj6OMaUIg43/IYTa73sXHd6GG17qClZT4NtDYdbzvP7pr1kmZvYWtOEgYGz5Elyau6msPZdmpveZnfqVdalPctRLxiufRSVt+AoOUJzy79x+tWZuA/ksjU0dYb22dzEhkXLOWCksbvuNzTXlZHq2cOigtru8FW3m1MxL3Om4QibM2O4cCCXrc7++t2TeWoeW2ZDXf4C8upMTCldydTgSJvX3UALkOToPXZnIyU/j2fTE+h+nZdx1jdQX19H1bpc1rgmsbY0rd9RP0/NMuYWN+FY9ysam97lcH4ctWufZKcL8NSyobgRW8Gv+PcL52munI/ZuY0ap4ElJY2ZXKbG6Q5UZDRxqhbGZiZjH8Y3JiIiIiIyGtzctM+Pz/Pa3uUU/VdgpM9iTmfj3Gy+P6afeXh3hHNP7AwWxM5gwYdOXqspoMjrw2NUMrfCz8GsFTx4y6eBtnC00g+ZayicGti0JD0/m5oDz1EXWiyugI35s28EkdARMU/9MZqIo3jtfOwWwJJHYdZu0vokyL7MAJ4mnK52rPZECqvfCl5pombnBe5eUkSq1QyYcWQuIrGykJr6IlJSFrG/cRHdUxvDseCnvT1kHC20z85idl6AzF0FTLWagZk8u3svqZ67Q8rnkJtuxwKkLl7E1spC3G4POIZacxdB0swpUHscSCA1pLzh7T2u10RRzOMh4Tow1TOggYp1l4PvxI3ZMiV4f+/2PZw6cBp/XBGFWYH+WrKKqLZfhgij663iaWrG1W7FnlTAweNd904hdSasrGzEnWXDWn+MSsaSP1XRT0RERESky02M/Bm8d6g7+DksxRxcvqL/4Nfbtx08+eR+Do6LDfzpb1SRXfUml0beicF53LgBzCFrxiy2vqNNFhMDbTzZ3nIauBtzSAFrXOIwGreQWlxGpqWBonnTiI8bz32TlgSmdnrcuP1wtXxBYOpiwkPEzy6kAQJhz3Cxc9F3uS/mAeKTHye7vLmf6rv77HFfwA+YQxa/RdgSSUqydT9X6DNGmIa/8Yv3GGvyjmNKiCeBRtaUHLsxmmixxgBgeLtGJGPIqtzLvsoynkoExlpC1uqlsfHwId44fIg3Gt9n+9QWSjILqekzL/Qyrrpe/TVbcSQl4rCawTKb9eUZWOqLSZvyEPfHTGDiot0EZsxGMHXeLGg5htNj4DxWDXE5pCj7iYiIiIjcMOLw98n7v2BFR3DEL+I5tixI5p4R1RDOg2llbLdGA+Dxvsyaty6OtBuDs9iwm4D29u7pj+6W4PTU4bHGJQNXMW5UYOBqGs60T8A6k/XV7/HbC/9G47Gfk24+zbq8atwWGzYTjM37Fb+/cL7Hvz3pFlw7l7OuLo7CuvP8vvkt3ti8kMGWyFlsMZgIDWGBKZn19e7+19wNm8Gpklxq/fEUllaxcV08/tpcNpwKtmNPZJ4JKnfVBtcjRmBLSiTJEYHRDjhiBui3GVtcDHCcrhma3cZinwJ4/N19N9px1jfgbA+0a01Zx8HGc/y+5V2Ov5qGuW49q6sCFUVMTSOT09ScquVolZ+EzORBNpQRERERERl9Rhj+zlNRfyg4PXI6G+f+YITB7wrvHX6Tcx+beTD1OZ4NDg+dclXx3scj68ngEkh9OgaOPcvCklrqT+1jdV4pffLGICxJM0mghaK8UurbPbhritlQZRrGnU0U3T+e+xbtw+UJ2bHSYiKCOFKXxHD51Y1UuDx4vR5cFUu4L+YRdoZ2zjDAaOdU+XYaBmvKkUZuDFSuK6bG7cHj2seKWQtYeODCCJ60L6O+lDWVfmLyisiygS29gKdi/FQWlAY2vYmYSW5xMqa653hsfjFVpxqor9nNirQl7LocQ/5TM/tZ89fAqapiVqw7DaY0kmyAt46iWd8lu8YDWEjJnIWppZiirU20e9s5te5J0jILcRpmcBZzX8wEFla48ITskmrpGpo1J5KaaaKuoJAKfzzpUwfdWUZEREREZNQZ0Zq/T94/xNbg4M9UezbfjxzJ3Vd4Z28+Cz1tWNo72bMgi6z/Pp2d/3ISD4eoej+b7yaHj6TCQdmX7WUfhRTVbqfIGc+S0k1EzHyy76YvA7HOZ0t5E9krtzN/ynbCE9ewcW0iOWuHujGBZ6vX4JpfyKzEQgDCEzLYVjwvsI4t/zW2eXNZPft7FACY4pj36msssQFLNvFUbRYFMx+gwBTHvKeTSWSwIGdn2e4y2lc+y8qZ+wNtJa7hYPFMIobe07N/RhMbCvZwOSab6iXBeZPmBHKLF1KTuYc1JbN5Y20C1vSdnDCvZUXBHvIW77nxnKW1eaT3mG55nHWZXYvzTNydkEFpaQEpEUC7B5f7Kh5PYA1gRMoGDhZ4WVjyOMmlwXdTXhZ4N+RxsKCFjLU/ZNJagHASMstYf+NICTOO2WmYKvfjT5iHsp+IiIjIKGK04zp6mpqWdqxxs0hJtQ++3MnjouboYVyXLdimJJPStWzKaMfpvEx/m/ybrQmB5UgEZtsdPVWH+6oV++yHSbWH7I/R3nRj5lrI3VgdCVjNA7cRWv/t8ld/+ctf/jLcwu+/PpO57X5gMtsXrueRYYe/7uAHYPlmNnsysphw5znKfr6cDQDfKuZfFyVz6/Z+MfB4DCyW4MiQ9xgrEpbjXneEN7JGNiHQMMDc63twrhvf7+YvU0pCzrgb9Gy9gc8P7H2G3/A6Odxz/AKG1f/b1PYwKhz0bMWbej8iIiIi8tXUXkv2rJ9w7HrIZzFpbNu9gZR+BgTaa5bx2NPHCS1OzEKqDxfg8B5gYWKvTSKDAn8nR+AseZyM8hZCD7mLmVfG/tKZWBjo7+xkSht2km4BnMXcO2/PAPWP8O/wERrByN9F3J7gI35zMvZPE/wWZDHhDoBYHFFAB/BRE26SeXD4HRqUa+scZpV6SFy8hmVT4FT5emqJIb/P8QRD6x38AGyZe9k3s5+y1pAdYswRA24oA2YiBrhoHujCYAZtq69h9f82tT2MCgd8N4Hmbm1rIiIiIvJl5aVm3U84dt3ElJJDbE+30l61jMfyq1lR8jBnN8/s9XdqExV5x7lOMqV1O0m3gntnOg8X72FN1XzeyJrNlqaZPeo/VTCNlbVjSbJbwHOATeUt+KcUcXr3fKy0U7FoGgUH1lO1eCbL7ARH9DLY3ZSHI6SmGxtJBof8Mnf9hmf7LXD7jCD8+fB0jU1GRg9zrd9gwQ/AjNWSAB1NQBvtH8KD3x5+jwZjX/Y6h63b2Fq5hw31YHXksbs07ZZNB4ywJQbWrX1Jfdn7LyIiIiKCp46qY0BcAYXpNsyALX01ua+epqT2MPXFMwPLjW4wEWEBLsdgDeYCqy0OaMZM4Ci2HrPP3IfZWQvMXE2WHfAmsKxyL7nWhOAGh1aSZsZBXUswK3loDxw7EKjHa/Sp09MeWNYV2BvEi3Hj59vv5s75C/UHJ2UVlVjnljJnTOiFoYJfgJnhbKJyMyKwp+axJTXvNtUvIiIiIiKfq/amwBTNpJiQnd4tWGzA5Sbc7UCP/SjsLNmcTc387WTPN8hygLNiP+GJa1if3nuUyODUrmKaGEv+07MDI4gRNpJCR1CMJip2tYApI3jMmBfDA8RdYNPDD1AX3L4jZl4Ze0pnYgW8xlUgDverj3D/jQIDT1O9lW7inL8Qf3DyckUuG4xGVhx8iXeudF0YXvATERERERH59PobN7vcPXMxhIEFqzWc6w3VVFRU02Dcjc0W3rcGdzWbKv3do359KnKxdX4Wuy7EsHhfAUnmQD8sUzOYGTGWlNK3aa57nfwpJi4cWE5R8KBrsyWZzJnhWGdu4HTT21TnJWO6UE3OutpPeVzb0EYQ/kyYvxb80dvBhwB32km1BnfSMY6w8OBLvHNpZMGv/aPG4E/RWG/RlE8RERERERkFzBbGAng8/QSnSdh775/iOcCKees5ZqSxr+Uc/9p8juZtD+OqfI7H1jWE7MDp5eirvUb9QnkbKJr1Q0qarGTu2kuhoys6WknJX8f2fevIcliJsCawbG0BccCxppZAiZQ81m+rYH1WAtYIK45laygMFMB1S17KwEYQ/qK7X563CfcnAGYmzNnEHltIAKzKGMGI33mcXaOFEbGDHmguIiIiIiLSgy2BqSbgaB3OruTmbeBoHWCKw9Y7YLS3BKaJTp1CV16LsCXgAPyVx7rDl2sfG2oHGPVrP8bqtAWBEb/K11k/NSRhepuoKCllQ0VTdxg1vMGfzYAXZ0UpG0r24ewugDf48+1e9zeCNX9m7Nbp0HESOETV2a5z+YIB8FAuC92uG6fLDWeq5yfnjlD158DPU60JaOBPRERERESGzZxI1tMxVJbuJ3u+mfWL43DtKuQYkLB2Pg7AU7OEyU83kbrrHTY6Eplt2kNt5XrWxEG6DdwHttMAjF08O7g80MvR8s1c6G/Uz1vH6lnLOXAd7k6chLluGxuC50JYZ+aQ5bgb6rdT3rQPp7eIXOtVdr66kcvE8NTsOMCMhQbKy7dT4fSy/umxeHZtoeQyxDw1m/5ml95KIzrnj0+cvLw1l60A5kzeWJLDhK93XTR4v3o52RdbYVhr/K5w6LUMVngBJrElq5Q5Sn8iIiIiIjIi7RwtyGV1ZXPw7L5wEvO2smVZIhagvSqLGflNpJa/x8aUCAz3AYry1lPZFDzpz3Q3U57exMZgeVzbmDF7Ixdm/pzmbb3Cn2eocwAt4G1i58plbKi7GjgLMHwS+ds2sSzpxjRKnDtzyS45zVV/3/7eTiMLf8CHx/OY+EFgnZ7DWsb+xydwI/9hcO74SfjuD4bc3OXS8TzmftCIB7BbyzjYox4REREREZERMLzBkxUiiOg1f9Iw+ju7OzDdMqJ34VvXIbyGuU9fepTwGphvW/t9jTj89RyxM5Fq38HGR8aNKLhdOv0SK/7lCE4AczoHF67gQe0EKiIiIiIictvcxFEPY5jzWCHpAPipcS1l4d4TXPrTMG790zXeq17G3K7gxyQ2pmbfxuDn51prM86mVq75b1cbYPhuY+Wh/D6uhzbV2cq5xmYudvYs08+Otl9AnZw/2cy1fq58Zu9zmG0ZrW/xT6/swNkxwsr7+S4MX8hn/g7ON57lXGtnSDk/132+7n+f3asQERERka+4mzvnb8wMfpZRTJYZwE+9p4jJW55k1eEGWjv7iR4fX+H941v4+y1pZFzs2hRmEhvnFvP4PbdpmNPXTPkTOWw52QEd77Bl6WLKm3y3oaEOTuSXcW7A652cLtgxyPXhuXayhJylOSz5RTMARtMmVrzSjI9OnK/kUN4USAnnfvFTTow0pHwu/HR2+OibbZrZlv9Wv6Hw1hvquwv0Z1fRJSZkZ2CPGmn1NazOfzs49xyMxhJW/iKwxa/RtImcpZtwdsKVkyWsfGIT53xAx1u8kPFTtm3fQcX2HWxZvpi9TUqAIiIiIvLpjWC3z17GJPPiwl+SdLCIIk8rHlqp+l0+Vb8DiCTJHAmAYbQGR/m6WSOy2TI3iwcjb7r1IfhxvlJGVPEunooOfOKYHM/m5b/k/C+XMx4fFxvfpqHVhGP6I4yPAvwdXOw0YXK9xWmfnRlz4qGphhOuMBLnTGNcmJ8rrZ2Ehf0npw+5ME2exsP9pIFrrrc4fcbPuEen4YgO43rrWZytLUQ1NhOZEM8YU98yQ2vF5c9gW0kcqyqDnzR28MN/yCUxCoj2saqyBRLiAxd9bTRUHuVabAozJkX32TL2elszDWfO4o9NIXlSNOGBm4LvJIzkR+Po7DQxITYSfG04Tx7loul7JD9q567hfgUdLo6ffBe/PY3EsEv4o+MZ42vlIpH4zlTTmfAEsXYfXU/f9U7Gp4e+05Dv6dFHGB/Z/zvuaq+h8V2uhPTzemsr/siPaajqxJE9jTEDPIu/o5k3DrkwTX+Eh2NDfyk7udjo4qK/k1hXB9GTYjH3V0dn6HMtJTn4O0f0fFZGZ7HtzERWT3Kzazs8tWkiZv+v2fiL7/D8L3MZB8BEku3FLNntoiIdiE5h8TOpgbo7DrCqsoUFXd+tiIiIiMhNurmRvy53jGPOgtc4kV5C4beiQ87p66TeaKW+R/AzYYtIZ0tKNb9+8nYGP4AWTrelkBgd8lHYRFb+cjnj8XPulVVUdNiYMf0ezr+Sw14X0HmWXQU7cEZNIzmshuefKOa0aSLJ9hY2F73NdTpxbl/Bi5V+HJn/g7uO/CMvnOzs0eq1Q6vYeCaKxMx4/Ltz2HjGR3i0jeiwbzHObiPS1H+ZnvwYfQZ6Ykl+NLrHJxOyX+bhYE4yWpvxR38reKWV16vcRM9J4a4jP+WlXn00Wnfw4u4Oxk/PYEJbKc9XtUHwnbzeGceM6d+h4ZVVvHDoEvibKc/dwZXY2SRHt7BlaRnne3fN7+87zbSjhp++/C5jJmfg6NzPC/k7cHYCbbU8n7+fK/YUEiI7cW6vpa3Xe/NV7qAh+B6cRTm87ovnB9MjebOgjPP+Ad5f59u8+Mq7hCVkkBx5lNVFv8YA2g79lBcqO5jwaDyRPZ6lmReXHiBwxORb/NOZvyFxTjy+V1YEfhduiCTKHsVdYfcwzh5N+EDvo8dz9XwV4/9hDVG7y9j7ixJ8i5bjCANcZ7n46LRg8AswTy6g4h96b+7byflD73JXwj2937CIiIiIyIjd/MhfiDvvSeTJRYk8+cl1LrW34v6PVtzeYOi4Ixa7NRbb347j25/lpi4mE6b+Pvef5c22NFY8YycceOyZ2azafZYFi+C6/REes0eB/REmVHWQbI/iLtKYsX0/bcSBbyI/fmYiY4Axzyzl9PJfc236xGDFbZw+aWNBsY0wwJ79BG++cpbrk+MwmcIICwvDTBtv9ltmWnD0Da6fKeZHlRP5p7LU4Y2yddTwQlU8z2/qCoexPL5oGmPCYEx2GnsrL8H07kRijl3KS4WBtWe+aBu+Mx+Bz83rHRmseiaWcOBH2bP5VRUYjTVcTM/lKXskMI8Vc1ZQ0QjjJ3XV5qOh6HH+aVIFP5vT3cb5qmomZO9iQjQQvZQFZ1bdmMYZNSeNh2OjgK65qW2cPmJjSVl84L0uymB8flcgDiMsDExRE1lZNhFo458HeH/Pl0wLrInERlRHJ4EaovhB+iOMiwLjTFnIs8znZ2U+DHzAIyxID4zg/WhRPKtaO1gQMqJrDovEZPIRGWbCODPA+zCFPldvdpKnr2dB5UTKn+ke5TXd+OVs4/Qr1YGpp9HTyJoMtB1l1ytuwvwdOF13sGDObf1/SkRERERklLgl4e+Gr4dzT6yDe2IdfP+WVjxSf0Ok7xKd0CNAGT4/Zl8nV6Kjb4QtoqIY19bRa41Zv7ERCA2Uvct8RFtrC63bd9yYyhg1adqIy4RPLuLE5MGeLYSvmc0FbhZsymXMkP0NMJrKWPlKGxMS4rHbg0OMPh/Xo0LeiSmMSMDX+Z+Mie4OHndF3cPFjk6g67MwEovfJLFXG35/GJE3bjMRFsYga/g+oo17SO76z7BIIvEBJhyF/y+mQ7VsyX2b82FLeaE4sv/31/EWL+TWEjYpHnvCHUDfqbS9nwVTGGZ6jbqaBvre+6/jxvuIHuSmjho2n5zNxux3Ka9sY0tmNJhM+No6gSggmknZS0nw/ZqfFbXhn0zPaZ++X7Mxvwb7cP/PABERERGRAXy6aZ9fWHaSH22m/FDIzicdB3i+4G2uR9lwNP36xvRFo+nXnEuIG+Yf1s2cbwv+2ObifFRkSMyw4bB/i+TsXJ56JpenstNITrinO1ANu8ww+ZrZnFtDYkkuE4azbDCo9eRZflD8Miufmd+9vi0qjkTXWziDWejKmaM0AnfFxnHuTNc8SD/nzrhJtA89ChWd8C1OnAm+e99ZTpwcrLQNR9g7gWmhAK1ng1OFfVxs9BE9ZymrN1XwlKkaZ0f/78/fWEvYM1tY/cxSHpsU1e/77PksPs4feovzI9xHZeTvo5PTr+zH8cx8Eues4Qdn/pF/bgPs3yf5zFbeCL4ic1gYvsZark2P7//30OfrHVNFREREREbs1o78fYGMy3yJH7+8isWVfsCPP2waq0vmEQ48/ty7PP/Ec4yzw7m2WFaXxIKvZRi1RtJa+RwbTWFcafLz45L5mG9MXwwj+ZlpvLh8BacTvsOVxv8ksfBnTMDE+IRmXsgoYeWO/AHKjJSP0y8/x686InEuz6IcIPYJNhY/MuSdsdMnsrngOdrsJq50fgRRE4FYflwYz8bcLMr9kSSnxzMJwP4Eq8/8lJz8e5hACxdj83gxdujehU/PZ8n2f2RxRiem2DR+OOhIZhjJz3yfny7NoWnSd7gWFsl4vgOEYerYwer8SBxhl3D603ghKowx/b2/SbO5tjyHjZPv4VqnDz//o28zvZ8lIY8XTfRdwziYgd5HU//FjTNl7IzKp9wOEMVjhbNZVXSAxLJ5LCjLYHNuFouDAdSUsJwXn4uGjmZo3cHqjP3BWiL5QeFLPdYHioiIiIjcjJs45P2rw/CDefCZfiE6eGP5fsaV5TLB7x98iuBQ14db5rbxY/hNPZ+9sxMjMjKwM2jbPnKq7Gx7Jr67PKY+u4YOzMd1XxjhYYF7G4pWcf0ftvDwTS1dG6Dtft7f8L7PkT7L7apDREREROSz9ZUd+RuO4Qe/XoYKbcMJdZ9b8APoFfzwcfFkCS82RuKI8nPuzEc8Xja/Z/mRVN/ZzK7c/fgTbJg6mjkXlcvmm96zZIC2+3l/w/s+b0VoU/ATERERkS+fUT3yJ735ue6D8LBbE0wNnw+/KYzwzzPnioiIiIgIoPAnIiIiIiIyKnxFd/sUERERERGRUAp/IiIiIiIio4DCn4iIiIiIyCig8CciIiIiIjIKKPyJiIiIiIiMAgp/IiIiIiIio4DCn4iIiIiIyCig8CciIiIiIjIKKPyJiIiIiIiMAgp/IiIiIiIio4DCn4iIiIiIyCig8CciIiIiIjIKKPyJiIiIiIiMAgp/IiIiIiIio4DCn4iIiIiIyCig8CciIiIiIjIKKPyJiIiIiIiMAgp/IiIiIiIio4DCn4iIiIiIyCig8CciIiIiIjIKKPyJiIiIiIiMAgp/IiIiIiIio4DCn4iIiIiIyCig8CciIiIiIjIKKPyJiIiIiIiMAgp/IiIiIiIio4DCn4iIiIiIyCig8CciIiIiIjIKDnEFsgAAHVBJREFUKPyJiIiIiIiMAgp/IiIiIiIio4DCn3xxtNeyYtYSdrqMAYsYzm3MnZVLTftn2C8RERERka+Av/rLX/7yl8+7E18U7oossg9MYeO+HBzmvteN9iac7WB1JGDt5/oXi0G7s4l2xuJwWBlJd73uBlye0E/CsTrsN5458B76BjSzNQFHyIvxuOo4Vd+A+6oV++xkUuyD9cND1aLvkWf+Oc3bZhPRXQn17ushdbdTkTaNImsZZzfP7C4nIiIiIiKD+utbXuPH1/nQ04bb6w/89zejsI+J5M47vvBpaUje+s3Mz4fShp2kWz7v3gzFS/2rC8jjZRp3WxlJd92VC5i/q/enMSw+cIhChzn4Hk73uW9KybvsSbcA7dTkzGHlsevdF8vBlLCag/tysPf3q+CqZlMdzC6fEgx0Xpw7l7GwuJHrPeq2kpKZTEH+NmryZ5JlHcGDiYiIiIiMYrcm/H1yhfdOVVLx2yPU/NnfbxHL1+yk2BaxZHIisXfeklaHxfB6McwRRAySPQ2vFyIisGVVcCKrz1UCl0ceXg2vFwNz//caXrzGANcw8HoNGKTfXX02h/z3gG11tcfg76GnhVRfKMAB4G2gKG0Bu1buJv10TjBIJg8Qgg2cJU+y8pjBlJIjbE+3YQY8p9aSsXgj2SWJnFib0GcE0O08zGWSyXUEop+nKpe0VyG/JJtT+dt7lLU4ZhJHIRWn3GRl2QZ9ioG//6HfsYiIiIjIV8mnXPN3ndbjL/E/t2aQ4To0YPAD8PzZRcXv8pmxcxZ/X+3kwz99upaHZDSxYdYE7k94iPi4B8muOUBRzHjuXddEYIrheO5dVMzWnAe5PyGXGg84143n3phinMEq2muW8XcxDxCf8AD3zdpG/cBL0Xo27dpNRvz4QNsJD3DfrGc5emONWjtH8+ZwX1zg2r3xWSFr3AxcO7OCbT5EfNwEHss7RuDW/vtM+zFWdz1nwgP8XVoxp3pM2bzOqZJge3HjmZF3jB6XhyMikdSpwOXe00H7e/gGqsovwLytN4IfgGVqHoWZcUQ4m3D3ucmLu6EFiMEWDJNmx2oamytYNjWm71RRWwxJQEvLZQb6Snp8B3ETmLhyH24DBnvHnqol3Bvzfba6uvt1dOV47k3ehmuAdkREREREvixuPvx9fJHXd2cw44Mj1ANgwhaRzpYZv+Rs9lEu/uRU4F92LWdSC1lvsROYoefj6MVcHtu+jff/cEueoR8G9euyKG+xkrnrbZob9pJSt50+Mxnr9nHUVsTh2jUk9V481r6PFU8fx5hSxOGG33BirZed6/pOdezLQ03Jehpsazjccp7fN+0ly9zE1pomjOCoWE7N3RTWvktz09vsTr3KurRnOeoFw7WPovIWHCVHaG75N06/OhP3gVy2hqbO0D6bm9iwaDkHjDR21/2G5royUj17WFRQi/dG+d2cinmZMw1H2JwZw4UDuWx19tfvwbTjcgOm7nAGV3HVN1B/45870Ka7hVPAlMS4XqEtgqnFh3ijehH2PvUHRleZEkfXLM4Im32QqarhWMYC7Z7u5wzlqSU7bT1OR+C7a6zNw15byMKdLvDUsqG4EVvBr/j3C+dprpyP2bmNGqeBJSWNmVymxhmMp0YTp2phbGZyP30WEREREflyublpnx+f57W9yyn6r8BIn8Wczsa52Xx/TD/z5+4I557YGSyIncGCD528VlNAkdeHx6hkboWfg1krePCWTwNt4WilHzLXUDg1sMlIen42NQeeoy60WFwBG/Nn0zVxMHRQy1N/jCbiKF47H7sFsORRmLWbtD4Jsi8zgKcJp6sdqz2Rwuq3gleaqNl5gbuXFJFqNQNmHJmLSKwspKa+iJSURexvXET3lMRwLPhpbw+JOKF9dhaz8wJk7ipgqtUMzOTZ3XtJ9dwdUj6H3PRAkEpdvIitlYW43R5wDLUKsJrVsxox48HdchU/JqaULMJx4z21sOvpBSGBOjhN1PBwGRh8MuanZSZikJ1ePKeqqfOHfnfzWX8gjnYiMIKR1NPUjKvdij2pgIPHu+6cQupMWFnZiDvLhrX+GJWMJX+qop+IiIiIfPndxMifwXuHuoOfw1LMweUr+g9+vX3bwZNP7ufguNjAqI5RRXbVm1waeScG53EHphaau9fEYbH1DSQW04C7Rba3nAbuxhxSwBqXOIzGLaQWl5FpaaBo3jTi48Zz36Tg8QUeN24/XC1fEJhymPAQ8bMLaYBA2DNc7Fz0Xe6LeYD45MfJLm/up/ruPnvcF/AD5pBFaxG2RJKSbN3PFfqMEaYRbPwSg31qMlOTErACMXmvsyc9dHeVZEobzvP7C13/gusDLXEkAh6jnzE5wxt4zoG4rw5zSup13C30WPMYqu93Z8bqSCTJYcVsmc368gws9cWkTXmI+2MmMHHRbgIzbyOYOm8WtBzD6TFwHquGuBxSlP1ERERE5CtgxOHvk/d/wYqO4IhfxHNsWZDMPSOqIZwH08rYbo0GwON9mTVvXRxpNwZnsWE3Ae3t3dMC3S3B6anDY41LBq7SnWEMXE3DmfYJWGeyvvo9fnvh32g89nPSzadZl1eN22LDZoKxeb8KCU2Bf3vSLbh2LmddXRyFdef5ffNbvLF5IYNtZmmxxWACjJBA5XWHTMH8VBJYkp/Hs2s38OxsExde3c7R4VRqTSAlBlrK9/VaI+li68MPEb+omr5H9Fmw2U1wuYX24bThaccNjI0b22947++7a3c2UO9sxwCsKes42HiO37e8y/FX0zDXrWd1VWCqZ8TUNDI5Tc2pWo5W+UnITL7No5giIiIiIp+NEYa/81TUHwqOzkxn49wfjDD4XeG9w29y7mMzD6Y+x7PBYZtTrire+3hkPRlcAqlPx8CxZ1lYUkv9qX2szivtZ6ORgVmSZpJAC0V5pdS3e3DXFLOhyjSMO5soun889y3ah8tjYO4anbKYiCCO1CUxXH51IxUuD16vB1fFEu6LeYSdoZ0zDDDaOVW+nYbBmnKkkRsDleuKqXF78Lj2sWLWAhYeuDCCJx1KBClPF5DgP0zRq00DbrDSzUZW6UJiLu9hYVouO2saqD91gKK0xym5HMPitWn9Blr7lDRMHKN+GF+S4WqgDhMpSV1Dcm4q5n+Xx7YG+mdJmc9sUwtF67bhbPfSfqqYhfMWsMZpYHYWc1/MBBZWuPCE7LZq6RomNCeSmmmirqCQCn886VN1loSIiIiIfDWMKPx98v4htgb/+p9qz+b7kSO5+wrv7M0n43cvs3BvBef+PIGs/z49OA3xEFXvXx/i/pGxL9vLvrwpGKe2U1TuIql0E31OcRiMdT5bytOwubYzf8r3mFtpI3ftcKZ9JvBs9RoczkJmJT5EfOKTVFky2FY8DwtmHPmvsS3dy4bZ3yM+4XvMWneV1FdfY4kN7Es28VRcAwUzH+De+OXUjE1m8BbtLNtdRmbEYVbO/B6TZhfidKzhYPEtPvzclkbh4rFc3lVM1TDCmdlRwMEDa0jyHGPd0wuYv/g5KtoTya/cS6Gj/+nB5qT55I71U3GgYYiAGZyOGbOSdEfXR1dxu67ivuAJ3Bsxk43Va0hybSZtykMkL67GPK+MPUts4MjjYEECzrU/ZFLCQ0xaXI0ls4z1N86sMOOYnYbJ78efMA9lPxEREZEvA4N2Vy0VJaVsqKgdeod6PLhq9rGhpJSdVQ24B5x95rmxyaGzvddfqV439VW72VBSSkWNq5/lS17czgbq65vofeuQdd8mf/WXv/zlL8Mt/P7rM5nb7gcms33heh4ZdvgLBL+FnjYALN/MZk9GFhPuPEfZz5ezAeBbxfzromRu3d4vBh6PgcUSjEHeY6xIWI573RHeGOJsuD41GWDulVmc68b3u/lL92HkDHG23sDnB/Y+w294nRzZOX7D6v+tMIJ+GafW8neLL7O+bifpA4Uu9z7mztyGo/ItCpOGrnSwd3lT71lEREREvmDaqcmZw8pjoYNJMcwrf42NKf38UdleS/asn9CjODEsPnCoz0BFe9USkvMDS79C/042nKXMnb+dltCT7mLS2LZvAykW8LoOUJRXyIEWPwOdjz1Q3bfTCHb7vIjbE3y6b07G/mmC34IsJtwBEIsjCugAPmrCTTIPDr9Dg3JtncOsUg+Ji9ewbAqcKl9PLTHkO0a+gqt38AOwZe5l38x+ylpDxtzMEYOMwA28Y6V5sK0sB6xusLb6Glb/b4UR9Ms8dR2/HWrGqm0+By/MH0Hzg3wDN/OeRUREROQLxVuznpXHrmOa8jJvbJuHtf0A2bOe48DKjaQ0biKl1598zspnOXYdppS8HdjQ0L2buTPXs6ugmqzD87v3e2g/wJqC05hMJvz+0JTnoebV7bT4kymu20mWFdorlpC8tpqiqoWkLPOzafZz1CSkMTuumtqWfjo9YN231wjCnw9P12hkZPQw1/oNFvwAzFgtCdDRBLTR/iE8+O3h92gw9mWvc9i6ja2Ve9hQD1ZHHrtL027ZNL4IWyJJX+KdQL7s/RcRERERAQ+nDhwH4ihcOw+bGbDN49mnt1BXejh4nFrP9GcOtwCXsVmDwcAagx1oMhMyI8xDTUEhdSSzuTiGlfl7QmvA8dRe9j09FkdXFUkzieM0LVf9QDhJJb8iN93C0UX9hb/B6r69bu6cv1B/cFJWUYl1bilzxoReGCr4BZgZziYqNyMCe2oeW1LzblP9IiIiIiLy+bqMsw5gEraQgQ2LJSZwzd0O9Dy3y75kE0/VZlGek4WRlQDOfVSGT2JtcffGhN6j61ldB1NKiki17WZljxoisCUlhuwIb+Cs3E0LJjJnxgFmUtKBAQ4xG7zu2+vThb8/OHm5IjewCczBl4iY+1O+PwaGG/xERERERERuhf72cbh8tZ8plQZYrFbCWxqpqmiB6wZ3J8R071Fh1LFh5WH8U15mfboVnIO1auDamkXGrgvELH596D0pRlT3rTeC3T5NmL8W/NHbwYcAd9pJtdqDB7YfYeHBl3jn0siCX/tHjcGforHeoimfIiIiIiIyGpiwjAW4iqefHTsT4+7u9YmHqpWPs+6YQXrlv/Hb5vf5bdNWUlz7yZtVTL1h4CwppNIfw1NPTyHC68UbPFPbMDw3fg7wUr9uDrNKm7Fmvsb+tQlDbCQ4krpvjxGEv2jsXRvQeJtwfwJgZsKcTeyxhQTAqowRjPidx3kl+GNE7KAHmouIiIiIiPRkwzHVBBzjlLMrPHmpP3YaMGG39U4Yl3HVASQztWtnz4gYHA7Av5+jLi9u92XgAuXzvkd8wkPEL94PQMPaHxK/sjY4mbOdo3mPM3/XBWIW7+Vg8RSG3qtzuHXfPiOY9mnGbp0OHSeBQ1Sdzea7yeHcCICHclno7j7fYjhTPT85d4SqPwd+nmpNQAN/IiIiIiIyfGaSMlcSU7mRypwszMWLsLfsZs0xIKGALAfgqWVh8k9wpr7GmdIEkmab2FW7n6ICO4XzYsBdzdYGYOxCUu0RWJ7ey76nQppw7WZ+8XHiFv+cwtkJRODlVN4ccg5ch7snkWSuY2tJXaDs2Jksy0oYYLf7CJKGrPv2GtGavzsnzmHZv5xkK1D1QSVLJuYw4evQFQC3Vy8n+2IrDGuN3xWO1lfhAmAS6Y4xgxUWERERERHpy57DnvJ2VuTtZ1f+TwAIT1zNns3BYxsMAwMI/G8EKaWHKI14lqLKQhYdADBx95TV7CvNwWEGHIk9ZySajwFgiUskyWEBPHg8wUMCrzZSWd7YXXZKDEuyEgboqBnrkHXfXiM65B3gw+N5TPwg8IAOaxn7H5/A129cNTh3/CR89wdDbu5y6Xgecz9oxAPYrWUc7FGPiIiIiIjISBjBdXNmIiJ6rb4zjH4P7za8XoiIGGKt3lfHiMMfXOHQaxms8AKYSLXvYOMj40YU3C6dfokV/3IksLmNOZ2DC1fwoHYCFRERERERuW1GsOFLlzHMeayQdAD81LiWsnDvCS79aRi3/uka71UvY25X8GMSG1Ozb2Pw83OttRlnUyvX+tnl9VYxfLex8lB+H9f7263W56N7byB/v2W+iIyOszhbfX0v+EOf57PzmX2Pn8It7WPnWf75lU0cb/3iP7eIiIiIfHo3Ef6AMTP4WUYxWWYAP/WeIiZveZJVhxto7eznz/aPr/D+8S38/ZY0Mi52bQoziY1zi3n8nts0yOprpvyJHLac7ICOd9iydDHlTf0EjU+tgxP5ZZwb8Honpwt2DHJ9eK6dLCFnaQ5LftHcq/kDPJ/6I7Y1Bf+7qYwXjnR8ytY+I50dXOknd1w78tPu5/nMDPU9fhE0sy3/La7dkro6OV5Qw12ZS0mONd2SGkPrvhW/8yIiIiJya33thRdeeOGm7gwfxwz7dGxtH/Av/9XJf9GJ69oxftn8v9hUf4h65zGqzh6i4swrPPubKv73hy7cwVutEdnsyVjFw2M+3RnzA/PjfLmIPz+zg6emxzIm9kG+P3Ms7xa8SeTcidyFj4uNb3H01H9gssRyVxjg7+Cix88fG/+ZNz/4/4i6L4o/NtVQe/L/EHbvvfw3k58rrR7wuzlR+TYXv2EhxhIG+Dh/+N/4b7OS+DZwzfUWRw+28EfLWMbcaeJ6ax1vVjXwx+goIi1RhH+tb5mhtfKb38bz//zfFho+uJNHvhsV/LyDN4reIWaqic6xj5EYBXTUc9Tzt9zf8RZHP/iEyLFjCe/TRAfnT77NifdCnj+k73++18Iff/sHvhEVxl/380zD0/WO/w+RY79B22U/3w77w413fOIP9/LA2G/gN0Xy7bCvga8N55HXabh8N3f53+W3dwafp099/4FpbCx3faNnn3v2re/zXW9txccl3vlfLYQ9dC/hXe39/utYYi18M/g9fvOhb+CsfJuLd44lJvIbfR+rw8XxQ7/i3/94N1Fj78RMsG6Tjw+qXudf//x/MT4qrOc9na1c/CNcPlbBb7/xIOPu7Of9d7Zy8Y8m/vDeAY4Gf/++Se/v5Rv8/qSPv5t1H9+8qd/hrg75udL0a04d+3ewR/NtSxThXxu8vhN/uJf7o0z9v++QdxI99k7+2M/vvIiIiIh8/m5u5K/LHeOYs+A1TqSXUPit6JCdazqpN1qpN1pDDq03/f/t3UFMlOkdx/HvZV+b9KXNvhx4OTAcGA4OaWamCXJYJxHcqGuQGBeJy27MbiWwJYuZACVKCKXE4Iaqsd3GuIa0W1up2XVNiqairdIEaCIcgIN6QA+OB2YPvnvg7YG3lx5mwGGYgUHY1Sy/T8Jl5nmf9//8n+fw/nmevEPJT2r5bM91xo+9z8+tDd15DY8Yje2hwpfykVnO8cvNlOLx4FwbV+Il7K4qYvZcE399CDiT/KlrgCm7koh5g86jpxg1yokEHvH73hHmcZi61ELfoEe4/i3yh39Nzz1n2V2fD7VxZsymoj6I90UTZ8Zc8nwl+Mw3KQ6UYBmZ2yznsbBiN8xPZJ8v/UOeD/2WhzXNaUUSTF+7Ttx/gIh5m87eEeaXfesw2nWe+1aQd6osbkVPMeUtj8sdPEnnpUnc5Jh6hi0q6oNwrW3FmDPHm8jxV852dlcVcP9cGz1DzxI5jp5n1HorsdsUu8kfJxzwZrgYvczzQDURe5Irg7EV/U31NvGVm4y56wKzXrZcZh5fbOgkPYNxyvYFsbwZLkYHmPNXE/HN0NfwNYmfm7zNl2NvUFETxD3XklgXqeI3ONl1h/ydRwhznfaORG5jQyfp+eIJvpo95A+1cWYsLSGxm3R2XGUusIeQlTm+RJvLyXm7QXvvOAukz8sA91Pyu/41vMjA8qeuy1X6S5mvjPmOfU1L7wzFVUcoi/2O08POijUvIiIiIq+HjRV/ST8tquDYh39h/Jc3GTtwnj//7BO6i+sTf4Furu65zGTjP7l3rIWasvzNuOXaDIOMz53eJLdih2ipCZBvB9jfWs3U0CQA84G97A/YFFbtpcwMEgnYFIYOsdudIQbgllPXWk6h6SPc2oB1bTzlCF6M0XslfFBfgolFoPEo7tAk84aJYZiYpsm2bG1SwpsfO8X+6I21j/Y5I3w+UU3TTnPFV6H6o1T4TAqrGjjsJGNfYhE59SkfhGwwCwjY3zDnPOTWtRJ+0Rik0PRR0XiU8OKYhks4vjTmZqxrI8lCaZV43XG+ih+haZ+ffDvAwcZqFqOc3/EudSEf+eaL2VmYuEG8Psrbfpv8wLsc3plpwCamCYZdzvELzZQa2XKZaXwANu/U7qXYZ8HEDZ7WRtkfsMkPvMfZC3tJ/C9iLx/UJtbFwQ+DTD1efnz26b07lLVGCftMCndEOW5fZzS+2HdlInc15cw56QUy2DWHeNvvI8/MFl+iTWLeDhCOO7jJ/C/Ny4dHKIWNreGkbWbKulytv6X5imdfu6aBYRgU156lZ58Fy9a8iIiIiLwuNvfc5Y/yKPKHKfKH2bWpHa/XG1juMxwgtdRccD22uQ5zPh95ix/aNsWxeFqxlW27IrWgTG/zLbHHj3h8aWCp0LF3VK67Td7OXu5mLH5Sudz/w1X89WfBdXFcD89xWSDDw3aGI5//6mjjlllORSgIgMn/cMwiljZjDRMDJxEvRUSWri3AzwgOsPirjBnjdV3m7ZQcGyarbfS6zjdYvhdFrOVL3+U0CHf/BmPoJp9FR5g1G+g5ZWXJZabxrbxfoS8lIsNkG2k7sMbKNeDGwUq5zPLBaByKVxnbSmvH90Ja/k0LCxecjazhDHLqL8va9VXS98kIdy910zf9X3Z3n6YukPutRUREROT7syk7f6+fAJF9M1wcStm5iX9NZ9cI83YJ4elxZpMfL0yP8yC0ndz2I2eYXdw+iT1k1rZSHtxLCAfeJNIY5ePWKB83HiISKnrxQJ1zm1w4eOZ2nOEBrlwa4O9jcWaHB5hIPy2ZSXySW2aUs91R6mrKKTaTcVl3uJ9M18LEbUYX4zX/zZTz4tq7VpCVB1DT2NupeHibqWQ9NTd2h4lVmuf7t/NgbPGMpcvjiUdpLVyeTrj4ahpoP3+Fj43rTMWz5DLj+Fa/3+zQbWZzeOGlL/RjRqeXksHUvTcp86993TI5xPdCWv4fTyaOUW9oDWeQU3+Z823EZ4gZlRw88Smf9+/i7vCTlf2LiIiIyGvhu3rjyitXXH+auk/b+GjQAzw8s5L2/nfJAw6f+A+dR09QHIAHMT/t/X5w0wuOTCweD57gjGEyN+1R1/8e21gsME0irZX0NbcwGipgbuIbKrrPUoZBaWiGniP9HB/oyNJmvXxEWqNLO0LPh55wxRcl4gNWnjhczi7nHaeFlt63KHYcXA92YBI50cCXXe/zkWNQWlud7Nsk0lpNX7SF6VABc9MeB/t7cyhW/dR1BzkTfZ+LnkWkNsiO1ZoHjnJ8uIWmju2Uei62XZLWwMSID9DeYRE2nzHlHaLHNinMlMuM41t5v/axkzR1FFHGI56GfkWfwVLxk01eVZT9XW20TQQpjM/g1Z6m02R9b7XMJb6UcUdad3GyoYnpHQU8Ny1KKQACG1jDmeTSX5b1bcJocwu3QkW408/YfWIvYC5b8xWrFrgiIiIi8n15iR95/+FY8GBbzqfj4vyj+SrFF6KUeV7GY4FL1vo+1zbfpfT7uw7zppUo7LxxzkQdPrpwYGn3Z325AhyHBctKHEON/Y2mawE+bw1uNGgWMFYebc2Uy5zym6W/NcPYhLnbpPlf97xsRn8vnW8REREReZV+sDt/uXjph+a1HnJzeQh+1Q/Kafd/Pj1A56BH2G8Qn36E3frZsmN/68uVy9N7/fRNWIRtjwdj33L4wnubEXTmQi1TLnPK70sUfjn3/T30weYWfjn399L5FhEREZFXaUvv/Ek6j3nXw9i0tzR6zLuQZ6owEBERERF51VT8iYiIiIiIbAE/0Ld9ioiIiIiISCoVfyIiIiIiIluAij8REREREZEtQMWfiIiIiIjIFqDiT0REREREZAtQ8SciIiIiIrIFqPgTERERERHZAlT8iYiIiIiIbAEq/kRERERERLYAFX8iIiIiIiJbwP8B7YbjmXrN7RAAAAAASUVORK5CYII=)"
   ]
  },
  {
   "cell_type": "markdown",
   "metadata": {
    "id": "MXzFqAuaiftz"
   },
   "source": [
    "\n",
    "#🌈 Why a simple linear regression model (without any activation function) is not good for classification task, compared to Perceptron/Logistic regression?"
   ]
  },
  {
   "cell_type": "markdown",
   "metadata": {
    "id": "XQ0BEPU8ifpT"
   },
   "source": [
    "Linear Regression is used to handle regression problems, \n",
    "Linear regression provides a continuous output.\n",
    "\n",
    "Logistic regression is used to handle the classification problems,\n",
    "Logistic regression provides discret output(depends on the sum of the inputs and parameters).\n",
    "\n",
    "but both are supervised.\n",
    "\n",
    "[link text](https://www.analyticsvidhya.com/blog/2020/12/beginners-take-how-logistic-regression-is-related-to-linear-regression/#:~:text=The%20Differences%20between%20Linear%20Regression,Logistic%20regression%20provides%20discreet%20output.)\n",
    "\n"
   ]
  },
  {
   "cell_type": "markdown",
   "metadata": {
    "id": "e7leWxbIifk1"
   },
   "source": [
    "#🌈What's a decision tree and how it is different to a logistic regression model?"
   ]
  },
  {
   "cell_type": "markdown",
   "metadata": {
    "id": "DGCPitdLifWu"
   },
   "source": [
    "Decision Trees are a non-parametric supervised algorithm, which used in classification and regression.\n",
    "In decision tree ,no assumptions are made on the distribution of the data.\n",
    "Logistic regression is a parametric model, in which the model is defined by having parameters ,while in logistic regression , assumptions are made on response variable, with Bernoulli or binomial distribution.\n",
    "also the main difference between them is that decision trees bisect the space into smaller and smaller regions, where as logistic regression fits a single line to bisect the space\n",
    "\n",
    "[link text](https://blog.bigml.com/2016/09/28/logistic-regression-versus-decision-trees/#:~:text=Decision%20Trees%20bisect%20the%20space,generalize%20to%20planes%20and%20hyperplanes.)\n",
    "\n"
   ]
  },
  {
   "cell_type": "markdown",
   "metadata": {
    "id": "bGp0fzfMi1Lf"
   },
   "source": [
    "#🌈What's the difference between grid search and random search?"
   ]
  },
  {
   "cell_type": "markdown",
   "metadata": {
    "id": "tuW4W15Ii1Ef"
   },
   "source": [
    "Grid search looks to every possible combination of hyperparameters to find the best model, while random search selects random and tests a random combination of hyperparameters.\n",
    "but both used to get best hyperparameter\n",
    "\n",
    "[link text](https://www.kdnuggets.com/2022/10/hyperparameter-tuning-grid-search-random-search-python.html#:~:text=While%20grid%20search%20looks%20at,of%20conducting%20an%20exhaustive%20search.)"
   ]
  },
  {
   "cell_type": "markdown",
   "metadata": {
    "id": "zUj66Pxki08O"
   },
   "source": [
    "#🌈What's the difference between bayesian search and random search?"
   ]
  },
  {
   "cell_type": "markdown",
   "metadata": {
    "id": "kaTkVIfsi01m"
   },
   "source": [
    "bayesien search: tune the algorithm to optimize its parameter in each round depended on the previous round score.\n",
    "random search:it moves in random way of search, we just try part of the parameters.The parameter values are sampled from a given list or specified distribution(so it reaches the best hyperparameters fater than the other 2 methods).\n",
    "\n",
    "[link text](https://towardsdatascience.com/bayesian-optimization-for-hyperparameter-tuning-how-and-why-655b0ee0b399)\n",
    "\n"
   ]
  },
  {
   "cell_type": "code",
   "execution_count": null,
   "metadata": {
    "id": "u7UwhPR_Mj08"
   },
   "outputs": [],
   "source": []
  }
 ],
 "metadata": {
  "accelerator": "GPU",
  "colab": {
   "provenance": []
  },
  "gpuClass": "standard",
  "kernelspec": {
   "display_name": "Python 3 (ipykernel)",
   "language": "python",
   "name": "python3"
  },
  "language_info": {
   "codemirror_mode": {
    "name": "ipython",
    "version": 3
   },
   "file_extension": ".py",
   "mimetype": "text/x-python",
   "name": "python",
   "nbconvert_exporter": "python",
   "pygments_lexer": "ipython3",
   "version": "3.9.13"
  }
 },
 "nbformat": 4,
 "nbformat_minor": 1
}
